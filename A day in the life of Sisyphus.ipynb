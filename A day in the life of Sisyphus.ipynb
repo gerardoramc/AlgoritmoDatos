{
 "cells": [
  {
   "cell_type": "markdown",
   "id": "0a04f15b",
   "metadata": {},
   "source": [
    "# Fase Beta de la entrega del reto\n",
    "### ***Secuencia***\n",
    "1. Generar frecuencias de ventas y simular una venta de 105 clientes.\n",
    "2. Tomar los volúmenes de las compras de los clientes para determinar la cantidad de camiones necesarios.\n",
    "3. Sabiendo los camiones, utilizar k-medoids para hacer los mini-tcps.\n",
    "4. Resolver los mtcps."
   ]
  },
  {
   "cell_type": "markdown",
   "id": "7e3e15cf",
   "metadata": {},
   "source": [
    "### ***Librerías***"
   ]
  },
  {
   "cell_type": "code",
   "execution_count": 32,
   "id": "7fc002af",
   "metadata": {},
   "outputs": [],
   "source": [
    "import pandas as pd\n",
    "import numpy as np\n",
    "\n",
    "import seaborn as sns\n",
    "import matplotlib.pyplot as plt\n",
    "import math\n",
    "\n",
    "from scipy.stats import poisson\n",
    "from scipy.stats import poisson\n",
    "from scipy.stats import chisquare\n",
    "\n",
    "\n",
    "from ortools.linear_solver import pywraplp\n",
    "\n",
    "from scipy.spatial.distance import cdist\n",
    "\n",
    "import time"
   ]
  },
  {
   "cell_type": "markdown",
   "id": "3d12a6bf",
   "metadata": {},
   "source": [
    "## Paso 1. Simular un pedido de 100 clientes"
   ]
  },
  {
   "cell_type": "code",
   "execution_count": 33,
   "id": "3f2aa321",
   "metadata": {},
   "outputs": [],
   "source": [
    "compras = pd.read_excel('informacion_compra.xlsx')"
   ]
  },
  {
   "cell_type": "code",
   "execution_count": 34,
   "id": "99464cd9",
   "metadata": {},
   "outputs": [
    {
     "data": {
      "text/html": [
       "<div>\n",
       "<style scoped>\n",
       "    .dataframe tbody tr th:only-of-type {\n",
       "        vertical-align: middle;\n",
       "    }\n",
       "\n",
       "    .dataframe tbody tr th {\n",
       "        vertical-align: top;\n",
       "    }\n",
       "\n",
       "    .dataframe thead th {\n",
       "        text-align: right;\n",
       "    }\n",
       "</style>\n",
       "<table border=\"1\" class=\"dataframe\">\n",
       "  <thead>\n",
       "    <tr style=\"text-align: right;\">\n",
       "      <th></th>\n",
       "      <th>Producto</th>\n",
       "      <th>Unidades</th>\n",
       "      <th>Factura</th>\n",
       "    </tr>\n",
       "  </thead>\n",
       "  <tbody>\n",
       "    <tr>\n",
       "      <th>0</th>\n",
       "      <td>48443</td>\n",
       "      <td>1</td>\n",
       "      <td>799186</td>\n",
       "    </tr>\n",
       "    <tr>\n",
       "      <th>1</th>\n",
       "      <td>42877</td>\n",
       "      <td>1</td>\n",
       "      <td>717106</td>\n",
       "    </tr>\n",
       "    <tr>\n",
       "      <th>2</th>\n",
       "      <td>48296</td>\n",
       "      <td>1</td>\n",
       "      <td>468125</td>\n",
       "    </tr>\n",
       "  </tbody>\n",
       "</table>\n",
       "</div>"
      ],
      "text/plain": [
       "   Producto   Unidades   Factura\n",
       "0     48443           1   799186\n",
       "1     42877           1   717106\n",
       "2     48296           1   468125"
      ]
     },
     "execution_count": 34,
     "metadata": {},
     "output_type": "execute_result"
    }
   ],
   "source": [
    "compras.head(3)"
   ]
  },
  {
   "cell_type": "code",
   "execution_count": 35,
   "id": "97ad2ebf",
   "metadata": {},
   "outputs": [],
   "source": [
    "facturas = []\n",
    "productos = []\n",
    "for _,i in compras.iterrows():\n",
    "    facturas += [i[2]]*i[1]\n",
    "for _,i in compras.iterrows():\n",
    "    productos += [i[0]]*i[1]\n",
    "\n",
    "compras = pd.DataFrame({\n",
    "    \"Factura\": facturas,\n",
    "    \"Producto\": productos\n",
    "})"
   ]
  },
  {
   "cell_type": "code",
   "execution_count": 36,
   "id": "0dbcfe82",
   "metadata": {},
   "outputs": [
    {
     "data": {
      "text/html": [
       "<div>\n",
       "<style scoped>\n",
       "    .dataframe tbody tr th:only-of-type {\n",
       "        vertical-align: middle;\n",
       "    }\n",
       "\n",
       "    .dataframe tbody tr th {\n",
       "        vertical-align: top;\n",
       "    }\n",
       "\n",
       "    .dataframe thead th {\n",
       "        text-align: right;\n",
       "    }\n",
       "</style>\n",
       "<table border=\"1\" class=\"dataframe\">\n",
       "  <thead>\n",
       "    <tr style=\"text-align: right;\">\n",
       "      <th></th>\n",
       "      <th>Pedidos</th>\n",
       "      <th>Frecuencia</th>\n",
       "      <th>Frecuencia ln</th>\n",
       "      <th>Poisson</th>\n",
       "      <th>valores_esperados</th>\n",
       "    </tr>\n",
       "  </thead>\n",
       "  <tbody>\n",
       "    <tr>\n",
       "      <th>0</th>\n",
       "      <td>1</td>\n",
       "      <td>19235</td>\n",
       "      <td>9.864487</td>\n",
       "      <td>0.011672</td>\n",
       "      <td>0.783311</td>\n",
       "    </tr>\n",
       "    <tr>\n",
       "      <th>1</th>\n",
       "      <td>2</td>\n",
       "      <td>3546</td>\n",
       "      <td>8.173575</td>\n",
       "      <td>0.036706</td>\n",
       "      <td>2.463277</td>\n",
       "    </tr>\n",
       "    <tr>\n",
       "      <th>2</th>\n",
       "      <td>3</td>\n",
       "      <td>1024</td>\n",
       "      <td>6.931472</td>\n",
       "      <td>0.076953</td>\n",
       "      <td>5.164178</td>\n",
       "    </tr>\n",
       "  </tbody>\n",
       "</table>\n",
       "</div>"
      ],
      "text/plain": [
       "   Pedidos  Frecuencia  Frecuencia ln   Poisson  valores_esperados\n",
       "0        1       19235       9.864487  0.011672           0.783311\n",
       "1        2        3546       8.173575  0.036706           2.463277\n",
       "2        3        1024       6.931472  0.076953           5.164178"
      ]
     },
     "execution_count": 36,
     "metadata": {},
     "output_type": "execute_result"
    }
   ],
   "source": [
    "df = compras.groupby(['Factura']).size().reset_index(name='Frequency').Frequency.value_counts()\n",
    "df = df.reset_index()\n",
    "df.columns = ['Pedidos', 'Frecuencia']\n",
    "df['Frecuencia ln'] = np.log(df['Frecuencia'])\n",
    "valor_medio = np.sum(df['Pedidos'] * df['Frecuencia ln']) / np.sum(df['Frecuencia ln'])\n",
    "df['Poisson'] = poisson.pmf(df['Pedidos'], valor_medio)\n",
    "df['valores_esperados'] = df['Poisson'] * np.sum(df['Frecuencia ln'])\n",
    "df.head(3)"
   ]
  },
  {
   "cell_type": "code",
   "execution_count": 37,
   "id": "2c86d575",
   "metadata": {},
   "outputs": [
    {
     "data": {
      "text/html": [
       "<div>\n",
       "<style scoped>\n",
       "    .dataframe tbody tr th:only-of-type {\n",
       "        vertical-align: middle;\n",
       "    }\n",
       "\n",
       "    .dataframe tbody tr th {\n",
       "        vertical-align: top;\n",
       "    }\n",
       "\n",
       "    .dataframe thead th {\n",
       "        text-align: right;\n",
       "    }\n",
       "</style>\n",
       "<table border=\"1\" class=\"dataframe\">\n",
       "  <thead>\n",
       "    <tr style=\"text-align: right;\">\n",
       "      <th></th>\n",
       "      <th>Producto</th>\n",
       "      <th>Frecuencia</th>\n",
       "      <th>Frecuencia ln</th>\n",
       "      <th>Poisson</th>\n",
       "      <th>valores_esperados</th>\n",
       "    </tr>\n",
       "  </thead>\n",
       "  <tbody>\n",
       "    <tr>\n",
       "      <th>0</th>\n",
       "      <td>1</td>\n",
       "      <td>1793</td>\n",
       "      <td>7.491645</td>\n",
       "      <td>1.565792e-11</td>\n",
       "      <td>2.886239e-09</td>\n",
       "    </tr>\n",
       "    <tr>\n",
       "      <th>1</th>\n",
       "      <td>2</td>\n",
       "      <td>779</td>\n",
       "      <td>6.658011</td>\n",
       "      <td>2.209339e-10</td>\n",
       "      <td>4.072494e-08</td>\n",
       "    </tr>\n",
       "    <tr>\n",
       "      <th>2</th>\n",
       "      <td>3</td>\n",
       "      <td>414</td>\n",
       "      <td>6.025866</td>\n",
       "      <td>2.078257e-09</td>\n",
       "      <td>3.830870e-07</td>\n",
       "    </tr>\n",
       "  </tbody>\n",
       "</table>\n",
       "</div>"
      ],
      "text/plain": [
       "   Producto  Frecuencia  Frecuencia ln       Poisson  valores_esperados\n",
       "0         1        1793       7.491645  1.565792e-11       2.886239e-09\n",
       "1         2         779       6.658011  2.209339e-10       4.072494e-08\n",
       "2         3         414       6.025866  2.078257e-09       3.830870e-07"
      ]
     },
     "execution_count": 37,
     "metadata": {},
     "output_type": "execute_result"
    }
   ],
   "source": [
    "df2 = compras.groupby(['Producto']).size().reset_index(name='Frequency').Frequency.value_counts()\n",
    "df2 = df2.reset_index()\n",
    "df2.columns = ['Producto', 'Frecuencia']\n",
    "df2['Frecuencia ln'] = np.log(df2['Frecuencia'])\n",
    "valor_medio = np.sum(df2['Producto'] * df2['Frecuencia ln']) / np.sum(df2['Frecuencia ln'])\n",
    "df2['Poisson'] = poisson.pmf(df2['Producto'], valor_medio)\n",
    "df2['valores_esperados'] = df2['Poisson'] * np.sum(df2['Frecuencia ln'])\n",
    "df2.head(3)"
   ]
  },
  {
   "cell_type": "code",
   "execution_count": 38,
   "id": "92eae964",
   "metadata": {},
   "outputs": [],
   "source": [
    "def montecarlo(df, n):  \n",
    "    resultados = []\n",
    "    for _ in range(n):\n",
    "        num = np.random.rand()\n",
    "        for j in range(len(df)):\n",
    "            if df[j][3] <= num < df[j][4]:\n",
    "                resultados.append(j)\n",
    "            \n",
    "    return resultados"
   ]
  },
  {
   "cell_type": "code",
   "execution_count": 39,
   "id": "3b3255df",
   "metadata": {},
   "outputs": [
    {
     "name": "stderr",
     "output_type": "stream",
     "text": [
      "C:\\Users\\jmanu\\AppData\\Local\\Temp\\ipykernel_2596\\3932492861.py:2: SettingWithCopyWarning: \n",
      "A value is trying to be set on a copy of a slice from a DataFrame.\n",
      "Try using .loc[row_indexer,col_indexer] = value instead\n",
      "\n",
      "See the caveats in the documentation: https://pandas.pydata.org/pandas-docs/stable/user_guide/indexing.html#returning-a-view-versus-a-copy\n",
      "  pedidos['Acumulado'] = pedidos.Poisson.cumsum()\n",
      "C:\\Users\\jmanu\\AppData\\Local\\Temp\\ipykernel_2596\\3932492861.py:3: SettingWithCopyWarning: \n",
      "A value is trying to be set on a copy of a slice from a DataFrame.\n",
      "Try using .loc[row_indexer,col_indexer] = value instead\n",
      "\n",
      "See the caveats in the documentation: https://pandas.pydata.org/pandas-docs/stable/user_guide/indexing.html#returning-a-view-versus-a-copy\n",
      "  pedidos['Inferior'] = [0] + pedidos['Acumulado'].tolist()[:-1]\n"
     ]
    }
   ],
   "source": [
    "pedidos = df[['Pedidos','Poisson']]\n",
    "pedidos['Acumulado'] = pedidos.Poisson.cumsum()\n",
    "pedidos['Inferior'] = [0] + pedidos['Acumulado'].tolist()[:-1]\n",
    "pedidos['Superior'] = pedidos['Acumulado']\n",
    "pedidos = pedidos.to_numpy()"
   ]
  },
  {
   "cell_type": "code",
   "execution_count": 40,
   "id": "fe6d629a",
   "metadata": {},
   "outputs": [],
   "source": [
    "#num_pedidos = montecarlo(pedidos,df.Frecuencia.sum())\n",
    "num_pedidos = montecarlo(pedidos,compras.size)\n"
   ]
  },
  {
   "cell_type": "code",
   "execution_count": 41,
   "id": "f6f245eb",
   "metadata": {},
   "outputs": [
    {
     "name": "stderr",
     "output_type": "stream",
     "text": [
      "C:\\Users\\jmanu\\AppData\\Local\\Temp\\ipykernel_2596\\3891866760.py:2: SettingWithCopyWarning: \n",
      "A value is trying to be set on a copy of a slice from a DataFrame.\n",
      "Try using .loc[row_indexer,col_indexer] = value instead\n",
      "\n",
      "See the caveats in the documentation: https://pandas.pydata.org/pandas-docs/stable/user_guide/indexing.html#returning-a-view-versus-a-copy\n",
      "  producto['Acumulado'] = producto.Poisson.cumsum()\n",
      "C:\\Users\\jmanu\\AppData\\Local\\Temp\\ipykernel_2596\\3891866760.py:3: SettingWithCopyWarning: \n",
      "A value is trying to be set on a copy of a slice from a DataFrame.\n",
      "Try using .loc[row_indexer,col_indexer] = value instead\n",
      "\n",
      "See the caveats in the documentation: https://pandas.pydata.org/pandas-docs/stable/user_guide/indexing.html#returning-a-view-versus-a-copy\n",
      "  producto['Inferior'] = [0] + producto['Acumulado'].tolist()[:-1]\n"
     ]
    }
   ],
   "source": [
    "producto = df2[['Producto','Poisson']]\n",
    "producto['Acumulado'] = producto.Poisson.cumsum()\n",
    "producto['Inferior'] = [0] + producto['Acumulado'].tolist()[:-1]\n",
    "producto['Superior'] = producto['Acumulado']\n",
    "producto = producto.to_numpy()"
   ]
  },
  {
   "cell_type": "code",
   "execution_count": 42,
   "id": "1d332a13",
   "metadata": {},
   "outputs": [],
   "source": [
    "envios = [np.array(montecarlo(producto, num)) for num in montecarlo(pedidos,110) if num!=0]\n",
    "envios_np = envios[:106]"
   ]
  },
  {
   "cell_type": "code",
   "execution_count": 43,
   "id": "55525239",
   "metadata": {},
   "outputs": [
    {
     "data": {
      "text/plain": [
       "array([[ -1,  -1,  -1],\n",
       "       [  0,  24,   1],\n",
       "       [  0,  25,   1],\n",
       "       ...,\n",
       "       [106,  40,   1],\n",
       "       [107,  25,   2],\n",
       "       [107,  32,   1]], dtype=int64)"
      ]
     },
     "execution_count": 43,
     "metadata": {},
     "output_type": "execute_result"
    }
   ],
   "source": [
    "enviosArreglo = np.array([[-1,-1,-1]])\n",
    "for i in range(len(envios)):\n",
    "    a = np.unique(np.array(envios[i]), return_counts=True)\n",
    "    enviosArreglo = np.concatenate((enviosArreglo, np.array([np.array([i]*len(a[0])),a[0],a[1]]).T))\n",
    "enviosArreglo"
   ]
  },
  {
   "cell_type": "code",
   "execution_count": 44,
   "id": "16a3e5e2",
   "metadata": {},
   "outputs": [],
   "source": [
    "dp = pd.read_csv('info_productos.csv')\n",
    "dp.columns = ['Producto', 'Volumen']\n",
    "nuevo_registro = {\"Producto\": 0, \"Volumen\": 0}\n",
    "dp = pd.concat([pd.DataFrame([nuevo_registro]), dp], ignore_index=True)\n",
    "VOLU = dp.to_numpy()[:,1]"
   ]
  },
  {
   "cell_type": "code",
   "execution_count": 45,
   "id": "33725aef",
   "metadata": {},
   "outputs": [],
   "source": [
    "dimensiones = []\n",
    "for pedido in envios_np:\n",
    "    acumulado = 0\n",
    "    for i in pedido:\n",
    "        acumulado += VOLU[i]\n",
    "    dimensiones.append(round(acumulado,4))"
   ]
  },
  {
   "cell_type": "code",
   "execution_count": 46,
   "id": "6b23ca23",
   "metadata": {},
   "outputs": [
    {
     "name": "stdout",
     "output_type": "stream",
     "text": [
      "Camión #  1\n",
      "Cantidad de clientes #  41\n",
      "  Clientes: [0, 1, 2, 3, 4, 5, 6, 7, 8, 9, 10, 11, 12, 13, 14, 15, 16, 17, 18, 19, 20, 21, 22, 23, 24, 25, 26, 27, 28, 29, 30, 31, 32, 34, 36, 37, 38, 41, 42, 69, 101]\n",
      "  Volumen total (m^3): 26.99\n",
      "\n",
      "Camión #  2\n",
      "Cantidad de clientes #  31\n",
      "  Clientes: [33, 35, 39, 40, 43, 44, 45, 46, 47, 48, 49, 50, 51, 52, 53, 54, 55, 56, 57, 58, 59, 60, 61, 62, 63, 64, 65, 66, 67, 74, 76]\n",
      "  Volumen total (m^3): 26.98\n",
      "\n",
      "Camión #  3\n",
      "Cantidad de clientes #  22\n",
      "  Clientes: [68, 70, 71, 72, 73, 75, 77, 78, 79, 80, 81, 82, 83, 84, 85, 86, 87, 88, 89, 90, 91, 96]\n",
      "  Volumen total (m^3): 26.95\n",
      "\n",
      "Camión #  4\n",
      "Cantidad de clientes #  12\n",
      "  Clientes: [92, 93, 94, 95, 97, 98, 99, 100, 102, 103, 104, 105]\n",
      "  Volumen total (m^3): 13.12\n",
      "\n",
      "\n",
      "Cantidad de camiones: 4\n",
      "Capacidad de los camiones: 27 m^3\n",
      "Tiempo =  532  milisegundos\n"
     ]
    }
   ],
   "source": [
    "from ortools.linear_solver import pywraplp\n",
    "\n",
    "\n",
    "def create_data_model():\n",
    "    \"\"\"Create the data for the example.\"\"\"\n",
    "    data = {}\n",
    "    weights = dimensiones\n",
    "    data[\"weights\"] = weights\n",
    "    data[\"items\"] = list(range(len(weights)))\n",
    "    data[\"bins\"] = data[\"items\"]\n",
    "    data[\"bin_capacity\"] = 27 #isuzu aprox\n",
    "    return data\n",
    "\n",
    "\n",
    "\n",
    "def main():\n",
    "    data = create_data_model()\n",
    "\n",
    "    # Create the mip solver with the SCIP backend.\n",
    "    solver = pywraplp.Solver.CreateSolver(\"SCIP\")\n",
    "\n",
    "    if not solver:\n",
    "        return\n",
    "\n",
    "    # Variables\n",
    "    # x[i, j] = 1 if item i is packed in bin j.\n",
    "    x = {}\n",
    "    for i in data[\"items\"]:\n",
    "        for j in data[\"bins\"]:\n",
    "            x[(i, j)] = solver.IntVar(0, 1, \"x_%i_%i\" % (i, j))\n",
    "\n",
    "    # y[j] = 1 if bin j is used.\n",
    "    y = {}\n",
    "    for j in data[\"bins\"]:\n",
    "        y[j] = solver.IntVar(0, 1, \"y[%i]\" % j)\n",
    "\n",
    "    # Constraints\n",
    "    # Each item must be in exactly one bin.\n",
    "    for i in data[\"items\"]:\n",
    "        solver.Add(sum(x[i, j] for j in data[\"bins\"]) == 1)\n",
    "\n",
    "    # The amount packed in each bin cannot exceed its capacity.\n",
    "    for j in data[\"bins\"]:\n",
    "        solver.Add(\n",
    "            sum(x[(i, j)] * data[\"weights\"][i] for i in data[\"items\"])\n",
    "            <= y[j] * data[\"bin_capacity\"]\n",
    "        )\n",
    "\n",
    "    # Objective: minimize the number of bins used.\n",
    "    solver.Minimize(solver.Sum([y[j] for j in data[\"bins\"]]))\n",
    "\n",
    "    status = solver.Solve()\n",
    "\n",
    "    if status == pywraplp.Solver.OPTIMAL:\n",
    "        num_bins = 0\n",
    "        for j in data[\"bins\"]:\n",
    "            if y[j].solution_value() == 1:\n",
    "                bin_items = []\n",
    "                bin_weight = 0\n",
    "                for i in data[\"items\"]:\n",
    "                    if x[i, j].solution_value() > 0:\n",
    "                        bin_items.append(i)\n",
    "                        bin_weight += data[\"weights\"][i]\n",
    "                if bin_items:\n",
    "                    num_bins += 1\n",
    "                    print(\"Camión # \", j+1)\n",
    "                    print(\"Cantidad de clientes # \", len(bin_items))\n",
    "                    print(\"  Clientes:\", bin_items)\n",
    "                    print(f\"  Volumen total (m^3): {round(bin_weight, 2)}\")\n",
    "                    print()\n",
    "        print()\n",
    "        print(\"Cantidad de camiones:\", num_bins)\n",
    "        print(\"Capacidad de los camiones:\", data[\"bin_capacity\"], \"m^3\")\n",
    "        print(\"Tiempo = \", solver.WallTime(), \" milisegundos\")\n",
    "    else:\n",
    "        print(\"No existe solución óptima.\")\n",
    "\n",
    "\n",
    "if __name__ == \"__main__\":\n",
    "    main()\n",
    " "
   ]
  },
  {
   "cell_type": "markdown",
   "id": "36780a1a",
   "metadata": {},
   "source": [
    "## Paso 3. Sabiendo los camiones necesarios, hacer clusters"
   ]
  },
  {
   "cell_type": "code",
   "execution_count": 47,
   "id": "8e9a6cce",
   "metadata": {},
   "outputs": [
    {
     "data": {
      "text/html": [
       "<div>\n",
       "<style scoped>\n",
       "    .dataframe tbody tr th:only-of-type {\n",
       "        vertical-align: middle;\n",
       "    }\n",
       "\n",
       "    .dataframe tbody tr th {\n",
       "        vertical-align: top;\n",
       "    }\n",
       "\n",
       "    .dataframe thead th {\n",
       "        text-align: right;\n",
       "    }\n",
       "</style>\n",
       "<table border=\"1\" class=\"dataframe\">\n",
       "  <thead>\n",
       "    <tr style=\"text-align: right;\">\n",
       "      <th></th>\n",
       "      <th>Distance</th>\n",
       "      <th>Duration</th>\n",
       "    </tr>\n",
       "  </thead>\n",
       "  <tbody>\n",
       "    <tr>\n",
       "      <th>0</th>\n",
       "      <td>0.00</td>\n",
       "      <td>0:00</td>\n",
       "    </tr>\n",
       "    <tr>\n",
       "      <th>1</th>\n",
       "      <td>15.26</td>\n",
       "      <td>0:22</td>\n",
       "    </tr>\n",
       "    <tr>\n",
       "      <th>2</th>\n",
       "      <td>14.93</td>\n",
       "      <td>0:17</td>\n",
       "    </tr>\n",
       "  </tbody>\n",
       "</table>\n",
       "</div>"
      ],
      "text/plain": [
       "   Distance Duration\n",
       "0      0.00     0:00\n",
       "1     15.26     0:22\n",
       "2     14.93     0:17"
      ]
     },
     "execution_count": 47,
     "metadata": {},
     "output_type": "execute_result"
    }
   ],
   "source": [
    "path = \"https://raw.githubusercontent.com/gerardoramc/AlgoritmoDatos/Gerardo/distancias_tiempos2.csv\"\n",
    "df = pd.read_csv(path)\n",
    "df.head(3)"
   ]
  },
  {
   "cell_type": "code",
   "execution_count": 48,
   "id": "e06a5aad",
   "metadata": {},
   "outputs": [
    {
     "name": "stderr",
     "output_type": "stream",
     "text": [
      "C:\\Users\\jmanu\\AppData\\Local\\Temp\\ipykernel_2596\\2034775426.py:1: UserWarning: Could not infer format, so each element will be parsed individually, falling back to `dateutil`. To ensure parsing is consistent and as-expected, please specify a format.\n",
      "  df['Duration'] = pd.to_datetime(df['Duration'])\n"
     ]
    }
   ],
   "source": [
    "df['Duration'] = pd.to_datetime(df['Duration'])\n",
    "df['Duration'] = df['Duration'].dt.strftime('%H:%M')\n",
    "df['Duration']=df['Duration'].astype('string')"
   ]
  },
  {
   "cell_type": "code",
   "execution_count": 49,
   "id": "1fb17a7e",
   "metadata": {},
   "outputs": [],
   "source": [
    "\n",
    "def convert_to_seconds(time_str):\n",
    "    hours, minutes = map(int, time_str.split(':'))\n",
    "    total_seconds = hours * 3600 + minutes * 60\n",
    "    return total_seconds\n",
    "\n",
    "# Apply the conversion function to the DataFrame column\n",
    "df['Segundos'] = df['Duration'].apply(convert_to_seconds)"
   ]
  },
  {
   "cell_type": "code",
   "execution_count": 50,
   "id": "f5c4dc05",
   "metadata": {},
   "outputs": [],
   "source": [
    "rangos = np.arange(0,11236,106)"
   ]
  },
  {
   "cell_type": "code",
   "execution_count": 51,
   "id": "7aa8871f",
   "metadata": {},
   "outputs": [
    {
     "data": {
      "text/plain": [
       "(106, 106)"
      ]
     },
     "execution_count": 51,
     "metadata": {},
     "output_type": "execute_result"
    }
   ],
   "source": [
    "cuadrada = []\n",
    "for i in range(len(rangos)-1):\n",
    "    cuadrada.append(list((df['Segundos'][rangos[i]:rangos[i+1]])))\n",
    "result_array = np.append(np.array(cuadrada), [(df['Segundos'][rangos[-1]:])], axis = 0)\n",
    "result_array.shape"
   ]
  },
  {
   "cell_type": "code",
   "execution_count": 52,
   "id": "bcb5d9f3",
   "metadata": {},
   "outputs": [],
   "source": [
    "def remove_first_row_and_column(input_array):\n",
    "    if input_array.shape[0] <= 1 or input_array.shape[1] <= 1:\n",
    "        raise ValueError(\"Input array must have at least 2 rows and 2 columns.\")\n",
    "\n",
    "    new_array = input_array[1:, 1:]\n",
    "    return new_array\n"
   ]
  },
  {
   "cell_type": "code",
   "execution_count": 53,
   "id": "5d82560d",
   "metadata": {},
   "outputs": [],
   "source": [
    "labels = [0, 1, 0, 1, 0, 0, 1, 1, 1, 1, 0, 0, 1, 0, 2, 1, 0, 1, 0, 1, 1, 1,\n",
    "       1, 2, 1, 0, 1, 0, 0, 0, 0, 0, 1, 1, 1, 0, 0, 1, 1, 0, 0, 1, 0, 1,\n",
    "       1, 1, 1, 1, 1, 1, 0, 1, 1, 1, 0, 1, 0, 0, 1, 1, 0, 0, 1, 1, 0, 1,\n",
    "       1, 1, 0, 0, 1, 0, 1, 2, 1, 0, 1, 1, 1, 1, 1, 0, 2, 0, 0, 1, 1, 0,\n",
    "       0, 1, 0, 0, 0, 0, 0, 1, 0, 0, 0, 0, 2, 0, 1, 1, 1, 1]"
   ]
  },
  {
   "cell_type": "code",
   "execution_count": 68,
   "id": "8a2493af",
   "metadata": {},
   "outputs": [],
   "source": [
    "clusters = {}"
   ]
  },
  {
   "cell_type": "code",
   "execution_count": 69,
   "id": "7be7510a",
   "metadata": {},
   "outputs": [],
   "source": [
    "my_list = np.array(labels)\n",
    "for i in range(0,3): \n",
    "    indices = np.where(my_list == i)[0]\n",
    "    #indices = np.add(1, indices)\n",
    "    clusters.update({i:indices})"
   ]
  },
  {
   "cell_type": "code",
   "execution_count": 70,
   "id": "8bc5087c",
   "metadata": {},
   "outputs": [
    {
     "data": {
      "text/plain": [
       "{0: array([  0,   2,   4,   5,  10,  11,  13,  16,  18,  25,  27,  28,  29,\n",
       "         30,  31,  35,  36,  39,  40,  42,  50,  54,  56,  57,  60,  61,\n",
       "         64,  68,  69,  71,  75,  81,  83,  84,  87,  88,  90,  91,  92,\n",
       "         93,  94,  96,  97,  98,  99, 101], dtype=int64),\n",
       " 1: array([  1,   3,   6,   7,   8,   9,  12,  15,  17,  19,  20,  21,  22,\n",
       "         24,  26,  32,  33,  34,  37,  38,  41,  43,  44,  45,  46,  47,\n",
       "         48,  49,  51,  52,  53,  55,  58,  59,  62,  63,  65,  66,  67,\n",
       "         70,  72,  74,  76,  77,  78,  79,  80,  85,  86,  89,  95, 102,\n",
       "        103, 104, 105], dtype=int64),\n",
       " 2: array([ 14,  23,  73,  82, 100], dtype=int64)}"
      ]
     },
     "execution_count": 70,
     "metadata": {},
     "output_type": "execute_result"
    }
   ],
   "source": [
    "clusters"
   ]
  },
  {
   "cell_type": "code",
   "execution_count": 57,
   "id": "47dc0bc2",
   "metadata": {},
   "outputs": [
    {
     "data": {
      "text/plain": [
       "{0: [2.8959,\n",
       "  0.6896,\n",
       "  0.1834,\n",
       "  0.2005,\n",
       "  3.4283,\n",
       "  0.0275,\n",
       "  1.6,\n",
       "  0.3827,\n",
       "  0.0483,\n",
       "  0.0626,\n",
       "  0.9853,\n",
       "  0.1935,\n",
       "  1.6395,\n",
       "  0.958,\n",
       "  1.0486,\n",
       "  1.908,\n",
       "  0.0148,\n",
       "  1.908,\n",
       "  0.4259,\n",
       "  0.2896,\n",
       "  0.307,\n",
       "  0.5322,\n",
       "  0.1163,\n",
       "  0.1799,\n",
       "  0.1853,\n",
       "  0.055,\n",
       "  0.2192,\n",
       "  1.9217,\n",
       "  0.0136,\n",
       "  1.2347,\n",
       "  0.1883,\n",
       "  1.0428,\n",
       "  0.2875,\n",
       "  1.3045,\n",
       "  1.5391,\n",
       "  1.2662,\n",
       "  0.2148,\n",
       "  1.7082,\n",
       "  0.6777,\n",
       "  1.026,\n",
       "  0.3446,\n",
       "  0.1461,\n",
       "  3.5183,\n",
       "  1.2079,\n",
       "  2.8844,\n",
       "  0.0191],\n",
       " 1: [0.307,\n",
       "  1.8341,\n",
       "  0.9222,\n",
       "  0.3153,\n",
       "  1.6085,\n",
       "  0.0361,\n",
       "  0.0029,\n",
       "  0.0661,\n",
       "  0.0162,\n",
       "  1.9236,\n",
       "  0.0802,\n",
       "  1.3223,\n",
       "  0.2311,\n",
       "  1.0113,\n",
       "  0.3433,\n",
       "  1.0103,\n",
       "  1.9812,\n",
       "  0.0898,\n",
       "  0.5456,\n",
       "  0.5921,\n",
       "  0.0137,\n",
       "  1.6107,\n",
       "  0.1638,\n",
       "  0.156,\n",
       "  0.176,\n",
       "  0.1645,\n",
       "  0.922,\n",
       "  0.9158,\n",
       "  0.4137,\n",
       "  0.9178,\n",
       "  0.4234,\n",
       "  2.3099,\n",
       "  0.8956,\n",
       "  1.8545,\n",
       "  1.2248,\n",
       "  1.6009,\n",
       "  0.2621,\n",
       "  4.35,\n",
       "  0.3266,\n",
       "  3.6713,\n",
       "  1.6178,\n",
       "  0.4481,\n",
       "  0.0293,\n",
       "  1.6426,\n",
       "  0.3584,\n",
       "  2.907,\n",
       "  1.9983,\n",
       "  0.0939,\n",
       "  1.2324,\n",
       "  1.057,\n",
       "  1.3342,\n",
       "  0.9907,\n",
       "  0.4498,\n",
       "  0.1037,\n",
       "  0.183],\n",
       " 2: [0.0415, 0.0009, 0.5897, 0.9236, 0.4004],\n",
       " 3: [],\n",
       " 4: [],\n",
       " 5: [],\n",
       " 6: [],\n",
       " 7: []}"
      ]
     },
     "execution_count": 57,
     "metadata": {},
     "output_type": "execute_result"
    }
   ],
   "source": [
    "vol_por_clus = {}\n",
    "\n",
    "for clave, indices in clusters.items():\n",
    "    pesos = [dimensiones[indice] for indice in indices]\n",
    "    vol_por_clus[clave] = pesos\n",
    "\n",
    "vol_por_clus"
   ]
  },
  {
   "cell_type": "code",
   "execution_count": 58,
   "id": "a3620d2a",
   "metadata": {},
   "outputs": [
    {
     "name": "stdout",
     "output_type": "stream",
     "text": [
      "**********CLUSTER # 1**********\n",
      "\n",
      "Número de camiones requeridos: 3\n",
      "\n",
      "Valor total empaquetado: 41.03\n",
      "\n",
      "*** CAMIÓN # 1 ***\n",
      "Capacidad: 27\n",
      "Clientes empacados: 0, 2, 4, 5, 10, 11, 13, 16, 18, 25, 27, 28, 29, 30, 31, 35, 36, 39, 40, 42\n",
      "Volumen empaquetado en el camión: 18.89\n",
      "\n",
      "*** CAMIÓN # 2 ***\n",
      "Capacidad: 27\n",
      "Clientes empacados: 50, 54, 56, 57, 60, 61, 64, 68, 69, 71, 75, 81, 83, 84, 87, 88, 90, 91, 92, 93\n",
      "Volumen empaquetado en el camión: 14.02\n",
      "\n",
      "*** CAMIÓN # 3 ***\n",
      "Capacidad: 27\n",
      "Clientes empacados: 94, 96, 97, 98, 99, 101\n",
      "Volumen empaquetado en el camión: 8.1204\n",
      "\n",
      "**********CLUSTER # 2**********\n",
      "\n",
      "Número de camiones requeridos: 3\n",
      "\n",
      "Valor total empaquetado: 51.06\n",
      "\n",
      "*** CAMIÓN # 1 ***\n",
      "Capacidad: 27\n",
      "Clientes empacados: 1, 3, 6, 7, 8, 9, 12, 15, 17, 19, 20, 21, 22, 24, 26, 32, 33, 34, 37, 38\n",
      "Volumen empaquetado en el camión: 14.2392\n",
      "\n",
      "*** CAMIÓN # 2 ***\n",
      "Capacidad: 27\n",
      "Clientes empacados: 41, 43, 44, 45, 46, 47, 48, 49, 51, 52, 53, 55, 58, 59, 62, 63, 65, 66, 67, 70\n",
      "Volumen empaquetado en el camión: 22.3731\n",
      "\n",
      "*** CAMIÓN # 3 ***\n",
      "Capacidad: 27\n",
      "Clientes empacados: 72, 74, 76, 77, 78, 79, 80, 85, 86, 89, 95, 102, 103, 104, 105\n",
      "Volumen empaquetado en el camión: 14.4462\n",
      "\n",
      "**********CLUSTER # 3**********\n",
      "\n",
      "Número de camiones requeridos: 1\n",
      "\n",
      "Valor total empaquetado: 1.96\n",
      "\n",
      "*** CAMIÓN # 1 ***\n",
      "Capacidad: 27\n",
      "Clientes empacados: 14, 23, 73, 82, 100\n",
      "Volumen empaquetado en el camión: 1.9561\n",
      "\n",
      "**********CLUSTER # 4**********\n",
      "\n",
      "Número de camiones requeridos: 0\n",
      "\n",
      "Valor total empaquetado: 0.0\n",
      "\n",
      "**********CLUSTER # 5**********\n",
      "\n",
      "Número de camiones requeridos: 0\n",
      "\n",
      "Valor total empaquetado: 0.0\n",
      "\n",
      "**********CLUSTER # 6**********\n",
      "\n",
      "Número de camiones requeridos: 0\n",
      "\n",
      "Valor total empaquetado: 0.0\n",
      "\n",
      "**********CLUSTER # 7**********\n",
      "\n",
      "Número de camiones requeridos: 0\n",
      "\n",
      "Valor total empaquetado: 0.0\n",
      "\n",
      "**********CLUSTER # 8**********\n",
      "\n",
      "Número de camiones requeridos: 0\n",
      "\n",
      "Valor total empaquetado: 0.0\n",
      "\n",
      "Camiones totales usados: 7\n",
      "0.0 segundos\n"
     ]
    }
   ],
   "source": [
    "multiplier = 1\n",
    "trucks_used = 0\n",
    "start_time=time.time()\n",
    "chamions = []\n",
    "for clave, volumenes in vol_por_clus.items():\n",
    "\n",
    "    print(f\"**********CLUSTER # {clave + 1 }**********\\n\")\n",
    "    incomplete = True\n",
    "    while incomplete:\n",
    "        data = {}\n",
    "        data[\"weights\"] = volumenes\n",
    "        #data[\"values\"] = len(data[\"weights\"]) * [1]\n",
    "        data[\"values\"] =  volumenes\n",
    "        sum_of_all_weights = sum(data[\"weights\"])\n",
    "\n",
    "        assert len(data[\"weights\"]) == len(data[\"values\"])\n",
    "        data[\"num_items\"] = len(data[\"weights\"])\n",
    "        data[\"all_items\"] = range(data[\"num_items\"])\n",
    "\n",
    "        data[\"bin_capacities\"] = [27] * multiplier\n",
    "        data[\"num_bins\"] = len(data[\"bin_capacities\"])\n",
    "        data[\"all_bins\"] = range(data[\"num_bins\"])\n",
    "\n",
    "        solver = pywraplp.Solver.CreateSolver(\"SCIP\")\n",
    "\n",
    "        # x[i, b] = 1 if item i is packed in bin b.\n",
    "        x = {}\n",
    "        for i in data[\"all_items\"]:\n",
    "            for b in data[\"all_bins\"]:\n",
    "                x[i, b] = solver.BoolVar(f\"x_{i}_{b}\")\n",
    "\n",
    "        # Each item is assigned to at most one bin.\n",
    "        for i in data[\"all_items\"]:\n",
    "            solver.Add(sum(x[i, b] for b in data[\"all_bins\"]) <= 1)\n",
    "\n",
    "        # The amount packed in each bin cannot exceed its capacity.\n",
    "        for b in data[\"all_bins\"]:\n",
    "            solver.Add(\n",
    "                sum(x[i, b] * data[\"weights\"][i] for i in data[\"all_items\"])\n",
    "                <= data[\"bin_capacities\"][b])\n",
    "        \n",
    "        # Each bin must contain at least 2 items\n",
    "        for b in data[\"all_bins\"]:\n",
    "            solver.Add(sum(x[i, b] for i in data[\"all_items\"]) <= 20)\n",
    "            \n",
    "         # Each bin must contain at most 20 items\n",
    "        '''for b in data[\"all_bins\"]:\n",
    "            solver.Add(sum(x[i, b] for i in data[\"all_items\"]) <= 20)'''\n",
    "        \n",
    "        # Maximize total value of packed items.\n",
    "        objective = solver.Objective()\n",
    "        for i in data[\"all_items\"]:\n",
    "            for b in data[\"all_bins\"]:\n",
    "                objective.SetCoefficient(x[i, b], data[\"values\"][i])\n",
    "        objective.SetMaximization()\n",
    "\n",
    "        start_time=time.time()\n",
    "        status = solver.Solve()\n",
    "\n",
    "        if status == pywraplp.Solver.OPTIMAL:\n",
    "\n",
    "            unused_items = [i for i in data[\"all_items\"] if all(x[i, b].solution_value() == 0 for b in data[\"all_bins\"])]\n",
    "\n",
    "\n",
    "            used_bins = [b for b in data[\"all_bins\"] if any(x[i, b].solution_value() > 0 for i in data[\"all_items\"])]\n",
    "            if len(unused_items) != 0:\n",
    "                multiplier += 1\n",
    "\n",
    "            if len(unused_items) == 0:\n",
    "\n",
    "                print(f\"Número de camiones requeridos: {len(used_bins)}\\n\")\n",
    "\n",
    "                print(f\"Valor total empaquetado: {round(objective.Value(), 2)}\\n\")\n",
    "\n",
    "                max_value_bin = None\n",
    "                max_value = 0\n",
    "                total_weight = 0\n",
    "                total_value = 0\n",
    "                for b in used_bins:\n",
    "                    print(f\"*** CAMIÓN # {b+1} ***\")\n",
    "                    print(f'Capacidad: {data[\"bin_capacities\"][b]}')\n",
    "                    bin_weight = 0\n",
    "                    bin_value = 0\n",
    "                    packed_items = []\n",
    "                    for i in data[\"all_items\"]:\n",
    "                        if x[i, b].solution_value() > 0:\n",
    "                            packed_items.append(str(clusters[clave][i]))\n",
    "                            bin_weight += data[\"weights\"][i]\n",
    "                            bin_value += data[\"values\"][i]\n",
    "                    print(f\"Clientes empacados: {', '.join(packed_items)}\")\n",
    "                    print(f\"Volumen empaquetado en el camión: {round(bin_weight, 4)}\\n\")\n",
    "                    #print(f\"Valor empaquetado del camión: {bin_value}\\n\")\n",
    "                    total_value += bin_value\n",
    "                    total_weight += bin_weight\n",
    "                    if bin_value > max_value:\n",
    "                        max_value = bin_value\n",
    "                        max_value_bin = b\n",
    "                    chamions.append([int(x) for x in packed_items])\n",
    "\n",
    "                trucks_used += len(used_bins)\n",
    "                incomplete = False\n",
    "\n",
    "            # Print solution for the new bin (if exists)\n",
    "\n",
    "        else:\n",
    "            print(\"No existe solución óptima.\")\n",
    "\n",
    "end_time=time.time()-start_time\n",
    "\n",
    "print(f\"Camiones totales usados: {trucks_used}\")\n",
    "print(f\"{end_time} segundos\")\n"
   ]
  },
  {
   "cell_type": "code",
   "execution_count": 59,
   "id": "370c0d29",
   "metadata": {},
   "outputs": [
    {
     "name": "stdout",
     "output_type": "stream",
     "text": [
      "0\n",
      "1\n",
      "2\n",
      "3\n",
      "4\n",
      "5\n",
      "6\n"
     ]
    }
   ],
   "source": [
    "my_dict = dict(zip(range(trucks_used), chamions))\n",
    "mini_tcps = []\n",
    "for i in my_dict:\n",
    "    print(i)\n",
    "    i = list(my_dict[i]) + [0]\n",
    "    mini_tcps.append(result_array[i,:][:,i])"
   ]
  },
  {
   "cell_type": "code",
   "execution_count": 60,
   "id": "3cad27a2",
   "metadata": {},
   "outputs": [
    {
     "data": {
      "text/plain": [
       "[0]"
      ]
     },
     "execution_count": 60,
     "metadata": {},
     "output_type": "execute_result"
    }
   ],
   "source": [
    "[0]"
   ]
  },
  {
   "cell_type": "markdown",
   "id": "179e9d26",
   "metadata": {},
   "source": [
    "## TSP en recursivos (o VRPs)"
   ]
  },
  {
   "cell_type": "markdown",
   "id": "68fb84ab",
   "metadata": {},
   "source": [
    "### Implementacion en los datos (CON LIBRERIA)"
   ]
  },
  {
   "cell_type": "code",
   "execution_count": 71,
   "id": "be4c982a",
   "metadata": {},
   "outputs": [
    {
     "name": "stdout",
     "output_type": "stream",
     "text": [
      "[12, 7, 18, 9, 10, 8, 11, 20, 15, 0, 5, 3, 14, 4, 17, 16, 13, 6, 1, 19, 2]\n",
      "8100\n",
      "[0, 10, 18, 4, 12, 9, 17, 16, 19, 6, 3, 1, 14, 7, 11, 5, 13, 15, 20, 8, 2]\n",
      "18240\n",
      "[0, 3, 2, 4, 5, 1, 6]\n",
      "21660\n",
      "[5, 20, 17, 8, 19, 14, 4, 11, 1, 3, 7, 13, 18, 16, 6, 15, 2, 0, 9, 12, 10]\n",
      "34680\n",
      "34680\n",
      "[19, 9, 12, 10, 5, 1, 11, 4, 18, 13, 3, 7, 16, 6, 15, 0, 2, 14, 8, 17, 20]\n",
      "10860\n",
      "[12, 16, 11, 19, 10, 1, 20, 18, 7, 14, 2, 6, 8, 3, 0, 4, 5, 15, 17, 13, 9]\n",
      "20880\n",
      "[0, 12, 7, 4, 6, 5, 8, 9, 14, 2, 10, 3, 13, 11, 1, 15]\n",
      "30720\n",
      "30720\n",
      "[0, 12, 7, 4, 6, 5, 8, 9, 14, 2, 10, 3, 13, 11, 1, 15]\n",
      "9840\n",
      "[0, 4, 3, 2, 5, 1]\n",
      "17460\n"
     ]
    }
   ],
   "source": [
    "from tsp_solver.util import path_cost\n",
    "import fast_tsp\n",
    "\n",
    "#28800 segundos son 8 horas\n",
    "\n",
    "Turno = 0\n",
    "turnos = [1]\n",
    "ordenTSP = []\n",
    "\n",
    "tsp = len(mini_tcps)\n",
    "i = 0\n",
    "while True:\n",
    "    if  Turno <= 28800 and i < len(mini_tcps):\n",
    "        tour = fast_tsp.find_tour(mini_tcps[i], duration_seconds=0.01)\n",
    "        print(tour)\n",
    "        Turno = Turno + path_cost(mini_tcps[i], tour)\n",
    "        print(Turno)\n",
    "        i = i+1\n",
    "    elif i < tsp:\n",
    "        print(Turno)\n",
    "        i = i-1\n",
    "        Turno = 0\n",
    "        turnos.append(1)\n",
    "    else:\n",
    "        break\n",
    "        "
   ]
  },
  {
   "cell_type": "code",
   "execution_count": 72,
   "id": "b4de1a8f",
   "metadata": {},
   "outputs": [
    {
     "data": {
      "text/plain": [
       "3"
      ]
     },
     "execution_count": 72,
     "metadata": {},
     "output_type": "execute_result"
    }
   ],
   "source": [
    "len(turnos)"
   ]
  }
 ],
 "metadata": {
  "kernelspec": {
   "display_name": "Python 3 (ipykernel)",
   "language": "python",
   "name": "python3"
  },
  "language_info": {
   "codemirror_mode": {
    "name": "ipython",
    "version": 3
   },
   "file_extension": ".py",
   "mimetype": "text/x-python",
   "name": "python",
   "nbconvert_exporter": "python",
   "pygments_lexer": "ipython3",
   "version": "3.10.10"
  }
 },
 "nbformat": 4,
 "nbformat_minor": 5
}
