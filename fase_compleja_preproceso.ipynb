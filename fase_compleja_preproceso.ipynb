{
 "cells": [
  {
   "cell_type": "markdown",
   "metadata": {},
   "source": [
    "## Approach Ln"
   ]
  },
  {
   "cell_type": "code",
   "execution_count": null,
   "metadata": {},
   "outputs": [],
   "source": [
    "import pandas as pd\n",
    "import numpy as np\n",
    "import seaborn as sns\n",
    "import matplotlib.pyplot as plt\n",
    "import math\n",
    "from scipy.stats import poisson\n",
    "from scipy.stats import poisson\n",
    "from scipy.stats import chisquare"
   ]
  },
  {
   "cell_type": "code",
   "execution_count": null,
   "metadata": {},
   "outputs": [],
   "source": [
    "compras = pd.read_excel('informacion_compra.xlsx')"
   ]
  },
  {
   "cell_type": "code",
   "execution_count": null,
   "metadata": {},
   "outputs": [],
   "source": [
    "compras"
   ]
  },
  {
   "cell_type": "code",
   "execution_count": null,
   "metadata": {},
   "outputs": [],
   "source": [
    "facturas = []\n",
    "productos = []\n",
    "for _,i in compras.iterrows():\n",
    "    facturas += [i[2]]*i[1]\n",
    "for _,i in compras.iterrows():\n",
    "    productos += [i[0]]*i[1]\n",
    "\n",
    "compras = pd.DataFrame({\n",
    "    \"Factura\": facturas,\n",
    "    \"Producto\": productos\n",
    "})"
   ]
  },
  {
   "cell_type": "code",
   "execution_count": null,
   "metadata": {},
   "outputs": [],
   "source": [
    "df = compras.groupby(['Factura']).size().reset_index(name='Frequency').Frequency.value_counts()\n",
    "df = df.reset_index()\n",
    "df.columns = ['Pedidos', 'Frecuencia']\n",
    "df['Frecuencia ln'] = np.log(df['Frecuencia'])\n",
    "valor_medio = np.sum(df['Pedidos'] * df['Frecuencia ln']) / np.sum(df['Frecuencia ln'])\n",
    "df['Poisson'] = poisson.pmf(df['Pedidos'], valor_medio)\n",
    "df['valores_esperados'] = df['Poisson'] * np.sum(df['Frecuencia ln'])\n",
    "df"
   ]
  },
  {
   "cell_type": "code",
   "execution_count": null,
   "metadata": {},
   "outputs": [],
   "source": [
    "# Set the style of the plot\n",
    "sns.set(style=\"whitegrid\")\n",
    "\n",
    "# Create a figure and axis\n",
    "plt.figure(figsize=(8, 5))\n",
    "\n",
    "# Plot the first set of bars with higher transparency\n",
    "sns.barplot(x='Pedidos', y='Poisson', data=df, alpha=0.6, label='Datos Distribuidos en Poisson')\n",
    "\n",
    "#sns.barplot(x='Pedidos', y='Frecuencia', data=df, alpha=0.6, label = 'Original')\n",
    "\n",
    "# Plot the second set of bars with lower transparency\n",
    "#sns.barplot(x='Pedidos', y='Frecuencia ln', data=df, alpha=0.3, label='Valores')\n",
    "\n",
    "# Add labels and title\n",
    "plt.xlabel('Pedidos')\n",
    "plt.ylabel('ln(Conteo)')\n",
    "plt.title('Distribución poisson')\n",
    "\n",
    "# Show legend\n",
    "plt.legend()\n",
    "\n",
    "# Show the plot\n",
    "plt.show()\n"
   ]
  },
  {
   "cell_type": "markdown",
   "metadata": {},
   "source": [
    "### Distribución de productos"
   ]
  },
  {
   "cell_type": "code",
   "execution_count": null,
   "metadata": {},
   "outputs": [],
   "source": [
    "df2 = compras.groupby(['Producto']).size().reset_index(name='Frequency').Frequency.value_counts()\n",
    "df2 = df2.reset_index()\n",
    "df2.columns = ['Producto', 'Frecuencia']\n",
    "df2['Frecuencia ln'] = np.log(df2['Frecuencia'])\n",
    "valor_medio = np.sum(df2['Producto'] * df2['Frecuencia ln']) / np.sum(df2['Frecuencia ln'])\n",
    "df2['Poisson'] = poisson.pmf(df2['Producto'], valor_medio)\n",
    "df2['valores_esperados'] = df2['Poisson'] * np.sum(df2['Frecuencia ln'])\n",
    "display(df2)"
   ]
  },
  {
   "cell_type": "code",
   "execution_count": null,
   "metadata": {},
   "outputs": [],
   "source": [
    "sns.set(style=\"whitegrid\")\n",
    "\n",
    "# Create a figure and axis\n",
    "plt.figure(figsize=(8, 5))\n",
    "\n",
    "# Plot the first set of bars with higher transparency\n",
    "sns.barplot(x='Producto', y='Poisson', data=df2, alpha=0.6, label='Datos Distribuidos en Poisson')\n",
    "\n",
    "#sns.barplot(x='Pedidos', y='Frecuencia', data=df, alpha=0.6, label = 'Original')\n",
    "\n",
    "# Plot the second set of bars with lower transparency\n",
    "#sns.barplot(x='Pedidos', y='Frecuencia ln', data=df, alpha=0.3, label='Valores')\n",
    "\n",
    "# Add labels and title\n",
    "plt.xlabel('Pedidos')\n",
    "plt.ylabel('ln(Conteo)')\n",
    "plt.title('Distribución poisson')\n",
    "\n",
    "# Show legend\n",
    "plt.legend()\n",
    "\n",
    "# Show the plot\n",
    "plt.show()"
   ]
  },
  {
   "cell_type": "markdown",
   "metadata": {},
   "source": [
    "## Generación de pedidos"
   ]
  },
  {
   "cell_type": "code",
   "execution_count": null,
   "metadata": {},
   "outputs": [],
   "source": [
    "def montecarlo(df, n):  \n",
    "    resultados = []\n",
    "    for _ in range(n):\n",
    "        num = np.random.rand()\n",
    "        for j in range(len(df)):\n",
    "            if df[j][3] <= num < df[j][4]:\n",
    "                resultados.append(j)\n",
    "            \n",
    "    return resultados"
   ]
  },
  {
   "cell_type": "code",
   "execution_count": null,
   "metadata": {},
   "outputs": [],
   "source": [
    "pedidos = df[['Pedidos','Poisson']]\n",
    "pedidos['Acumulado'] = pedidos.Poisson.cumsum()\n",
    "pedidos['Inferior'] = [0] + pedidos['Acumulado'].tolist()[:-1]\n",
    "pedidos['Superior'] = pedidos['Acumulado']\n",
    "pedidos = pedidos.to_numpy()"
   ]
  },
  {
   "cell_type": "code",
   "execution_count": null,
   "metadata": {},
   "outputs": [],
   "source": [
    "num_pedidos = montecarlo(pedidos,df.Frecuencia.sum())\n",
    "#num_pedidos = montecarlo(pedidos,compras.size)\n"
   ]
  },
  {
   "cell_type": "code",
   "execution_count": null,
   "metadata": {},
   "outputs": [],
   "source": [
    "producto = df2[['Producto','Poisson']]\n",
    "producto['Acumulado'] = producto.Poisson.cumsum()\n",
    "producto['Inferior'] = [0] + producto['Acumulado'].tolist()[:-1]\n",
    "producto['Superior'] = producto['Acumulado']\n",
    "producto = producto.to_numpy()"
   ]
  },
  {
   "cell_type": "code",
   "execution_count": null,
   "metadata": {},
   "outputs": [],
   "source": [
    "envios = [np.array(montecarlo(producto, num)) for num in montecarlo(pedidos,df.Frecuencia.sum()) if num!=0]\n",
    "envios_np = envios"
   ]
  },
  {
   "cell_type": "code",
   "execution_count": null,
   "metadata": {},
   "outputs": [],
   "source": [
    "enviosArreglo = np.array([[-1,-1,-1]])\n",
    "for i in range(len(envios)):\n",
    "    a = np.unique(np.array(envios[i]), return_counts=True)\n",
    "    enviosArreglo = np.concatenate((enviosArreglo, np.array([np.array([i]*len(a[0])),a[0],a[1]]).T))\n",
    "enviosArreglo"
   ]
  },
  {
   "cell_type": "code",
   "execution_count": null,
   "metadata": {},
   "outputs": [],
   "source": [
    "envios = pd.DataFrame(enviosArreglo[1:], columns = ['Factura', 'Producto', 'Unidades'])"
   ]
  },
  {
   "cell_type": "markdown",
   "metadata": {},
   "source": [
    "## Prueba Con Gráficas"
   ]
  },
  {
   "cell_type": "code",
   "execution_count": null,
   "metadata": {},
   "outputs": [],
   "source": [
    "df3 = envios.groupby(['Factura']).size().reset_index(name='Frequency').Frequency.value_counts()\n",
    "df3 = df3.reset_index()\n",
    "df3.columns = ['Pedidos', 'Frecuencia']\n",
    "valor_medio = np.sum(df3['Pedidos'] * df3['Frecuencia']) / np.sum(df3['Frecuencia'])\n",
    "df3['Poisson'] = poisson.pmf(df3['Pedidos'], valor_medio)\n",
    "df3['valores_esperados'] = df3['Poisson'] * np.sum(df3['Frecuencia'])\n",
    "df3"
   ]
  },
  {
   "cell_type": "code",
   "execution_count": null,
   "metadata": {},
   "outputs": [],
   "source": [
    "sum((list(df3.sort_values(by=\"Pedidos\").Poisson-df.sort_values(by=\"Pedidos\").Poisson))[:16])/16"
   ]
  },
  {
   "cell_type": "code",
   "execution_count": null,
   "metadata": {},
   "outputs": [],
   "source": [
    "# Set the style of the plot\n",
    "sns.set(style=\"whitegrid\")\n",
    "\n",
    "# Create a figure and axis\n",
    "plt.figure(figsize=(8, 5))\n",
    "\n",
    "# Plot the first set of bars with higher transparency\n",
    "sns.barplot(x='Pedidos', y='Poisson', data=df, alpha=0.6, label='Original',color='darkorange')\n",
    "\n",
    "sns.barplot(x='Pedidos', y='Poisson', data=df3, alpha=0.6, label = 'Simulación',color='steelblue')\n",
    "\n",
    "# Plot the second set of bars with lower transparency\n",
    "#sns.barplot(x='Pedidos', y='Frecuencia ln', data=df, alpha=0.3, label='Valores')\n",
    "\n",
    "# Add labels and title\n",
    "plt.xlabel('Pedidos')\n",
    "plt.ylabel('Probabilidad')\n",
    "plt.title('Distribución de probabilidad')\n",
    "\n",
    "# Show legend\n",
    "plt.legend()\n",
    "\n",
    "# Show the plot\n",
    "plt.show()"
   ]
  },
  {
   "cell_type": "markdown",
   "metadata": {},
   "source": [
    "## Costo de envíos"
   ]
  },
  {
   "cell_type": "code",
   "execution_count": null,
   "metadata": {},
   "outputs": [],
   "source": [
    "dp = pd.read_csv('info_productos.csv')\n",
    "dp.columns = ['Producto', 'Volumen']\n",
    "nuevo_registro = {\"Producto\": 0, \"Volumen\": 0}\n",
    "dp = pd.concat([pd.DataFrame([nuevo_registro]), dp], ignore_index=True)\n",
    "volumenes = dp.to_numpy()[:,1]"
   ]
  },
  {
   "cell_type": "code",
   "execution_count": null,
   "metadata": {},
   "outputs": [],
   "source": [
    "dimensiones = []\n",
    "for pedido in envios_np:\n",
    "    acumulado = 0\n",
    "    for i in pedido:\n",
    "        acumulado += volumenes[i]\n",
    "    dimensiones.append(acumulado)"
   ]
  },
  {
   "cell_type": "code",
   "execution_count": null,
   "metadata": {},
   "outputs": [],
   "source": [
    "dimensiones"
   ]
  },
  {
   "cell_type": "code",
   "execution_count": null,
   "metadata": {},
   "outputs": [],
   "source": [
    "display(envios.groupby('Factura'))"
   ]
  }
 ],
 "metadata": {
  "kernelspec": {
   "display_name": "Python 3 (ipykernel)",
   "language": "python",
   "name": "python3"
  },
  "language_info": {
   "codemirror_mode": {
    "name": "ipython",
    "version": 3
   },
   "file_extension": ".py",
   "mimetype": "text/x-python",
   "name": "python",
   "nbconvert_exporter": "python",
   "pygments_lexer": "ipython3",
   "version": "3.8.16"
  }
 },
 "nbformat": 4,
 "nbformat_minor": 2
}
