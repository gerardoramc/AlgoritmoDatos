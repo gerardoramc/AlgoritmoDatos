{
 "cells": [
  {
   "cell_type": "markdown",
   "id": "97fe020c",
   "metadata": {},
   "source": [
    "# Mochila Única "
   ]
  },
  {
   "cell_type": "code",
   "execution_count": 2,
   "id": "d190684c",
   "metadata": {},
   "outputs": [],
   "source": [
    "# First things first\n",
    "from ortools.algorithms.python import knapsack_solver"
   ]
  },
  {
   "cell_type": "markdown",
   "id": "f5d92031",
   "metadata": {},
   "source": [
    "### Datos del problema\n",
    "\n",
    "- **weights**: conjunto que contiene los volúmenes de los productos.\n",
    "- **values**: conjunto que contiene los valores/precios de los productos.\n",
    "- **capacities**: vector único con la capacidad de la mochila (camión)."
   ]
  },
  {
   "cell_type": "code",
   "execution_count": 3,
   "id": "d5fd3fea",
   "metadata": {},
   "outputs": [],
   "source": [
    "values = [\n",
    "  360, 83, 59, 130, 431, 67, 230, 52, 93, 125, 670, 892, 600, 38, 48, 147,\n",
    "  78, 256, 63, 17, 120, 164, 432, 35, 92, 110, 22, 42, 50, 323, 514, 28,\n",
    "  87, 73, 78, 15, 26, 78, 210, 36, 85, 189, 274, 43, 33, 10, 19, 389, 276,\n",
    "  312\n",
    "]\n",
    "\n",
    "weights = [\n",
    "  [7, 0, 30, 22, 80, 94, 11, 81, 70, 64, 59, 18, 0, 36, 3, 8, 15, 42, 9, 0,\n",
    "   42, 47, 52, 32, 26, 48, 55, 6, 29, 84, 2, 4, 18, 56, 7, 29, 93, 44, 71,\n",
    "   3, 86, 66, 31, 65, 0, 79, 20, 65, 52, 13]\n",
    "]\n",
    "\n",
    "capacities = [850]"
   ]
  },
  {
   "cell_type": "markdown",
   "id": "41241c58",
   "metadata": {},
   "source": [
    "### Instanciar un solver "
   ]
  },
  {
   "cell_type": "code",
   "execution_count": 4,
   "id": "11850943",
   "metadata": {},
   "outputs": [],
   "source": [
    "solver = knapsack_solver.KnapsackSolver(\n",
    "    knapsack_solver.SolverType.KNAPSACK_MULTIDIMENSION_BRANCH_AND_BOUND_SOLVER,\n",
    "    \"KnapsackExample\",\n",
    ")"
   ]
  },
  {
   "cell_type": "markdown",
   "id": "d6042442",
   "metadata": {},
   "source": [
    "### Configurar el solver y llamarlo"
   ]
  },
  {
   "cell_type": "code",
   "execution_count": 5,
   "id": "618ed0f8",
   "metadata": {},
   "outputs": [
    {
     "name": "stdout",
     "output_type": "stream",
     "text": [
      "Valor Total = 7534\n",
      "Volumen Total (m^3) = 850\n",
      "\n",
      "Productos empaquetados: [0, 1, 3, 4, 6, 10, 11, 12, 14, 15, 16, 17, 18, 19, 21, 22, 24, 27, 28, 29, 30, 31, 32, 34, 38, 39, 41, 42, 44, 47, 48, 49]\n",
      "\n",
      "Volúmenes empaquetados: [7, 0, 22, 80, 11, 59, 18, 0, 3, 8, 15, 42, 9, 0, 47, 52, 26, 6, 29, 84, 2, 4, 18, 7, 71, 3, 66, 31, 0, 65, 52, 13]\n"
     ]
    }
   ],
   "source": [
    "solver.init(values, weights, capacities)\n",
    "computed_value = solver.solve()\n",
    "packed_items = []\n",
    "packed_weights = []\n",
    "total_weight = 0\n",
    "print(f\"Valor Total = {computed_value}\")\n",
    "for i in range(len(values)):\n",
    "    if solver.best_solution_contains(i):\n",
    "        packed_items.append(i)\n",
    "        packed_weights.append(weights[0][i])\n",
    "        total_weight += weights[0][i]\n",
    "print(f\"Volumen Total (m^3) = {total_weight}\")\n",
    "print(f\"\\nProductos empaquetados: {packed_items}\")\n",
    "print(f\"\\nVolúmenes empaquetados: {packed_weights}\")"
   ]
  },
  {
   "cell_type": "markdown",
   "id": "00aab247",
   "metadata": {},
   "source": [
    "# Multi Mochila\n",
    "\n",
    "Empacar un subconjunto de los artículos en un número fijo de contenedores, con capacidades variables, de modo que el valor total de los artículos empaquetados sea un máximo."
   ]
  },
  {
   "cell_type": "code",
   "execution_count": 6,
   "id": "9bd37601",
   "metadata": {},
   "outputs": [],
   "source": [
    "from ortools.linear_solver import pywraplp"
   ]
  },
  {
   "cell_type": "markdown",
   "id": "f677d1d0",
   "metadata": {},
   "source": [
    "### Datos del problema\n",
    "\n",
    "- **weights**: lista que contiene los volúmenes de los productos.\n",
    "- **values**: lista que contiene los valores/precios de los productos.\n",
    "- **capacities**: lista con la capacidad de todas la mochilas (camiones).\n",
    "\n",
    "Nota: todos los valores deben ser enteros."
   ]
  },
  {
   "cell_type": "code",
   "execution_count": 7,
   "id": "acb2a286",
   "metadata": {},
   "outputs": [],
   "source": [
    "data = {}\n",
    "data[\"weights\"] = [48, 30, 42, 36, 36, 48, 42, 42, 36, 24, 30, 30, 42, 36, 36] \n",
    "data[\"values\"] = [10, 30, 25, 50, 35, 30, 15, 40, 30, 35, 45, 10, 20, 30, 25]\n",
    "sum_of_all_weights = sum(data[\"weights\"])\n",
    "\n",
    "assert len(data[\"weights\"]) == len(data[\"values\"])\n",
    "data[\"num_items\"] = len(data[\"weights\"])\n",
    "data[\"all_items\"] = range(data[\"num_items\"])\n",
    "\n",
    "data[\"bin_capacities\"] = [100, 100, 100, 100, 100]\n",
    "data[\"num_bins\"] = len(data[\"bin_capacities\"])\n",
    "data[\"all_bins\"] = range(data[\"num_bins\"])"
   ]
  },
  {
   "cell_type": "markdown",
   "id": "d2d095d7",
   "metadata": {},
   "source": [
    "### Instanciar un solver"
   ]
  },
  {
   "cell_type": "code",
   "execution_count": 8,
   "id": "20b016c5",
   "metadata": {},
   "outputs": [],
   "source": [
    "solver = pywraplp.Solver.CreateSolver(\"SCIP\")"
   ]
  },
  {
   "cell_type": "markdown",
   "id": "719fd24e",
   "metadata": {},
   "source": [
    "### Crear las variables binarias\n",
    "\n",
    "Cada x[(i, j)] es una variable 0-1, donde i es un elemento y j es una mochila. En la solución, x[(i, j)] será 1 si el elemento i se coloca en el contenedor j, y 0 en caso contrario."
   ]
  },
  {
   "cell_type": "code",
   "execution_count": 9,
   "id": "2ac43b76",
   "metadata": {},
   "outputs": [],
   "source": [
    "# x[i, b] = 1 if item i is packed in bin b.\n",
    "x = {}\n",
    "for i in data[\"all_items\"]:\n",
    "    for b in data[\"all_bins\"]:\n",
    "        x[i, b] = solver.BoolVar(f\"x_{i}_{b}\")"
   ]
  },
  {
   "cell_type": "markdown",
   "id": "066cda86",
   "metadata": {},
   "source": [
    "### Restricciones \n",
    "\n",
    "Se agregan al solver con solver.Add()"
   ]
  },
  {
   "cell_type": "code",
   "execution_count": 5,
   "id": "73b23274",
   "metadata": {},
   "outputs": [
    {
     "data": {
      "text/plain": [
       "'# Each item has to be shipped\\nfor i in data[\"all_items\"]:\\n    solver.Add(sum(x[i, b] for b in data[\"all_bins\"]) == 1)'"
      ]
     },
     "execution_count": 5,
     "metadata": {},
     "output_type": "execute_result"
    }
   ],
   "source": [
    "# Each item is assigned to at most one bin.\n",
    "for i in data[\"all_items\"]:\n",
    "    solver.Add(sum(x[i, b] for b in data[\"all_bins\"]) <= 1)\n",
    "\n",
    "# The amount packed in each bin cannot exceed its capacity.\n",
    "for b in data[\"all_bins\"]:\n",
    "    solver.Add(\n",
    "        sum(x[i, b] * data[\"weights\"][i] for i in data[\"all_items\"])\n",
    "        <= data[\"bin_capacities\"][b])\n",
    "    \n",
    "for b in data[\"all_bins\"]:\n",
    "        solver.Add(sum(x[i, b] * data[\"values\"][i] for i in data[\"all_items\"])\n",
    "        <= data[\"bin_capacities\"][b])\n",
    "    \n",
    "'''# Each item has to be shipped\n",
    "for i in data[\"all_items\"]:\n",
    "    solver.Add(sum(x[i, b] for b in data[\"all_bins\"]) == 1)'''"
   ]
  },
  {
   "cell_type": "code",
   "execution_count": 11,
   "id": "247e265f",
   "metadata": {},
   "outputs": [
    {
     "data": {
      "text/plain": [
       "<ortools.linear_solver.linear_solver_natural_api.ProductCst at 0x215dbe83f10>"
      ]
     },
     "execution_count": 11,
     "metadata": {},
     "output_type": "execute_result"
    }
   ],
   "source": [
    "x[1, b] * data[\"values\"][1]"
   ]
  },
  {
   "cell_type": "code",
   "execution_count": 1,
   "id": "dc6646e2",
   "metadata": {},
   "outputs": [
    {
     "ename": "NameError",
     "evalue": "name 'data' is not defined",
     "output_type": "error",
     "traceback": [
      "\u001b[1;31m---------------------------------------------------------------------------\u001b[0m",
      "\u001b[1;31mNameError\u001b[0m                                 Traceback (most recent call last)",
      "Cell \u001b[1;32mIn[1], line 1\u001b[0m\n\u001b[1;32m----> 1\u001b[0m \u001b[43mdata\u001b[49m\n",
      "\u001b[1;31mNameError\u001b[0m: name 'data' is not defined"
     ]
    }
   ],
   "source": [
    "data"
   ]
  },
  {
   "cell_type": "markdown",
   "id": "c12847c3",
   "metadata": {},
   "source": [
    "### Objetivo (maximizar o minimizar)"
   ]
  },
  {
   "cell_type": "code",
   "execution_count": 6,
   "id": "0110b316",
   "metadata": {},
   "outputs": [],
   "source": [
    "# Maximize total value of packed items.\n",
    "objective = solver.Objective()\n",
    "for i in data[\"all_items\"]:\n",
    "    for b in data[\"all_bins\"]:\n",
    "        objective.SetCoefficient(x[i, b], data[\"values\"][i])\n",
    "objective.SetMaximization()"
   ]
  },
  {
   "cell_type": "code",
   "execution_count": 21,
   "id": "ef5531d1",
   "metadata": {},
   "outputs": [
    {
     "data": {
      "text/plain": [
       "'objective = solver.Objective()\\nfor b in data[\"all_bins\"]:\\n    for i in data[\"all_items\"]:\\n        objective.SetCoefficient(x[i, b], 1)  # Coefficient set to 1 for each item in each bin\\nobjective.SetMinimization()  # Set the objective to minimization'"
      ]
     },
     "execution_count": 21,
     "metadata": {},
     "output_type": "execute_result"
    }
   ],
   "source": [
    "# Minimize the number of used bins.\n",
    "'''objective = solver.Objective()\n",
    "for b in data[\"all_bins\"]:\n",
    "    for i in data[\"all_items\"]:\n",
    "        objective.SetCoefficient(x[i, b], 1)  # Coefficient set to 1 for each item in each bin\n",
    "objective.SetMinimization()  # Set the objective to minimization'''"
   ]
  },
  {
   "cell_type": "markdown",
   "id": "dc2f31f2",
   "metadata": {},
   "source": [
    "### Configurar el solver y llamarlo"
   ]
  },
  {
   "cell_type": "code",
   "execution_count": 7,
   "id": "be354ebd",
   "metadata": {
    "scrolled": true
   },
   "outputs": [
    {
     "name": "stdout",
     "output_type": "stream",
     "text": [
      "Número de camiones requeridos: 5\n",
      "\n",
      "Valor total empaquetado: 395.0\n",
      "\n",
      "*** CAMIÓN # 1 ***\n",
      "Productos empacados: 4, 9, 14\n",
      "Volumen empaquetado en el camión: 96\n",
      "Valor empaquetado del camión: 95\n",
      "\n",
      "*** CAMIÓN # 2 ***\n",
      "Productos empacados: 1, 8, 10\n",
      "Volumen empaquetado en el camión: 96\n",
      "Valor empaquetado del camión: 105\n",
      "\n",
      "*** CAMIÓN # 3 ***\n",
      "Productos empacados: 2, 5\n",
      "Volumen empaquetado en el camión: 90\n",
      "Valor empaquetado del camión: 55\n",
      "\n",
      "*** CAMIÓN # 4 ***\n",
      "Productos empacados: 7, 13\n",
      "Volumen empaquetado en el camión: 78\n",
      "Valor empaquetado del camión: 70\n",
      "\n",
      "*** CAMIÓN # 5 ***\n",
      "Productos empacados: 3, 12\n",
      "Volumen empaquetado en el camión: 78\n",
      "Valor empaquetado del camión: 70\n",
      "\n",
      "Volumen total empacado: 438\n",
      "Volumen no empacado: 120\n",
      "\n",
      "*** CAMIÓN DE SOBRANTES # 6 ***\n",
      "Productos: 0, 6, 11\n",
      "Volumen empaquetado en el camión de sobrantes: 120\n",
      "Valor empaquetado del camión de sobrantes: 35\n",
      "\n",
      "Camión más valioso: 2 (Valor: 105)\n"
     ]
    }
   ],
   "source": [
    "status = solver.Solve()\n",
    "\n",
    "if status == pywraplp.Solver.OPTIMAL:\n",
    "    \n",
    "    print(f\"Número de camiones requeridos: {sum(1 for b in data['all_bins'] if any(x[i, b].solution_value() > 0 for i in data['all_items']))}\\n\")\n",
    "\n",
    "    print(f\"Valor total empaquetado: {objective.Value()}\\n\")\n",
    "    \n",
    "    max_value_bin = None\n",
    "    max_value = 0\n",
    "    total_weight = 0\n",
    "    total_value = 0\n",
    "    for b in data[\"all_bins\"]:\n",
    "        print(f\"*** CAMIÓN # {b+1} ***\")\n",
    "        bin_weight = 0\n",
    "        bin_value = 0\n",
    "        packed_items = []\n",
    "        for i in data[\"all_items\"]:\n",
    "            if x[i, b].solution_value() > 0:\n",
    "                packed_items.append(str(i))  # Agregar el índice del producto a la lista\n",
    "                bin_weight += data[\"weights\"][i]\n",
    "                bin_value += data[\"values\"][i]\n",
    "        print(f\"Productos empacados: {', '.join(packed_items)}\")  # Imprimir la lista de productos\n",
    "        print(f\"Volumen empaquetado en el camión: {bin_weight}\")\n",
    "        print(f\"Valor empaquetado del camión: {bin_value}\\n\")\n",
    "        total_value += bin_value\n",
    "        total_weight += bin_weight\n",
    "        if bin_value > max_value:\n",
    "            max_value = bin_value\n",
    "            max_value_bin = b\n",
    "        \n",
    "    print(f\"Volumen total empacado: {total_weight}\")\n",
    "    print(f\"Volumen no empacado: {sum_of_all_weights - total_weight}\")\n",
    "    \n",
    "    \n",
    "    \n",
    "    # Print solution for the new bin (if exists)\n",
    "    \n",
    "    unused_items = [i for i in data[\"all_items\"] if all(x[i, b].solution_value() == 0 for b in data[\"all_bins\"])]\n",
    "\n",
    "    if unused_items:\n",
    "        print(f\"\\n*** CAMIÓN DE SOBRANTES # {b+2} ***\")\n",
    "        bin_weight = 0\n",
    "        bin_value = 0\n",
    "        packed_items = []\n",
    "        for i in unused_items:\n",
    "            packed_items.append(str(i))  # Agregar el índice del producto a la lista\n",
    "            bin_weight += data[\"weights\"][i]\n",
    "            bin_value += data[\"values\"][i]\n",
    "        \n",
    "        print(f\"Productos: {', '.join(packed_items)}\")\n",
    "        print(f\"Volumen empaquetado en el camión de sobrantes: {bin_weight}\")\n",
    "        print(f\"Valor empaquetado del camión de sobrantes: {bin_value}\\n\")\n",
    "\n",
    "    else:\n",
    "        print(\"No hay camión extra.\")\n",
    "        \n",
    "    # Print solution for the bin with the highest value\n",
    "    if max_value_bin is not None:\n",
    "        print(f\"Camión más valioso: {max_value_bin+1} (Valor: {max_value})\")\n",
    "        \n",
    "else:\n",
    "    print(\"No existe solución óptima.\")"
   ]
  },
  {
   "cell_type": "code",
   "execution_count": 8,
   "id": "c818b594",
   "metadata": {
    "scrolled": true
   },
   "outputs": [
    {
     "data": {
      "text/plain": [
       "430"
      ]
     },
     "execution_count": 8,
     "metadata": {},
     "output_type": "execute_result"
    }
   ],
   "source": [
    "sum(data[\"values\"])"
   ]
  },
  {
   "cell_type": "code",
   "execution_count": null,
   "id": "55c63865",
   "metadata": {},
   "outputs": [],
   "source": []
  }
 ],
 "metadata": {
  "kernelspec": {
   "display_name": "Python 3 (ipykernel)",
   "language": "python",
   "name": "python3"
  },
  "language_info": {
   "codemirror_mode": {
    "name": "ipython",
    "version": 3
   },
   "file_extension": ".py",
   "mimetype": "text/x-python",
   "name": "python",
   "nbconvert_exporter": "python",
   "pygments_lexer": "ipython3",
   "version": "3.8.16"
  }
 },
 "nbformat": 4,
 "nbformat_minor": 5
}
