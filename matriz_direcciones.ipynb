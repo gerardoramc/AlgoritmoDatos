{
 "cells": [
  {
   "cell_type": "code",
   "execution_count": 2,
   "metadata": {},
   "outputs": [],
   "source": [
    "import pandas as pd\n",
    "import numpy as np"
   ]
  },
  {
   "cell_type": "code",
   "execution_count": 3,
   "metadata": {},
   "outputs": [
    {
     "data": {
      "text/html": [
       "<div>\n",
       "<style scoped>\n",
       "    .dataframe tbody tr th:only-of-type {\n",
       "        vertical-align: middle;\n",
       "    }\n",
       "\n",
       "    .dataframe tbody tr th {\n",
       "        vertical-align: top;\n",
       "    }\n",
       "\n",
       "    .dataframe thead th {\n",
       "        text-align: right;\n",
       "    }\n",
       "</style>\n",
       "<table border=\"1\" class=\"dataframe\">\n",
       "  <thead>\n",
       "    <tr style=\"text-align: right;\">\n",
       "      <th></th>\n",
       "      <th>Distance</th>\n",
       "      <th>Duration</th>\n",
       "    </tr>\n",
       "  </thead>\n",
       "  <tbody>\n",
       "    <tr>\n",
       "      <th>0</th>\n",
       "      <td>0.000</td>\n",
       "      <td>0:00</td>\n",
       "    </tr>\n",
       "    <tr>\n",
       "      <th>1</th>\n",
       "      <td>15.260</td>\n",
       "      <td>0:22</td>\n",
       "    </tr>\n",
       "    <tr>\n",
       "      <th>2</th>\n",
       "      <td>14.930</td>\n",
       "      <td>0:17</td>\n",
       "    </tr>\n",
       "    <tr>\n",
       "      <th>3</th>\n",
       "      <td>23.420</td>\n",
       "      <td>0:33</td>\n",
       "    </tr>\n",
       "    <tr>\n",
       "      <th>4</th>\n",
       "      <td>9.490</td>\n",
       "      <td>0:12</td>\n",
       "    </tr>\n",
       "    <tr>\n",
       "      <th>...</th>\n",
       "      <td>...</td>\n",
       "      <td>...</td>\n",
       "    </tr>\n",
       "    <tr>\n",
       "      <th>11231</th>\n",
       "      <td>38.365</td>\n",
       "      <td>00:44</td>\n",
       "    </tr>\n",
       "    <tr>\n",
       "      <th>11232</th>\n",
       "      <td>9.674</td>\n",
       "      <td>00:24</td>\n",
       "    </tr>\n",
       "    <tr>\n",
       "      <th>11233</th>\n",
       "      <td>12.298</td>\n",
       "      <td>00:27</td>\n",
       "    </tr>\n",
       "    <tr>\n",
       "      <th>11234</th>\n",
       "      <td>5.247</td>\n",
       "      <td>00:17</td>\n",
       "    </tr>\n",
       "    <tr>\n",
       "      <th>11235</th>\n",
       "      <td>0.000</td>\n",
       "      <td>00:00</td>\n",
       "    </tr>\n",
       "  </tbody>\n",
       "</table>\n",
       "<p>11236 rows × 2 columns</p>\n",
       "</div>"
      ],
      "text/plain": [
       "       Distance Duration\n",
       "0         0.000     0:00\n",
       "1        15.260     0:22\n",
       "2        14.930     0:17\n",
       "3        23.420     0:33\n",
       "4         9.490     0:12\n",
       "...         ...      ...\n",
       "11231    38.365    00:44\n",
       "11232     9.674    00:24\n",
       "11233    12.298    00:27\n",
       "11234     5.247    00:17\n",
       "11235     0.000    00:00\n",
       "\n",
       "[11236 rows x 2 columns]"
      ]
     },
     "execution_count": 3,
     "metadata": {},
     "output_type": "execute_result"
    }
   ],
   "source": [
    "df = pd.read_csv('distancias_tiempos2.csv')\n",
    "df"
   ]
  },
  {
   "cell_type": "code",
   "execution_count": 66,
   "metadata": {},
   "outputs": [],
   "source": [
    "df['Duration'] = pd.to_datetime(df['Duration'])"
   ]
  },
  {
   "cell_type": "code",
   "execution_count": 67,
   "metadata": {},
   "outputs": [],
   "source": [
    "df['Duration'] = df['Duration'].dt.strftime('%H:%M')"
   ]
  },
  {
   "cell_type": "code",
   "execution_count": 68,
   "metadata": {},
   "outputs": [],
   "source": [
    "df['Duration']=df['Duration'].astype('string')"
   ]
  },
  {
   "cell_type": "code",
   "execution_count": 69,
   "metadata": {},
   "outputs": [
    {
     "data": {
      "text/plain": [
       "00:16    459\n",
       "00:14    453\n",
       "00:20    439\n",
       "00:22    425\n",
       "00:18    415\n",
       "        ... \n",
       "01:37      2\n",
       "01:32      2\n",
       "01:36      1\n",
       "01:42      1\n",
       "01:35      1\n",
       "Name: Duration, Length: 98, dtype: Int64"
      ]
     },
     "execution_count": 69,
     "metadata": {},
     "output_type": "execute_result"
    }
   ],
   "source": [
    "df['Duration'].value_counts()"
   ]
  },
  {
   "cell_type": "code",
   "execution_count": 71,
   "metadata": {},
   "outputs": [
    {
     "name": "stdout",
     "output_type": "stream",
     "text": [
      "       Distance Duration  Segundos\n",
      "0         0.000    00:00         0\n",
      "1        15.260    00:22      1320\n",
      "2        14.930    00:17      1020\n",
      "3        23.420    00:33      1980\n",
      "4         9.490    00:12       720\n",
      "...         ...      ...       ...\n",
      "11231    38.365    00:44      2640\n",
      "11232     9.674    00:24      1440\n",
      "11233    12.298    00:27      1620\n",
      "11234     5.247    00:17      1020\n",
      "11235     0.000    00:00         0\n",
      "\n",
      "[11236 rows x 3 columns]\n"
     ]
    }
   ],
   "source": [
    "\n",
    "def convert_to_seconds(time_str):\n",
    "    hours, minutes = map(int, time_str.split(':'))\n",
    "    total_seconds = hours * 3600 + minutes * 60\n",
    "    return total_seconds\n",
    "\n",
    "# Apply the conversion function to the DataFrame column\n",
    "df['Segundos'] = df['Duration'].apply(convert_to_seconds)\n",
    "\n",
    "print(df)"
   ]
  },
  {
   "cell_type": "code",
   "execution_count": null,
   "metadata": {},
   "outputs": [
    {
     "data": {
      "text/plain": [
       "array([['Depot', 'Depot', 0.0, '00:00:00', 0],\n",
       "       ['Depot', 'Customer 1', 15.264, '00:22:00', 1320],\n",
       "       ['Depot', 'Customer 2', 14.929, '00:17:00', 1020],\n",
       "       ...,\n",
       "       ['Customer 48', 'Customer 103', 3.988, '00:11:00', 660],\n",
       "       ['Customer 48', 'Customer 104', 8.956, '00:20:00', 1200],\n",
       "       ['Customer 48', 'Customer 105', 15.076, '00:25:00', 1500]],\n",
       "      dtype=object)"
      ]
     },
     "execution_count": 6,
     "metadata": {},
     "output_type": "execute_result"
    }
   ],
   "source": [
    "df.to_numpy()"
   ]
  },
  {
   "cell_type": "code",
   "execution_count": 4,
   "metadata": {},
   "outputs": [
    {
     "data": {
      "text/plain": [
       "array([    0,   106,   212,   318,   424,   530,   636,   742,   848,\n",
       "         954,  1060,  1166,  1272,  1378,  1484,  1590,  1696,  1802,\n",
       "        1908,  2014,  2120,  2226,  2332,  2438,  2544,  2650,  2756,\n",
       "        2862,  2968,  3074,  3180,  3286,  3392,  3498,  3604,  3710,\n",
       "        3816,  3922,  4028,  4134,  4240,  4346,  4452,  4558,  4664,\n",
       "        4770,  4876,  4982,  5088,  5194,  5300,  5406,  5512,  5618,\n",
       "        5724,  5830,  5936,  6042,  6148,  6254,  6360,  6466,  6572,\n",
       "        6678,  6784,  6890,  6996,  7102,  7208,  7314,  7420,  7526,\n",
       "        7632,  7738,  7844,  7950,  8056,  8162,  8268,  8374,  8480,\n",
       "        8586,  8692,  8798,  8904,  9010,  9116,  9222,  9328,  9434,\n",
       "        9540,  9646,  9752,  9858,  9964, 10070, 10176, 10282, 10388,\n",
       "       10494, 10600, 10706, 10812, 10918, 11024, 11130])"
      ]
     },
     "execution_count": 4,
     "metadata": {},
     "output_type": "execute_result"
    }
   ],
   "source": [
    "rangos = np.arange(0,11236,106)\n",
    "rangos"
   ]
  },
  {
   "cell_type": "code",
   "execution_count": 74,
   "metadata": {},
   "outputs": [
    {
     "data": {
      "text/plain": [
       "(106, 106)"
      ]
     },
     "execution_count": 74,
     "metadata": {},
     "output_type": "execute_result"
    }
   ],
   "source": [
    "cuadrada = []\n",
    "for i in range(len(rangos)-1):\n",
    "    cuadrada.append(list((df['Segundos'][rangos[i]:rangos[i+1]])))\n",
    "result_array = np.append(np.array(cuadrada), [(df['Segundos'][rangos[-1]:])], axis = 0)\n",
    "result_array.shape"
   ]
  },
  {
   "cell_type": "code",
   "execution_count": 75,
   "metadata": {},
   "outputs": [
    {
     "data": {
      "text/plain": [
       "array([[   0, 1320, 1020, ..., 1320, 1680, 2520],\n",
       "       [1320,    0, 1380, ...,  360, 1320, 1620],\n",
       "       [1200, 1440,    0, ..., 1440, 1680, 2520],\n",
       "       ...,\n",
       "       [1260,  360, 1320, ...,    0, 1320, 1860],\n",
       "       [1800, 1320, 1680, ..., 1440,    0,  660],\n",
       "       [2220, 1560, 2700, ..., 1620, 1020,    0]], dtype=int64)"
      ]
     },
     "execution_count": 75,
     "metadata": {},
     "output_type": "execute_result"
    }
   ],
   "source": [
    "result_array"
   ]
  },
  {
   "cell_type": "code",
   "execution_count": 6,
   "metadata": {},
   "outputs": [
    {
     "data": {
      "text/plain": [
       "array([[ 0.   , 15.26 , 14.93 , ..., 15.16 , 24.76 , 31.94 ],\n",
       "       [15.51 ,  0.   , 17.55 , ...,  1.86 , 10.65 , 16.77 ],\n",
       "       [11.67 , 18.11 ,  0.   , ..., 18.01 , 23.91 , 31.09 ],\n",
       "       ...,\n",
       "       [15.121,  2.167, 17.156, ...,  0.   , 15.432, 18.173],\n",
       "       [26.424, 10.423, 24.087, ..., 11.239,  0.   ,  8.665],\n",
       "       [32.06 , 11.135, 26.674, ..., 12.298,  5.247,  0.   ]])"
      ]
     },
     "execution_count": 6,
     "metadata": {},
     "output_type": "execute_result"
    }
   ],
   "source": [
    "cuadrada = []\n",
    "for i in range(len(rangos)-1):\n",
    "    cuadrada.append(list((df['Distance'][rangos[i]:rangos[i+1]])))\n",
    "resulta_array = np.append(np.array(cuadrada), [(df['Distance'][rangos[-1]:])], axis = 0)\n",
    "resulta_array"
   ]
  },
  {
   "cell_type": "code",
   "execution_count": 14,
   "metadata": {},
   "outputs": [
    {
     "data": {
      "text/plain": [
       "<bound method DataFrame.to_numpy of      Latitude (y)  Longitude (x)\n",
       "0       25.686514    -100.273998\n",
       "1       25.743325    -100.354555\n",
       "2       25.625977    -100.304001\n",
       "3       25.763782    -100.408236\n",
       "4       25.636985    -100.287403\n",
       "..            ...            ...\n",
       "101     25.644937    -100.278932\n",
       "102     25.737479    -100.408655\n",
       "103     25.745256    -100.343669\n",
       "104     25.762550    -100.425484\n",
       "105     25.799771    -100.412473\n",
       "\n",
       "[106 rows x 2 columns]>"
      ]
     },
     "execution_count": 14,
     "metadata": {},
     "output_type": "execute_result"
    }
   ],
   "source": [
    "dm = pd.read_csv('lat_lon.csv')\n",
    "dm.to_numpy"
   ]
  },
  {
   "cell_type": "code",
   "execution_count": 12,
   "metadata": {},
   "outputs": [
    {
     "data": {
      "text/plain": [
       "[(25.6865137, -100.2739976),\n",
       " (25.7433246, -100.3545548),\n",
       " (25.6259766, -100.304001),\n",
       " (25.7637822, -100.4082355),\n",
       " (25.6369853, -100.2874034),\n",
       " (25.6649542, -100.2953957),\n",
       " (25.7465622, -100.3473322),\n",
       " (25.7717833, -100.4039948),\n",
       " (25.8002997, -100.4110857),\n",
       " (25.7425771, -100.4049836),\n",
       " (25.6492493, -100.3028621),\n",
       " (25.6780351, -100.2992577),\n",
       " (25.754633, -100.382495),\n",
       " (25.6297501, -100.3375475),\n",
       " (25.2127681, -99.83258),\n",
       " (25.7699915, -100.3986161),\n",
       " (25.647045, -100.2856077),\n",
       " (25.73872, -100.3333461),\n",
       " (25.701343, -100.2986862),\n",
       " (25.7253013, -100.3591209),\n",
       " (25.7325628, -100.3830169),\n",
       " (25.8178916, -100.5373418),\n",
       " (25.7427168, -100.3797585),\n",
       " (25.4300108, -100.1508695),\n",
       " (25.7825339, -100.3933068),\n",
       " (25.6914273, -100.2928825),\n",
       " (25.7396138, -100.3392873),\n",
       " (25.694308, -100.3042185),\n",
       " (25.6966125, -100.2902852),\n",
       " (25.6385131, -100.2856473),\n",
       " (25.6719931, -100.366999),\n",
       " (25.6559027, -100.302269),\n",
       " (25.756333, -100.3621005),\n",
       " (25.7599235, -100.3872246),\n",
       " (25.7336326, -100.3207445),\n",
       " (25.6865137, -100.2739976),\n",
       " (25.6579827, -100.3265621),\n",
       " (25.7814793, -100.3798753),\n",
       " (25.7351037, -100.3346325),\n",
       " (25.6607797, -100.3272415),\n",
       " (25.6379841, -100.2729656),\n",
       " (25.7548245, -100.4059526),\n",
       " (25.6301968, -100.2907933),\n",
       " (25.7395696, -100.3392613),\n",
       " (25.7421525, -100.3577074),\n",
       " (25.7702251, -100.4041951),\n",
       " (25.755379, -100.4205468),\n",
       " (25.7259173, -100.4003178),\n",
       " (25.7461751, -100.3707675),\n",
       " (25.7532298, -100.3520294),\n",
       " (25.6844232, -100.2887965),\n",
       " (25.7676482, -100.3954121),\n",
       " (25.7256291, -100.3764684),\n",
       " (25.7408677, -100.3247693),\n",
       " (25.6519962, -100.2795403),\n",
       " (25.71391, -100.3443278),\n",
       " (25.7154147, -100.2050209),\n",
       " (25.6492493, -100.3028621),\n",
       " (25.724145, -100.3615627),\n",
       " (25.7177288, -100.3726234),\n",
       " (25.6914807, -100.3017996),\n",
       " (25.5832941, -100.2492319),\n",
       " (25.76291, -100.3633512),\n",
       " (25.7435749, -100.3869804),\n",
       " (25.6596456, -100.2999489),\n",
       " (25.7216485, -100.360691),\n",
       " (25.7169158, -100.3647423),\n",
       " (25.7461782, -100.3520905),\n",
       " (25.6315552, -100.2746911),\n",
       " (25.7004023, -100.2629422),\n",
       " (25.7253709, -100.3415492),\n",
       " (25.7015208, -100.3314757),\n",
       " (25.7253013, -100.3591209),\n",
       " (25.4240929, -100.1536179),\n",
       " (25.725793, -100.3843201),\n",
       " (25.6874132, -100.2888193),\n",
       " (25.7822689, -100.4365748),\n",
       " (25.7922801, -100.5194317),\n",
       " (25.7582011, -100.3718269),\n",
       " (25.7575003, -100.4060833),\n",
       " (25.75795, -100.3871574),\n",
       " (25.6315552, -100.2746911),\n",
       " (25.4226, -100.1502883),\n",
       " (25.6984067, -100.3167065),\n",
       " (25.5772288, -100.2805574),\n",
       " (25.7540662, -100.3650584),\n",
       " (25.7831808, -100.390676),\n",
       " (25.6449373, -100.2789318),\n",
       " (25.6593767, -100.3296811),\n",
       " (25.7831808, -100.390676),\n",
       " (25.6777469, -100.3489304),\n",
       " (25.7016064, -100.3436402),\n",
       " (25.6912675, -100.3001195),\n",
       " (25.6716999, -100.3264576),\n",
       " (25.6999327, -100.2853152),\n",
       " (25.7781147, -100.4899692),\n",
       " (25.6692632, -100.3015498),\n",
       " (25.651751, -100.3090539),\n",
       " (25.700572, -100.2588323),\n",
       " (25.6465658, -100.2941213),\n",
       " (25.3918689, -100.1283014),\n",
       " (25.6449373, -100.2789318),\n",
       " (25.7374785, -100.4086549),\n",
       " (25.7452562, -100.3436692),\n",
       " (25.7625497, -100.4254845),\n",
       " (25.7997714, -100.4124732)]"
      ]
     },
     "execution_count": 12,
     "metadata": {},
     "output_type": "execute_result"
    }
   ],
   "source": [
    "[tuple(array) for array in dm.to_numpy()]"
   ]
  }
 ],
 "metadata": {
  "kernelspec": {
   "display_name": "base",
   "language": "python",
   "name": "python3"
  },
  "language_info": {
   "codemirror_mode": {
    "name": "ipython",
    "version": 3
   },
   "file_extension": ".py",
   "mimetype": "text/x-python",
   "name": "python",
   "nbconvert_exporter": "python",
   "pygments_lexer": "ipython3",
   "version": "3.10.9"
  },
  "orig_nbformat": 4
 },
 "nbformat": 4,
 "nbformat_minor": 2
}
