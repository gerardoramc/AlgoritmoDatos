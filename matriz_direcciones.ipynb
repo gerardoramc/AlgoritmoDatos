{
 "cells": [
  {
   "cell_type": "code",
   "execution_count": 64,
   "metadata": {},
   "outputs": [],
   "source": [
    "import pandas as pd\n",
    "import numpy as np"
   ]
  },
  {
   "cell_type": "code",
   "execution_count": 65,
   "metadata": {},
   "outputs": [
    {
     "data": {
      "text/html": [
       "<div>\n",
       "<style scoped>\n",
       "    .dataframe tbody tr th:only-of-type {\n",
       "        vertical-align: middle;\n",
       "    }\n",
       "\n",
       "    .dataframe tbody tr th {\n",
       "        vertical-align: top;\n",
       "    }\n",
       "\n",
       "    .dataframe thead th {\n",
       "        text-align: right;\n",
       "    }\n",
       "</style>\n",
       "<table border=\"1\" class=\"dataframe\">\n",
       "  <thead>\n",
       "    <tr style=\"text-align: right;\">\n",
       "      <th></th>\n",
       "      <th>Distance</th>\n",
       "      <th>Duration</th>\n",
       "    </tr>\n",
       "  </thead>\n",
       "  <tbody>\n",
       "    <tr>\n",
       "      <th>0</th>\n",
       "      <td>0.000</td>\n",
       "      <td>0:00</td>\n",
       "    </tr>\n",
       "    <tr>\n",
       "      <th>1</th>\n",
       "      <td>15.260</td>\n",
       "      <td>0:22</td>\n",
       "    </tr>\n",
       "    <tr>\n",
       "      <th>2</th>\n",
       "      <td>14.930</td>\n",
       "      <td>0:17</td>\n",
       "    </tr>\n",
       "    <tr>\n",
       "      <th>3</th>\n",
       "      <td>23.420</td>\n",
       "      <td>0:33</td>\n",
       "    </tr>\n",
       "    <tr>\n",
       "      <th>4</th>\n",
       "      <td>9.490</td>\n",
       "      <td>0:12</td>\n",
       "    </tr>\n",
       "    <tr>\n",
       "      <th>...</th>\n",
       "      <td>...</td>\n",
       "      <td>...</td>\n",
       "    </tr>\n",
       "    <tr>\n",
       "      <th>11231</th>\n",
       "      <td>38.365</td>\n",
       "      <td>00:44</td>\n",
       "    </tr>\n",
       "    <tr>\n",
       "      <th>11232</th>\n",
       "      <td>9.674</td>\n",
       "      <td>00:24</td>\n",
       "    </tr>\n",
       "    <tr>\n",
       "      <th>11233</th>\n",
       "      <td>12.298</td>\n",
       "      <td>00:27</td>\n",
       "    </tr>\n",
       "    <tr>\n",
       "      <th>11234</th>\n",
       "      <td>5.247</td>\n",
       "      <td>00:17</td>\n",
       "    </tr>\n",
       "    <tr>\n",
       "      <th>11235</th>\n",
       "      <td>0.000</td>\n",
       "      <td>00:00</td>\n",
       "    </tr>\n",
       "  </tbody>\n",
       "</table>\n",
       "<p>11236 rows × 2 columns</p>\n",
       "</div>"
      ],
      "text/plain": [
       "       Distance Duration\n",
       "0         0.000     0:00\n",
       "1        15.260     0:22\n",
       "2        14.930     0:17\n",
       "3        23.420     0:33\n",
       "4         9.490     0:12\n",
       "...         ...      ...\n",
       "11231    38.365    00:44\n",
       "11232     9.674    00:24\n",
       "11233    12.298    00:27\n",
       "11234     5.247    00:17\n",
       "11235     0.000    00:00\n",
       "\n",
       "[11236 rows x 2 columns]"
      ]
     },
     "execution_count": 65,
     "metadata": {},
     "output_type": "execute_result"
    }
   ],
   "source": [
    "df = pd.read_csv('distancias_tiempos2.csv')\n",
    "df"
   ]
  },
  {
   "cell_type": "code",
   "execution_count": 66,
   "metadata": {},
   "outputs": [],
   "source": [
    "df['Duration'] = pd.to_datetime(df['Duration'])"
   ]
  },
  {
   "cell_type": "code",
   "execution_count": 67,
   "metadata": {},
   "outputs": [],
   "source": [
    "df['Duration'] = df['Duration'].dt.strftime('%H:%M')"
   ]
  },
  {
   "cell_type": "code",
   "execution_count": 68,
   "metadata": {},
   "outputs": [],
   "source": [
    "df['Duration']=df['Duration'].astype('string')"
   ]
  },
  {
   "cell_type": "code",
   "execution_count": 69,
   "metadata": {},
   "outputs": [
    {
     "data": {
      "text/plain": [
       "00:16    459\n",
       "00:14    453\n",
       "00:20    439\n",
       "00:22    425\n",
       "00:18    415\n",
       "        ... \n",
       "01:37      2\n",
       "01:32      2\n",
       "01:36      1\n",
       "01:42      1\n",
       "01:35      1\n",
       "Name: Duration, Length: 98, dtype: Int64"
      ]
     },
     "execution_count": 69,
     "metadata": {},
     "output_type": "execute_result"
    }
   ],
   "source": [
    "df['Duration'].value_counts()"
   ]
  },
  {
   "cell_type": "code",
   "execution_count": 71,
   "metadata": {},
   "outputs": [
    {
     "name": "stdout",
     "output_type": "stream",
     "text": [
      "       Distance Duration  Segundos\n",
      "0         0.000    00:00         0\n",
      "1        15.260    00:22      1320\n",
      "2        14.930    00:17      1020\n",
      "3        23.420    00:33      1980\n",
      "4         9.490    00:12       720\n",
      "...         ...      ...       ...\n",
      "11231    38.365    00:44      2640\n",
      "11232     9.674    00:24      1440\n",
      "11233    12.298    00:27      1620\n",
      "11234     5.247    00:17      1020\n",
      "11235     0.000    00:00         0\n",
      "\n",
      "[11236 rows x 3 columns]\n"
     ]
    }
   ],
   "source": [
    "\n",
    "def convert_to_seconds(time_str):\n",
    "    hours, minutes = map(int, time_str.split(':'))\n",
    "    total_seconds = hours * 3600 + minutes * 60\n",
    "    return total_seconds\n",
    "\n",
    "# Apply the conversion function to the DataFrame column\n",
    "df['Segundos'] = df['Duration'].apply(convert_to_seconds)\n",
    "\n",
    "print(df)"
   ]
  },
  {
   "cell_type": "code",
   "execution_count": null,
   "metadata": {},
   "outputs": [
    {
     "data": {
      "text/plain": [
       "array([['Depot', 'Depot', 0.0, '00:00:00', 0],\n",
       "       ['Depot', 'Customer 1', 15.264, '00:22:00', 1320],\n",
       "       ['Depot', 'Customer 2', 14.929, '00:17:00', 1020],\n",
       "       ...,\n",
       "       ['Customer 48', 'Customer 103', 3.988, '00:11:00', 660],\n",
       "       ['Customer 48', 'Customer 104', 8.956, '00:20:00', 1200],\n",
       "       ['Customer 48', 'Customer 105', 15.076, '00:25:00', 1500]],\n",
       "      dtype=object)"
      ]
     },
     "execution_count": 6,
     "metadata": {},
     "output_type": "execute_result"
    }
   ],
   "source": [
    "df.to_numpy()"
   ]
  },
  {
   "cell_type": "code",
   "execution_count": 73,
   "metadata": {},
   "outputs": [
    {
     "data": {
      "text/plain": [
       "array([    0,   106,   212,   318,   424,   530,   636,   742,   848,\n",
       "         954,  1060,  1166,  1272,  1378,  1484,  1590,  1696,  1802,\n",
       "        1908,  2014,  2120,  2226,  2332,  2438,  2544,  2650,  2756,\n",
       "        2862,  2968,  3074,  3180,  3286,  3392,  3498,  3604,  3710,\n",
       "        3816,  3922,  4028,  4134,  4240,  4346,  4452,  4558,  4664,\n",
       "        4770,  4876,  4982,  5088,  5194,  5300,  5406,  5512,  5618,\n",
       "        5724,  5830,  5936,  6042,  6148,  6254,  6360,  6466,  6572,\n",
       "        6678,  6784,  6890,  6996,  7102,  7208,  7314,  7420,  7526,\n",
       "        7632,  7738,  7844,  7950,  8056,  8162,  8268,  8374,  8480,\n",
       "        8586,  8692,  8798,  8904,  9010,  9116,  9222,  9328,  9434,\n",
       "        9540,  9646,  9752,  9858,  9964, 10070, 10176, 10282, 10388,\n",
       "       10494, 10600, 10706, 10812, 10918, 11024, 11130])"
      ]
     },
     "execution_count": 73,
     "metadata": {},
     "output_type": "execute_result"
    }
   ],
   "source": [
    "rangos = np.arange(0,11236,106)\n",
    "rangos"
   ]
  },
  {
   "cell_type": "code",
   "execution_count": 74,
   "metadata": {},
   "outputs": [
    {
     "data": {
      "text/plain": [
       "(106, 106)"
      ]
     },
     "execution_count": 74,
     "metadata": {},
     "output_type": "execute_result"
    }
   ],
   "source": [
    "cuadrada = []\n",
    "for i in range(len(rangos)-1):\n",
    "    cuadrada.append(list((df['Segundos'][rangos[i]:rangos[i+1]])))\n",
    "result_array = np.append(np.array(cuadrada), [(df['Segundos'][rangos[-1]:])], axis = 0)\n",
    "result_array.shape"
   ]
  },
  {
   "cell_type": "code",
   "execution_count": 75,
   "metadata": {},
   "outputs": [
    {
     "data": {
      "text/plain": [
       "array([[   0, 1320, 1020, ..., 1320, 1680, 2520],\n",
       "       [1320,    0, 1380, ...,  360, 1320, 1620],\n",
       "       [1200, 1440,    0, ..., 1440, 1680, 2520],\n",
       "       ...,\n",
       "       [1260,  360, 1320, ...,    0, 1320, 1860],\n",
       "       [1800, 1320, 1680, ..., 1440,    0,  660],\n",
       "       [2220, 1560, 2700, ..., 1620, 1020,    0]], dtype=int64)"
      ]
     },
     "execution_count": 75,
     "metadata": {},
     "output_type": "execute_result"
    }
   ],
   "source": [
    "result_array"
   ]
  }
 ],
 "metadata": {
  "kernelspec": {
   "display_name": "base",
   "language": "python",
   "name": "python3"
  },
  "language_info": {
   "codemirror_mode": {
    "name": "ipython",
    "version": 3
   },
   "file_extension": ".py",
   "mimetype": "text/x-python",
   "name": "python",
   "nbconvert_exporter": "python",
   "pygments_lexer": "ipython3",
   "version": "3.10.9"
  },
  "orig_nbformat": 4
 },
 "nbformat": 4,
 "nbformat_minor": 2
}
