{
 "cells": [
  {
   "cell_type": "markdown",
   "id": "6a57463c",
   "metadata": {},
   "source": [
    "# Fase Beta de la entrega del reto\n",
    "### ***Secuencia***\n",
    "1. Generar frecuencias de ventas y simular una venta de 105 clientes.\n",
    "2. Tomar los volúmenes de las compras de los clientes para determinar la cantidad de camiones necesarios.\n",
    "3. Sabiendo los camiones, utilizar k-medoids para hacer los mini-tcps.\n",
    "4. Resolver los mtcps."
   ]
  },
  {
   "cell_type": "markdown",
   "id": "ab3ceed1",
   "metadata": {},
   "source": [
    "### ***Librerías***"
   ]
  },
  {
   "cell_type": "code",
   "execution_count": 2,
   "id": "ce2d5372",
   "metadata": {},
   "outputs": [],
   "source": [
    "import pandas as pd\n",
    "import numpy as np\n",
    "\n",
    "import seaborn as sns\n",
    "import matplotlib.pyplot as plt\n",
    "import math\n",
    "\n",
    "from scipy.stats import poisson\n",
    "from scipy.stats import poisson\n",
    "from scipy.stats import chisquare\n",
    "\n",
    "from ortools.linear_solver import pywraplp"
   ]
  },
  {
   "cell_type": "markdown",
   "id": "7d38d4f6",
   "metadata": {},
   "source": [
    "## Paso 1"
   ]
  },
  {
   "cell_type": "code",
   "execution_count": 4,
   "id": "42263098",
   "metadata": {},
   "outputs": [],
   "source": [
    "compras = pd.read_excel('informacion_compra.xlsx')"
   ]
  },
  {
   "cell_type": "code",
   "execution_count": 5,
   "id": "2b17f83a",
   "metadata": {},
   "outputs": [
    {
     "data": {
      "text/html": [
       "<div>\n",
       "<style scoped>\n",
       "    .dataframe tbody tr th:only-of-type {\n",
       "        vertical-align: middle;\n",
       "    }\n",
       "\n",
       "    .dataframe tbody tr th {\n",
       "        vertical-align: top;\n",
       "    }\n",
       "\n",
       "    .dataframe thead th {\n",
       "        text-align: right;\n",
       "    }\n",
       "</style>\n",
       "<table border=\"1\" class=\"dataframe\">\n",
       "  <thead>\n",
       "    <tr style=\"text-align: right;\">\n",
       "      <th></th>\n",
       "      <th>Producto</th>\n",
       "      <th>Unidades</th>\n",
       "      <th>Factura</th>\n",
       "    </tr>\n",
       "  </thead>\n",
       "  <tbody>\n",
       "    <tr>\n",
       "      <th>0</th>\n",
       "      <td>48443</td>\n",
       "      <td>1</td>\n",
       "      <td>799186</td>\n",
       "    </tr>\n",
       "    <tr>\n",
       "      <th>1</th>\n",
       "      <td>42877</td>\n",
       "      <td>1</td>\n",
       "      <td>717106</td>\n",
       "    </tr>\n",
       "    <tr>\n",
       "      <th>2</th>\n",
       "      <td>48296</td>\n",
       "      <td>1</td>\n",
       "      <td>468125</td>\n",
       "    </tr>\n",
       "  </tbody>\n",
       "</table>\n",
       "</div>"
      ],
      "text/plain": [
       "   Producto   Unidades   Factura\n",
       "0     48443           1   799186\n",
       "1     42877           1   717106\n",
       "2     48296           1   468125"
      ]
     },
     "execution_count": 5,
     "metadata": {},
     "output_type": "execute_result"
    }
   ],
   "source": [
    "compras.head(3)"
   ]
  },
  {
   "cell_type": "code",
   "execution_count": 6,
   "id": "04033487",
   "metadata": {},
   "outputs": [],
   "source": [
    "facturas = []\n",
    "productos = []\n",
    "for _,i in compras.iterrows():\n",
    "    facturas += [i[2]]*i[1]\n",
    "for _,i in compras.iterrows():\n",
    "    productos += [i[0]]*i[1]\n",
    "\n",
    "compras = pd.DataFrame({\n",
    "    \"Factura\": facturas,\n",
    "    \"Producto\": productos\n",
    "})"
   ]
  },
  {
   "cell_type": "code",
   "execution_count": 7,
   "id": "24afab7d",
   "metadata": {},
   "outputs": [
    {
     "data": {
      "text/html": [
       "<div>\n",
       "<style scoped>\n",
       "    .dataframe tbody tr th:only-of-type {\n",
       "        vertical-align: middle;\n",
       "    }\n",
       "\n",
       "    .dataframe tbody tr th {\n",
       "        vertical-align: top;\n",
       "    }\n",
       "\n",
       "    .dataframe thead th {\n",
       "        text-align: right;\n",
       "    }\n",
       "</style>\n",
       "<table border=\"1\" class=\"dataframe\">\n",
       "  <thead>\n",
       "    <tr style=\"text-align: right;\">\n",
       "      <th></th>\n",
       "      <th>Pedidos</th>\n",
       "      <th>Frecuencia</th>\n",
       "      <th>Frecuencia ln</th>\n",
       "      <th>Poisson</th>\n",
       "      <th>valores_esperados</th>\n",
       "    </tr>\n",
       "  </thead>\n",
       "  <tbody>\n",
       "    <tr>\n",
       "      <th>0</th>\n",
       "      <td>1</td>\n",
       "      <td>19235</td>\n",
       "      <td>9.864487</td>\n",
       "      <td>0.011672</td>\n",
       "      <td>0.783311</td>\n",
       "    </tr>\n",
       "    <tr>\n",
       "      <th>1</th>\n",
       "      <td>2</td>\n",
       "      <td>3546</td>\n",
       "      <td>8.173575</td>\n",
       "      <td>0.036706</td>\n",
       "      <td>2.463277</td>\n",
       "    </tr>\n",
       "    <tr>\n",
       "      <th>2</th>\n",
       "      <td>3</td>\n",
       "      <td>1024</td>\n",
       "      <td>6.931472</td>\n",
       "      <td>0.076953</td>\n",
       "      <td>5.164178</td>\n",
       "    </tr>\n",
       "  </tbody>\n",
       "</table>\n",
       "</div>"
      ],
      "text/plain": [
       "   Pedidos  Frecuencia  Frecuencia ln   Poisson  valores_esperados\n",
       "0        1       19235       9.864487  0.011672           0.783311\n",
       "1        2        3546       8.173575  0.036706           2.463277\n",
       "2        3        1024       6.931472  0.076953           5.164178"
      ]
     },
     "execution_count": 7,
     "metadata": {},
     "output_type": "execute_result"
    }
   ],
   "source": [
    "df = compras.groupby(['Factura']).size().reset_index(name='Frequency').Frequency.value_counts()\n",
    "df = df.reset_index()\n",
    "df.columns = ['Pedidos', 'Frecuencia']\n",
    "df['Frecuencia ln'] = np.log(df['Frecuencia'])\n",
    "valor_medio = np.sum(df['Pedidos'] * df['Frecuencia ln']) / np.sum(df['Frecuencia ln'])\n",
    "df['Poisson'] = poisson.pmf(df['Pedidos'], valor_medio)\n",
    "df['valores_esperados'] = df['Poisson'] * np.sum(df['Frecuencia ln'])\n",
    "df.head(3)"
   ]
  },
  {
   "cell_type": "code",
   "execution_count": 8,
   "id": "6280b58f",
   "metadata": {},
   "outputs": [
    {
     "data": {
      "text/html": [
       "<div>\n",
       "<style scoped>\n",
       "    .dataframe tbody tr th:only-of-type {\n",
       "        vertical-align: middle;\n",
       "    }\n",
       "\n",
       "    .dataframe tbody tr th {\n",
       "        vertical-align: top;\n",
       "    }\n",
       "\n",
       "    .dataframe thead th {\n",
       "        text-align: right;\n",
       "    }\n",
       "</style>\n",
       "<table border=\"1\" class=\"dataframe\">\n",
       "  <thead>\n",
       "    <tr style=\"text-align: right;\">\n",
       "      <th></th>\n",
       "      <th>Producto</th>\n",
       "      <th>Frecuencia</th>\n",
       "      <th>Frecuencia ln</th>\n",
       "      <th>Poisson</th>\n",
       "      <th>valores_esperados</th>\n",
       "    </tr>\n",
       "  </thead>\n",
       "  <tbody>\n",
       "    <tr>\n",
       "      <th>0</th>\n",
       "      <td>1</td>\n",
       "      <td>1793</td>\n",
       "      <td>7.491645</td>\n",
       "      <td>1.565792e-11</td>\n",
       "      <td>2.886239e-09</td>\n",
       "    </tr>\n",
       "    <tr>\n",
       "      <th>1</th>\n",
       "      <td>2</td>\n",
       "      <td>779</td>\n",
       "      <td>6.658011</td>\n",
       "      <td>2.209339e-10</td>\n",
       "      <td>4.072494e-08</td>\n",
       "    </tr>\n",
       "    <tr>\n",
       "      <th>2</th>\n",
       "      <td>3</td>\n",
       "      <td>414</td>\n",
       "      <td>6.025866</td>\n",
       "      <td>2.078257e-09</td>\n",
       "      <td>3.830870e-07</td>\n",
       "    </tr>\n",
       "  </tbody>\n",
       "</table>\n",
       "</div>"
      ],
      "text/plain": [
       "   Producto  Frecuencia  Frecuencia ln       Poisson  valores_esperados\n",
       "0         1        1793       7.491645  1.565792e-11       2.886239e-09\n",
       "1         2         779       6.658011  2.209339e-10       4.072494e-08\n",
       "2         3         414       6.025866  2.078257e-09       3.830870e-07"
      ]
     },
     "execution_count": 8,
     "metadata": {},
     "output_type": "execute_result"
    }
   ],
   "source": [
    "df2 = compras.groupby(['Producto']).size().reset_index(name='Frequency').Frequency.value_counts()\n",
    "df2 = df2.reset_index()\n",
    "df2.columns = ['Producto', 'Frecuencia']\n",
    "df2['Frecuencia ln'] = np.log(df2['Frecuencia'])\n",
    "valor_medio = np.sum(df2['Producto'] * df2['Frecuencia ln']) / np.sum(df2['Frecuencia ln'])\n",
    "df2['Poisson'] = poisson.pmf(df2['Producto'], valor_medio)\n",
    "df2['valores_esperados'] = df2['Poisson'] * np.sum(df2['Frecuencia ln'])\n",
    "df2.head(3)"
   ]
  },
  {
   "cell_type": "code",
   "execution_count": 9,
   "id": "82e85ae2",
   "metadata": {},
   "outputs": [],
   "source": [
    "def montecarlo(df, n):  \n",
    "    resultados = []\n",
    "    for _ in range(n):\n",
    "        num = np.random.rand()\n",
    "        for j in range(len(df)):\n",
    "            if df[j][3] <= num < df[j][4]:\n",
    "                resultados.append(j)\n",
    "            \n",
    "    return resultados"
   ]
  },
  {
   "cell_type": "code",
   "execution_count": 10,
   "id": "0bd79b37",
   "metadata": {},
   "outputs": [
    {
     "name": "stderr",
     "output_type": "stream",
     "text": [
      "C:\\Users\\david\\AppData\\Local\\Temp\\ipykernel_14216\\3932492861.py:2: SettingWithCopyWarning: \n",
      "A value is trying to be set on a copy of a slice from a DataFrame.\n",
      "Try using .loc[row_indexer,col_indexer] = value instead\n",
      "\n",
      "See the caveats in the documentation: https://pandas.pydata.org/pandas-docs/stable/user_guide/indexing.html#returning-a-view-versus-a-copy\n",
      "  pedidos['Acumulado'] = pedidos.Poisson.cumsum()\n",
      "C:\\Users\\david\\AppData\\Local\\Temp\\ipykernel_14216\\3932492861.py:3: SettingWithCopyWarning: \n",
      "A value is trying to be set on a copy of a slice from a DataFrame.\n",
      "Try using .loc[row_indexer,col_indexer] = value instead\n",
      "\n",
      "See the caveats in the documentation: https://pandas.pydata.org/pandas-docs/stable/user_guide/indexing.html#returning-a-view-versus-a-copy\n",
      "  pedidos['Inferior'] = [0] + pedidos['Acumulado'].tolist()[:-1]\n"
     ]
    }
   ],
   "source": [
    "pedidos = df[['Pedidos','Poisson']]\n",
    "pedidos['Acumulado'] = pedidos.Poisson.cumsum()\n",
    "pedidos['Inferior'] = [0] + pedidos['Acumulado'].tolist()[:-1]\n",
    "pedidos['Superior'] = pedidos['Acumulado']\n",
    "pedidos = pedidos.to_numpy()"
   ]
  },
  {
   "cell_type": "code",
   "execution_count": 11,
   "id": "f7a4a1eb",
   "metadata": {},
   "outputs": [],
   "source": [
    "#num_pedidos = montecarlo(pedidos,df.Frecuencia.sum())\n",
    "num_pedidos = montecarlo(pedidos,compras.size)\n"
   ]
  },
  {
   "cell_type": "code",
   "execution_count": 12,
   "id": "19311f27",
   "metadata": {},
   "outputs": [
    {
     "name": "stderr",
     "output_type": "stream",
     "text": [
      "C:\\Users\\david\\AppData\\Local\\Temp\\ipykernel_14216\\3891866760.py:2: SettingWithCopyWarning: \n",
      "A value is trying to be set on a copy of a slice from a DataFrame.\n",
      "Try using .loc[row_indexer,col_indexer] = value instead\n",
      "\n",
      "See the caveats in the documentation: https://pandas.pydata.org/pandas-docs/stable/user_guide/indexing.html#returning-a-view-versus-a-copy\n",
      "  producto['Acumulado'] = producto.Poisson.cumsum()\n",
      "C:\\Users\\david\\AppData\\Local\\Temp\\ipykernel_14216\\3891866760.py:3: SettingWithCopyWarning: \n",
      "A value is trying to be set on a copy of a slice from a DataFrame.\n",
      "Try using .loc[row_indexer,col_indexer] = value instead\n",
      "\n",
      "See the caveats in the documentation: https://pandas.pydata.org/pandas-docs/stable/user_guide/indexing.html#returning-a-view-versus-a-copy\n",
      "  producto['Inferior'] = [0] + producto['Acumulado'].tolist()[:-1]\n"
     ]
    }
   ],
   "source": [
    "producto = df2[['Producto','Poisson']]\n",
    "producto['Acumulado'] = producto.Poisson.cumsum()\n",
    "producto['Inferior'] = [0] + producto['Acumulado'].tolist()[:-1]\n",
    "producto['Superior'] = producto['Acumulado']\n",
    "producto = producto.to_numpy()"
   ]
  },
  {
   "cell_type": "code",
   "execution_count": 13,
   "id": "3499bf5e",
   "metadata": {},
   "outputs": [],
   "source": [
    "envios = [np.array(montecarlo(producto, num)) for num in montecarlo(pedidos,df.Frecuencia.sum()) if num!=0]\n",
    "envios_np = envios"
   ]
  },
  {
   "cell_type": "code",
   "execution_count": 14,
   "id": "c89ebd5b",
   "metadata": {},
   "outputs": [],
   "source": [
    "enviosArreglo = np.array([[-1,-1,-1]])\n",
    "for i in range(len(envios)):\n",
    "    a = np.unique(np.array(envios[i]), return_counts=True)\n",
    "    enviosArreglo = np.concatenate((enviosArreglo, np.array([np.array([i]*len(a[0])),a[0],a[1]]).T))\n",
    "enviosArreglo\n",
    "\n",
    "envios = pd.DataFrame(enviosArreglo[1:], columns = ['Factura', 'Producto', 'Unidades'])"
   ]
  },
  {
   "cell_type": "code",
   "execution_count": 15,
   "id": "d44724da",
   "metadata": {},
   "outputs": [
    {
     "data": {
      "text/html": [
       "<div>\n",
       "<style scoped>\n",
       "    .dataframe tbody tr th:only-of-type {\n",
       "        vertical-align: middle;\n",
       "    }\n",
       "\n",
       "    .dataframe tbody tr th {\n",
       "        vertical-align: top;\n",
       "    }\n",
       "\n",
       "    .dataframe thead th {\n",
       "        text-align: right;\n",
       "    }\n",
       "</style>\n",
       "<table border=\"1\" class=\"dataframe\">\n",
       "  <thead>\n",
       "    <tr style=\"text-align: right;\">\n",
       "      <th></th>\n",
       "      <th>Pedidos</th>\n",
       "      <th>Frecuencia</th>\n",
       "      <th>Poisson</th>\n",
       "      <th>valores_esperados</th>\n",
       "    </tr>\n",
       "  </thead>\n",
       "  <tbody>\n",
       "    <tr>\n",
       "      <th>0</th>\n",
       "      <td>4</td>\n",
       "      <td>4752</td>\n",
       "      <td>0.183687</td>\n",
       "      <td>4490.600273</td>\n",
       "    </tr>\n",
       "    <tr>\n",
       "      <th>1</th>\n",
       "      <td>5</td>\n",
       "      <td>4364</td>\n",
       "      <td>0.174280</td>\n",
       "      <td>4260.623935</td>\n",
       "    </tr>\n",
       "    <tr>\n",
       "      <th>2</th>\n",
       "      <td>3</td>\n",
       "      <td>3974</td>\n",
       "      <td>0.154882</td>\n",
       "      <td>3786.392063</td>\n",
       "    </tr>\n",
       "  </tbody>\n",
       "</table>\n",
       "</div>"
      ],
      "text/plain": [
       "   Pedidos  Frecuencia   Poisson  valores_esperados\n",
       "0        4        4752  0.183687        4490.600273\n",
       "1        5        4364  0.174280        4260.623935\n",
       "2        3        3974  0.154882        3786.392063"
      ]
     },
     "execution_count": 15,
     "metadata": {},
     "output_type": "execute_result"
    }
   ],
   "source": [
    "df3 = envios.groupby(['Factura']).size().reset_index(name='Frequency').Frequency.value_counts()\n",
    "df3 = df3.reset_index()\n",
    "df3.columns = ['Pedidos', 'Frecuencia']\n",
    "valor_medio = np.sum(df3['Pedidos'] * df3['Frecuencia']) / np.sum(df3['Frecuencia'])\n",
    "df3['Poisson'] = poisson.pmf(df3['Pedidos'], valor_medio)\n",
    "df3['valores_esperados'] = df3['Poisson'] * np.sum(df3['Frecuencia'])\n",
    "df3.head(3)"
   ]
  },
  {
   "cell_type": "code",
   "execution_count": 16,
   "id": "176ce913",
   "metadata": {},
   "outputs": [],
   "source": [
    "dp = pd.read_csv('info_productos.csv')\n",
    "dp.columns = ['Producto', 'Volumen']\n",
    "nuevo_registro = {\"Producto\": 0, \"Volumen\": 0}\n",
    "dp = pd.concat([pd.DataFrame([nuevo_registro]), dp], ignore_index=True)\n",
    "volumenes = dp.to_numpy()[:,1]"
   ]
  },
  {
   "cell_type": "code",
   "execution_count": 17,
   "id": "c0b72a1f",
   "metadata": {},
   "outputs": [],
   "source": [
    "dimensiones = []\n",
    "for pedido in envios_np:\n",
    "    acumulado = 0\n",
    "    for i in pedido:\n",
    "        acumulado += volumenes[i]\n",
    "    dimensiones.append(acumulado)"
   ]
  },
  {
   "cell_type": "code",
   "execution_count": 18,
   "id": "c89b1b97",
   "metadata": {},
   "outputs": [
    {
     "data": {
      "text/plain": [
       "24447"
      ]
     },
     "execution_count": 18,
     "metadata": {},
     "output_type": "execute_result"
    }
   ],
   "source": [
    "len(dimensiones)"
   ]
  },
  {
   "cell_type": "code",
   "execution_count": 24,
   "id": "ca46427a",
   "metadata": {},
   "outputs": [
    {
     "data": {
      "text/plain": [
       "(53633,)"
      ]
     },
     "execution_count": 24,
     "metadata": {},
     "output_type": "execute_result"
    }
   ],
   "source": [
    "volumenes.shape"
   ]
  },
  {
   "cell_type": "code",
   "execution_count": 29,
   "id": "f4d18c37",
   "metadata": {},
   "outputs": [
    {
     "data": {
      "text/plain": [
       "24447"
      ]
     },
     "execution_count": 29,
     "metadata": {},
     "output_type": "execute_result"
    }
   ],
   "source": [
    "len(dimensiones)"
   ]
  },
  {
   "cell_type": "code",
   "execution_count": 30,
   "id": "1519ba0b",
   "metadata": {},
   "outputs": [
    {
     "data": {
      "text/plain": [
       "70046"
      ]
     },
     "execution_count": 30,
     "metadata": {},
     "output_type": "execute_result"
    }
   ],
   "source": [
    "compras.size"
   ]
  },
  {
   "cell_type": "code",
   "execution_count": null,
   "id": "7012e3bd",
   "metadata": {},
   "outputs": [],
   "source": []
  }
 ],
 "metadata": {
  "kernelspec": {
   "display_name": "Python 3 (ipykernel)",
   "language": "python",
   "name": "python3"
  },
  "language_info": {
   "codemirror_mode": {
    "name": "ipython",
    "version": 3
   },
   "file_extension": ".py",
   "mimetype": "text/x-python",
   "name": "python",
   "nbconvert_exporter": "python",
   "pygments_lexer": "ipython3",
   "version": "3.8.16"
  }
 },
 "nbformat": 4,
 "nbformat_minor": 5
}
