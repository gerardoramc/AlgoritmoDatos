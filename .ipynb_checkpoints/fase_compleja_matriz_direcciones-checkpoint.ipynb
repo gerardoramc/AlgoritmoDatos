{
 "cells": [
  {
   "cell_type": "code",
   "execution_count": 1,
   "metadata": {},
   "outputs": [],
   "source": [
    "import pandas as pd\n",
    "import numpy as np"
   ]
  },
  {
   "cell_type": "code",
   "execution_count": 2,
   "metadata": {},
   "outputs": [
    {
     "data": {
      "text/html": [
       "<div>\n",
       "<style scoped>\n",
       "    .dataframe tbody tr th:only-of-type {\n",
       "        vertical-align: middle;\n",
       "    }\n",
       "\n",
       "    .dataframe tbody tr th {\n",
       "        vertical-align: top;\n",
       "    }\n",
       "\n",
       "    .dataframe thead th {\n",
       "        text-align: right;\n",
       "    }\n",
       "</style>\n",
       "<table border=\"1\" class=\"dataframe\">\n",
       "  <thead>\n",
       "    <tr style=\"text-align: right;\">\n",
       "      <th></th>\n",
       "      <th>Distance</th>\n",
       "      <th>Duration</th>\n",
       "    </tr>\n",
       "  </thead>\n",
       "  <tbody>\n",
       "    <tr>\n",
       "      <th>0</th>\n",
       "      <td>0.000</td>\n",
       "      <td>0:00</td>\n",
       "    </tr>\n",
       "    <tr>\n",
       "      <th>1</th>\n",
       "      <td>15.260</td>\n",
       "      <td>0:22</td>\n",
       "    </tr>\n",
       "    <tr>\n",
       "      <th>2</th>\n",
       "      <td>14.930</td>\n",
       "      <td>0:17</td>\n",
       "    </tr>\n",
       "    <tr>\n",
       "      <th>3</th>\n",
       "      <td>23.420</td>\n",
       "      <td>0:33</td>\n",
       "    </tr>\n",
       "    <tr>\n",
       "      <th>4</th>\n",
       "      <td>9.490</td>\n",
       "      <td>0:12</td>\n",
       "    </tr>\n",
       "    <tr>\n",
       "      <th>...</th>\n",
       "      <td>...</td>\n",
       "      <td>...</td>\n",
       "    </tr>\n",
       "    <tr>\n",
       "      <th>11231</th>\n",
       "      <td>38.365</td>\n",
       "      <td>00:44</td>\n",
       "    </tr>\n",
       "    <tr>\n",
       "      <th>11232</th>\n",
       "      <td>9.674</td>\n",
       "      <td>00:24</td>\n",
       "    </tr>\n",
       "    <tr>\n",
       "      <th>11233</th>\n",
       "      <td>12.298</td>\n",
       "      <td>00:27</td>\n",
       "    </tr>\n",
       "    <tr>\n",
       "      <th>11234</th>\n",
       "      <td>5.247</td>\n",
       "      <td>00:17</td>\n",
       "    </tr>\n",
       "    <tr>\n",
       "      <th>11235</th>\n",
       "      <td>0.000</td>\n",
       "      <td>00:00</td>\n",
       "    </tr>\n",
       "  </tbody>\n",
       "</table>\n",
       "<p>11236 rows × 2 columns</p>\n",
       "</div>"
      ],
      "text/plain": [
       "       Distance Duration\n",
       "0         0.000     0:00\n",
       "1        15.260     0:22\n",
       "2        14.930     0:17\n",
       "3        23.420     0:33\n",
       "4         9.490     0:12\n",
       "...         ...      ...\n",
       "11231    38.365    00:44\n",
       "11232     9.674    00:24\n",
       "11233    12.298    00:27\n",
       "11234     5.247    00:17\n",
       "11235     0.000    00:00\n",
       "\n",
       "[11236 rows x 2 columns]"
      ]
     },
     "execution_count": 2,
     "metadata": {},
     "output_type": "execute_result"
    }
   ],
   "source": [
    "path = \"https://raw.githubusercontent.com/gerardoramc/AlgoritmoDatos/Gerardo/distancias_tiempos2.csv\"\n",
    "df = pd.read_csv(path)\n",
    "df"
   ]
  },
  {
   "cell_type": "code",
   "execution_count": 3,
   "metadata": {},
   "outputs": [],
   "source": [
    "df['Duration'] = pd.to_datetime(df['Duration'])"
   ]
  },
  {
   "cell_type": "code",
   "execution_count": 4,
   "metadata": {},
   "outputs": [],
   "source": [
    "df['Duration'] = df['Duration'].dt.strftime('%H:%M')"
   ]
  },
  {
   "cell_type": "code",
   "execution_count": 5,
   "metadata": {},
   "outputs": [],
   "source": [
    "df['Duration']=df['Duration'].astype('string')"
   ]
  },
  {
   "cell_type": "code",
   "execution_count": 6,
   "metadata": {},
   "outputs": [
    {
     "data": {
      "text/plain": [
       "00:16    459\n",
       "00:14    453\n",
       "00:20    439\n",
       "00:22    425\n",
       "00:18    415\n",
       "        ... \n",
       "01:37      2\n",
       "01:32      2\n",
       "01:36      1\n",
       "01:42      1\n",
       "01:35      1\n",
       "Name: Duration, Length: 98, dtype: Int64"
      ]
     },
     "execution_count": 6,
     "metadata": {},
     "output_type": "execute_result"
    }
   ],
   "source": [
    "df['Duration'].value_counts()"
   ]
  },
  {
   "cell_type": "code",
   "execution_count": 7,
   "metadata": {},
   "outputs": [
    {
     "name": "stdout",
     "output_type": "stream",
     "text": [
      "       Distance Duration  Segundos\n",
      "0         0.000    00:00         0\n",
      "1        15.260    00:22      1320\n",
      "2        14.930    00:17      1020\n",
      "3        23.420    00:33      1980\n",
      "4         9.490    00:12       720\n",
      "...         ...      ...       ...\n",
      "11231    38.365    00:44      2640\n",
      "11232     9.674    00:24      1440\n",
      "11233    12.298    00:27      1620\n",
      "11234     5.247    00:17      1020\n",
      "11235     0.000    00:00         0\n",
      "\n",
      "[11236 rows x 3 columns]\n"
     ]
    }
   ],
   "source": [
    "\n",
    "def convert_to_seconds(time_str):\n",
    "    hours, minutes = map(int, time_str.split(':'))\n",
    "    total_seconds = hours * 3600 + minutes * 60\n",
    "    return total_seconds\n",
    "\n",
    "# Apply the conversion function to the DataFrame column\n",
    "df['Segundos'] = df['Duration'].apply(convert_to_seconds)\n",
    "\n",
    "print(df)"
   ]
  },
  {
   "cell_type": "code",
   "execution_count": 8,
   "metadata": {},
   "outputs": [
    {
     "data": {
      "text/plain": [
       "array([[0.0, '00:00', 0],\n",
       "       [15.26, '00:22', 1320],\n",
       "       [14.93, '00:17', 1020],\n",
       "       ...,\n",
       "       [12.298, '00:27', 1620],\n",
       "       [5.247, '00:17', 1020],\n",
       "       [0.0, '00:00', 0]], dtype=object)"
      ]
     },
     "execution_count": 8,
     "metadata": {},
     "output_type": "execute_result"
    }
   ],
   "source": [
    "df.to_numpy()"
   ]
  },
  {
   "cell_type": "code",
   "execution_count": 9,
   "metadata": {},
   "outputs": [
    {
     "data": {
      "text/plain": [
       "array([    0,   106,   212,   318,   424,   530,   636,   742,   848,\n",
       "         954,  1060,  1166,  1272,  1378,  1484,  1590,  1696,  1802,\n",
       "        1908,  2014,  2120,  2226,  2332,  2438,  2544,  2650,  2756,\n",
       "        2862,  2968,  3074,  3180,  3286,  3392,  3498,  3604,  3710,\n",
       "        3816,  3922,  4028,  4134,  4240,  4346,  4452,  4558,  4664,\n",
       "        4770,  4876,  4982,  5088,  5194,  5300,  5406,  5512,  5618,\n",
       "        5724,  5830,  5936,  6042,  6148,  6254,  6360,  6466,  6572,\n",
       "        6678,  6784,  6890,  6996,  7102,  7208,  7314,  7420,  7526,\n",
       "        7632,  7738,  7844,  7950,  8056,  8162,  8268,  8374,  8480,\n",
       "        8586,  8692,  8798,  8904,  9010,  9116,  9222,  9328,  9434,\n",
       "        9540,  9646,  9752,  9858,  9964, 10070, 10176, 10282, 10388,\n",
       "       10494, 10600, 10706, 10812, 10918, 11024, 11130])"
      ]
     },
     "execution_count": 9,
     "metadata": {},
     "output_type": "execute_result"
    }
   ],
   "source": [
    "rangos = np.arange(0,11236,106)\n",
    "rangos"
   ]
  },
  {
   "cell_type": "code",
   "execution_count": 10,
   "metadata": {},
   "outputs": [
    {
     "data": {
      "text/plain": [
       "(106, 106)"
      ]
     },
     "execution_count": 10,
     "metadata": {},
     "output_type": "execute_result"
    }
   ],
   "source": [
    "cuadrada = []\n",
    "for i in range(len(rangos)-1):\n",
    "    cuadrada.append(list((df['Segundos'][rangos[i]:rangos[i+1]])))\n",
    "result_array = np.append(np.array(cuadrada), [(df['Segundos'][rangos[-1]:])], axis = 0)\n",
    "result_array.shape"
   ]
  },
  {
   "cell_type": "code",
   "execution_count": 11,
   "metadata": {
    "scrolled": false
   },
   "outputs": [
    {
     "data": {
      "text/plain": [
       "array([[   0, 1320, 1020, ..., 1320, 1680, 2520],\n",
       "       [1320,    0, 1380, ...,  360, 1320, 1620],\n",
       "       [1200, 1440,    0, ..., 1440, 1680, 2520],\n",
       "       ...,\n",
       "       [1260,  360, 1320, ...,    0, 1320, 1860],\n",
       "       [1800, 1320, 1680, ..., 1440,    0,  660],\n",
       "       [2220, 1560, 2700, ..., 1620, 1020,    0]], dtype=int64)"
      ]
     },
     "execution_count": 11,
     "metadata": {},
     "output_type": "execute_result"
    }
   ],
   "source": [
    "result_array"
   ]
  },
  {
   "cell_type": "code",
   "execution_count": 12,
   "metadata": {},
   "outputs": [
    {
     "data": {
      "text/plain": [
       "(106, 106)"
      ]
     },
     "execution_count": 12,
     "metadata": {},
     "output_type": "execute_result"
    }
   ],
   "source": [
    "result_array.shape"
   ]
  },
  {
   "cell_type": "code",
   "execution_count": 13,
   "metadata": {},
   "outputs": [],
   "source": [
    "def remove_first_row_and_column(input_array):\n",
    "    if input_array.shape[0] <= 1 or input_array.shape[1] <= 1:\n",
    "        raise ValueError(\"Input array must have at least 2 rows and 2 columns.\")\n",
    "\n",
    "    new_array = input_array[1:, 1:]\n",
    "    return new_array\n"
   ]
  },
  {
   "cell_type": "code",
   "execution_count": 17,
   "metadata": {
    "scrolled": true
   },
   "outputs": [
    {
     "name": "stdout",
     "output_type": "stream",
     "text": [
      "Nodos en cada cluster:\n",
      "\n",
      "***Cluster 1*** \n",
      "Cantidad: 47\n",
      "Nodos: [  2   4   5  10  11  13  14  16  18  23  25  27  28  29  30  31  35  36\n",
      "  39  40  42  50  54  56  57  60  61  64  68  69  73  75  81  82  83  84\n",
      "  87  88  92  93  94  96  97  98  99 100 101]\n",
      "\n",
      "\n",
      "***Cluster 2*** \n",
      "Cantidad: 33\n",
      "Nodos: [  3   7   9  15  19  20  21  22  33  41  45  46  47  51  52  55  58  59\n",
      "  63  65  66  71  72  74  76  77  79  80  90  91  95 102 104]\n",
      "\n",
      "\n",
      "***Cluster 3*** \n",
      "Cantidad: 25\n",
      "Nodos: [  1   6   8  12  17  24  26  32  34  37  38  43  44  48  49  53  62  67\n",
      "  70  78  85  86  89 103 105]\n",
      "\n"
     ]
    }
   ],
   "source": [
    "from scipy.spatial.distance import cdist\n",
    "\n",
    "def k_medoids(X, k, max_iters=100):\n",
    "    num_samples, num_features = X.shape\n",
    "    medoids_indices = np.random.choice(num_samples, k, replace=False)\n",
    "    medoids = X[medoids_indices]\n",
    "\n",
    "    for _ in range(max_iters):\n",
    "        distances = cdist(X, medoids, metric='euclidean')\n",
    "        cluster_assignments = np.argmin(distances, axis=1)\n",
    "\n",
    "        for i in range(k):\n",
    "            cluster_points = X[cluster_assignments == i]\n",
    "            cluster_distances = distances[cluster_assignments == i][:, i]\n",
    "            new_medoid_index = np.argmin(cluster_distances)\n",
    "            medoids[i] = cluster_points[new_medoid_index]\n",
    "\n",
    "    return medoids, cluster_assignments\n",
    "\n",
    "# Ejemplo de uso\n",
    "\n",
    "result_array_no_warehouse = remove_first_row_and_column(result_array)\n",
    "X = result_array_no_warehouse\n",
    "\n",
    "k = 3\n",
    "medoids, cluster_assignments = k_medoids(X, k)\n",
    "\n",
    "#print(\"Medoides finales:\")\n",
    "#print(medoids)\n",
    "\n",
    "clusters = {}\n",
    "for i in range(k):\n",
    "    cluster_points = np.where(cluster_assignments == i)[0]\n",
    "    clusters[i] = cluster_points\n",
    "\n",
    "print(\"Nodos en cada cluster:\")\n",
    "for cluster_id, node_indices in clusters.items():\n",
    "    print(f\"\\n***Cluster {cluster_id+1}*** \\nCantidad: {len(node_indices)}\\nNodos: {node_indices+1}\\n\")\n",
    "\n"
   ]
  },
  {
   "cell_type": "code",
   "execution_count": 19,
   "metadata": {},
   "outputs": [
    {
     "ename": "NameError",
     "evalue": "name 'tiempos' is not defined",
     "output_type": "error",
     "traceback": [
      "\u001b[1;31m---------------------------------------------------------------------------\u001b[0m",
      "\u001b[1;31mNameError\u001b[0m                                 Traceback (most recent call last)",
      "Cell \u001b[1;32mIn[19], line 4\u001b[0m\n\u001b[0;32m      2\u001b[0m \u001b[38;5;28;01mfor\u001b[39;00m i \u001b[38;5;129;01min\u001b[39;00m clusters:\n\u001b[0;32m      3\u001b[0m     i \u001b[38;5;241m=\u001b[39m \u001b[38;5;28mlist\u001b[39m(clusters[i]) \u001b[38;5;241m+\u001b[39m [\u001b[38;5;241m0\u001b[39m]\n\u001b[1;32m----> 4\u001b[0m     mini_tcps\u001b[38;5;241m.\u001b[39mappend(\u001b[43mtiempos\u001b[49m[i,:][:,i])\n",
      "\u001b[1;31mNameError\u001b[0m: name 'tiempos' is not defined"
     ]
    }
   ],
   "source": [
    "mini_tcps = []\n",
    "for i in clusters:\n",
    "    i = list(clusters[i]) + [0]\n",
    "    mini_tcps.append(result_array[i,:][:,i])"
   ]
  },
  {
   "cell_type": "code",
   "execution_count": null,
   "metadata": {},
   "outputs": [],
   "source": []
  }
 ],
 "metadata": {
  "kernelspec": {
   "display_name": "Python 3 (ipykernel)",
   "language": "python",
   "name": "python3"
  },
  "language_info": {
   "codemirror_mode": {
    "name": "ipython",
    "version": 3
   },
   "file_extension": ".py",
   "mimetype": "text/x-python",
   "name": "python",
   "nbconvert_exporter": "python",
   "pygments_lexer": "ipython3",
   "version": "3.8.16"
  }
 },
 "nbformat": 4,
 "nbformat_minor": 2
}
