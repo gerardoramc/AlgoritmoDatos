{
 "cells": [
  {
   "cell_type": "code",
   "execution_count": 1,
   "id": "e83c0f01",
   "metadata": {},
   "outputs": [],
   "source": [
    "import numpy as np"
   ]
  },
  {
   "cell_type": "code",
   "execution_count": 2,
   "id": "18d172ba",
   "metadata": {},
   "outputs": [],
   "source": [
    "t = [8,7,6,5,8,10,5] # Matriz de tiempos por viaje"
   ]
  },
  {
   "cell_type": "code",
   "execution_count": 3,
   "id": "9198fb82",
   "metadata": {},
   "outputs": [],
   "source": [
    "n = 3 # Numero de camiones\n",
    "m = [i for i in range(1,n+1)] # Numero de rampas"
   ]
  },
  {
   "cell_type": "code",
   "execution_count": 5,
   "id": "f1c9a3f4",
   "metadata": {},
   "outputs": [
    {
     "name": "stdout",
     "output_type": "stream",
     "text": [
      "[[[8, 8, 7], [8, 7]], [[6, 6, 5], [6, 5]]]\n",
      "66\n"
     ]
    }
   ],
   "source": [
    "t = [7,7,6,6,5,5,5,4,4,3] # Matriz de tiempos por viaje\n",
    "n = 5 # Numero de camiones\n",
    "m = 3 # Numero de rampas\n",
    "z = t.sort(reverse=True)\n",
    "\n",
    "x = n // m\n",
    "y = n % m\n",
    "\n",
    "ans = []\n",
    "valor = 0\n",
    "penalty = 8\n",
    "if m > 1:\n",
    "    \n",
    "\n",
    "while t:\n",
    "    i = 1\n",
    "    t2 = []\n",
    "    for _ in range(x):\n",
    "        t2.append([j+i for j in t[:m]])\n",
    "        valor += sum([j+i for j in t[:m]])\n",
    "        del(t[:m])\n",
    "        i+=1\n",
    "    \n",
    "    if len(t[:y]) != 0:\n",
    "        t2.append([j+i for j in t[:y]])\n",
    "        valor += sum([j+i for j in t[:y]])\n",
    "    del(t[:y])\n",
    "    ans.append(t2)\n",
    "    \n",
    "    \n",
    "print(ans)\n",
    "print(valor)"
   ]
  },
  {
   "cell_type": "code",
   "execution_count": 41,
   "id": "2d14be86",
   "metadata": {},
   "outputs": [
    {
     "name": "stdout",
     "output_type": "stream",
     "text": [
      "[[[16, 16, 15], [16, 15]], [[14, 14, 13], [14, 13]]]\n",
      "146\n"
     ]
    }
   ],
   "source": [
    "t = [7,7,6,6,5,5,5,4,4,3] # Matriz de tiempos por viaje\n",
    "n = 5 # Numero de camiones\n",
    "m = 3 # Numero de rampas\n",
    "z = t.sort(reverse=True)\n",
    "\n",
    "x = n // m\n",
    "y = n % m\n",
    "\n",
    "ans = []\n",
    "valor = 0\n",
    "penalty = 8\n",
    "if m > 1:\n",
    "     while t:\n",
    "        i = 1 + penalty\n",
    "        t2 = []\n",
    "        for _ in range(x):\n",
    "            t2.append([j+i for j in t[:m]])\n",
    "            valor += sum([j+i for j in t[:m]])\n",
    "            del(t[:m])\n",
    "            i+=1\n",
    "\n",
    "        if len(t[:y]) != 0:\n",
    "            t2.append([j+i for j in t[:y]])\n",
    "            valor += sum([j+i for j in t[:y]])\n",
    "        del(t[:y])\n",
    "        ans.append(t2)\n",
    "\n",
    "else:\n",
    "    while t:\n",
    "        i = 1\n",
    "        t2 = []\n",
    "        for _ in range(x):\n",
    "            t2.append([j+i for j in t[:m]])\n",
    "            valor += sum([j+i for j in t[:m]])\n",
    "            del(t[:m])\n",
    "            i+=1\n",
    "\n",
    "        if len(t[:y]) != 0:\n",
    "            t2.append([j+i for j in t[:y]])\n",
    "            valor += sum([j+i for j in t[:y]])\n",
    "        del(t[:y])\n",
    "        ans.append(t2)\n",
    "    \n",
    "    \n",
    "print(ans)\n",
    "print(valor)"
   ]
  },
  {
   "cell_type": "code",
   "execution_count": 11,
   "id": "bf9e395f",
   "metadata": {},
   "outputs": [
    {
     "data": {
      "text/plain": [
       "[7, 7, 6, 6, 5, 5, 5, 4, 4, 3]"
      ]
     },
     "execution_count": 11,
     "metadata": {},
     "output_type": "execute_result"
    }
   ],
   "source": [
    "t"
   ]
  },
  {
   "cell_type": "code",
   "execution_count": 59,
   "id": "ae0c1578",
   "metadata": {},
   "outputs": [
    {
     "name": "stdout",
     "output_type": "stream",
     "text": [
      "****Para 1 camiones ****\n",
      "Rampas = 1\n",
      "Tiempo desperdiciado: 10\n",
      "[[[8]], [[8]], [[7]], [[7]], [[6]], [[6]], [[6]], [[5]], [[5]], [[4]]]\n",
      "\n",
      "****Para 2 camiones ****\n",
      "Rampas = 1\n",
      "Tiempo desperdiciado: 15\n",
      "[[[8], [9]], [[7], [8]], [[6], [7]], [[6], [6]], [[5], [5]]]\n",
      "\n",
      "Rampas = 2\n",
      "Tiempo desperdiciado: 10\n",
      "[[[8, 8]], [[7, 7]], [[6, 6]], [[6, 5]], [[5, 4]]]\n",
      "\n",
      "****Para 3 camiones ****\n",
      "Rampas = 1\n",
      "Tiempo desperdiciado: 19\n",
      "[[[8], [9], [9]], [[7], [7], [8]], [[6], [6], [7]], [[4], [], []]]\n",
      "\n",
      "Rampas = 2\n",
      "Tiempo desperdiciado: 13\n",
      "[[[8, 8], [8]], [[7, 6], [7]], [[6, 5], [6]], [[4]]]\n",
      "\n",
      "Rampas = 3\n",
      "Tiempo desperdiciado: 10\n",
      "[[[8, 8, 7]], [[7, 6, 6]], [[6, 5, 5]], [[4]]]\n",
      "\n"
     ]
    }
   ],
   "source": [
    "def engeliano(t, n):\n",
    "    m = [i for i in range(1,n+1)] # Cantidad posible de rampas dado el # de camiones\n",
    "    '''\n",
    "    t = Fila de tiempos por viaje\n",
    "    n = Numero de camiones\n",
    "    m = Numero de rampas\n",
    "    '''\n",
    "    drive_net = sum(t)\n",
    "    # Ordenar los tiempos descendente\n",
    "    tt = sorted(t)[::-1]\n",
    "    temps = 0\n",
    "    #penalty = 8\n",
    "    for ram in m:\n",
    "        print(f\"Rampas = {ram}\")\n",
    "        t = tt.copy()\n",
    "        x = n // ram\n",
    "        y = n % ram\n",
    "        ans = []\n",
    "        valor = 0\n",
    "        \n",
    "        while t:\n",
    "            \n",
    "            i = 1\n",
    "            t2 = []\n",
    "            for _ in range(x):\n",
    "                if i == 1:\n",
    "                    t2.append([j+i for j in t[:ram]])\n",
    "                    #valor += sum([j+i+penalty for j in t[:ram]])\n",
    "                    valor += sum([j+i for j in t[:ram]])\n",
    "                    del(t[:ram])\n",
    "                    i+=1\n",
    "                else:\n",
    "                    t2.append([j+i for j in t[:ram]])\n",
    "                    valor += sum([j+i for j in t[:ram]])\n",
    "                    del(t[:ram])\n",
    "                    i+=1\n",
    "\n",
    "            if len(t[:y]) != 0:\n",
    "                t2.append([j+i for j in t[:y]])\n",
    "                valor += sum([j+i for j in t[:y]])\n",
    "            del(t[:y])\n",
    "            ans.append(t2)\n",
    "        print(f\"Tiempo desperdiciado: {abs(drive_net - valor)}\")\n",
    "        print(ans)\n",
    "        print()\n",
    "        \n",
    "\n",
    "t = [7,7,6,6,5,5,5,4,4,3] # Matriz de tiempos por viaje\n",
    "n = 3 # Numero de camiones maximos\n",
    "\n",
    "for numcam in range(1,n+1):\n",
    "    print(f\"****Para {numcam} camiones ****\")\n",
    "    engeliano(t,numcam)"
   ]
  },
  {
   "cell_type": "code",
   "execution_count": 67,
   "id": "4d1217b3",
   "metadata": {
    "scrolled": false
   },
   "outputs": [
    {
     "name": "stdout",
     "output_type": "stream",
     "text": [
      "****Para 1 camiones ****\n",
      "Rampas = 1\n",
      "Tiempo desperdiciado: 10\n",
      "\n",
      "****Para 2 camiones ****\n",
      "Rampas = 1\n",
      "Tiempo desperdiciado: 15\n",
      "\n",
      "Rampas = 2\n",
      "Tiempo desperdiciado: 20.0\n",
      "\n",
      "****Para 3 camiones ****\n",
      "Rampas = 1\n",
      "Tiempo desperdiciado: 19\n",
      "\n",
      "Rampas = 2\n",
      "Tiempo desperdiciado: 23.0\n",
      "\n",
      "Rampas = 3\n",
      "Tiempo desperdiciado: 25.0\n",
      "\n",
      "****Para 4 camiones ****\n",
      "Rampas = 1\n",
      "Tiempo desperdiciado: 23\n",
      "\n",
      "Rampas = 2\n",
      "Tiempo desperdiciado: 24.0\n",
      "\n",
      "Rampas = 3\n",
      "Tiempo desperdiciado: 27.0\n",
      "\n",
      "Rampas = 4\n",
      "Tiempo desperdiciado: 30.0\n",
      "\n",
      "****Para 5 camiones ****\n",
      "Rampas = 1\n",
      "Tiempo desperdiciado: 30\n",
      "\n",
      "Rampas = 2\n",
      "Tiempo desperdiciado: 28.0\n",
      "\n",
      "Rampas = 3\n",
      "Tiempo desperdiciado: 29.0\n",
      "\n",
      "Rampas = 4\n",
      "Tiempo desperdiciado: 32.0\n",
      "\n",
      "Rampas = 5\n",
      "Tiempo desperdiciado: 35.0\n",
      "\n",
      "****Para 6 camiones ****\n",
      "Rampas = 1\n",
      "Tiempo desperdiciado: 31\n",
      "\n",
      "Rampas = 2\n",
      "Tiempo desperdiciado: 28.0\n",
      "\n",
      "Rampas = 3\n",
      "Tiempo desperdiciado: 29.0\n",
      "\n",
      "Rampas = 4\n",
      "Tiempo desperdiciado: 32.0\n",
      "\n",
      "Rampas = 5\n",
      "Tiempo desperdiciado: 36.0\n",
      "\n",
      "Rampas = 6\n",
      "Tiempo desperdiciado: 40.0\n",
      "\n",
      "****Para 7 camiones ****\n",
      "Rampas = 1\n",
      "Tiempo desperdiciado: 34\n",
      "\n",
      "Rampas = 2\n",
      "Tiempo desperdiciado: 30.0\n",
      "\n",
      "Rampas = 3\n",
      "Tiempo desperdiciado: 30.0\n",
      "\n",
      "Rampas = 4\n",
      "Tiempo desperdiciado: 33.0\n",
      "\n",
      "Rampas = 5\n",
      "Tiempo desperdiciado: 37.0\n",
      "\n",
      "Rampas = 6\n",
      "Tiempo desperdiciado: 41.0\n",
      "\n",
      "Rampas = 7\n",
      "Tiempo desperdiciado: 45.0\n",
      "\n",
      "****Para 8 camiones ****\n",
      "Rampas = 1\n",
      "Tiempo desperdiciado: 39\n",
      "\n",
      "Rampas = 2\n",
      "Tiempo desperdiciado: 32.0\n",
      "\n",
      "Rampas = 3\n",
      "Tiempo desperdiciado: 32.0\n",
      "\n",
      "Rampas = 4\n",
      "Tiempo desperdiciado: 34.0\n",
      "\n",
      "Rampas = 5\n",
      "Tiempo desperdiciado: 38.0\n",
      "\n",
      "Rampas = 6\n",
      "Tiempo desperdiciado: 42.0\n",
      "\n",
      "Rampas = 7\n",
      "Tiempo desperdiciado: 46.0\n",
      "\n",
      "Rampas = 8\n",
      "Tiempo desperdiciado: 50.0\n",
      "\n"
     ]
    }
   ],
   "source": [
    "def engeliano_penalty(t, n, pen):\n",
    "    m = [i for i in range(1,n+1)] # Cantidad posible de rampas dado el # de camiones\n",
    "    '''\n",
    "    t = Fila de tiempos por viaje\n",
    "    n = Numero de camiones\n",
    "    m = Numero de rampas\n",
    "    pen = penalizacion de tiempo por rampa usada\n",
    "    '''\n",
    "    drive_net = sum(t)\n",
    "    # Ordenar los tiempos descendente\n",
    "    tt = sorted(t)[::-1]\n",
    "    temps = 0\n",
    "    penalty = pen\n",
    "    for ram in m:\n",
    "        print(f\"Rampas = {ram}\")\n",
    "        t = tt.copy()\n",
    "        x = n // ram\n",
    "        y = n % ram\n",
    "\n",
    "        ans = []\n",
    "        valor = 0\n",
    "    \n",
    "        if ram > 1: # Si hay mas de una rampa, te van a penalizar. ojo\n",
    "             while t:\n",
    "                i = 1 + (penalty * ram) # Tiempo de espera normal + penalizacion por rampa\n",
    "                t2 = []\n",
    "                for _ in range(x):\n",
    "                    t2.append([j+i for j in t[:ram]])\n",
    "                    valor += sum([j+i for j in t[:ram]])\n",
    "                    del(t[:ram])\n",
    "                    i+=1\n",
    "\n",
    "                if len(t[:y]) != 0:\n",
    "                    t2.append([j+i for j in t[:y]])\n",
    "                    valor += sum([j+i for j in t[:y]])\n",
    "                del(t[:y])\n",
    "                ans.append(t2)\n",
    "\n",
    "        else: # Si solo hay 1 rampa, no pasa nada, no hay penalty\n",
    "            while t:\n",
    "                i = 1\n",
    "                t2 = []\n",
    "                for _ in range(x):\n",
    "                    t2.append([j+i for j in t[:ram]])\n",
    "                    valor += sum([j+i for j in t[:ram]])\n",
    "                    del(t[:ram])\n",
    "                    i+=1\n",
    "\n",
    "                if len(t[:y]) != 0:\n",
    "                    t2.append([j+i for j in t[:y]])\n",
    "                    valor += sum([j+i for j in t[:y]])\n",
    "                del(t[:y])\n",
    "                ans.append(t2)\n",
    "        print(f\"Tiempo desperdiciado: {abs(drive_net - valor)}\")\n",
    "        #print(ans)\n",
    "        print()\n",
    "\n",
    "t = [7,7,6,6,5,5,5,4,4,3] # Matriz de tiempos por viaje\n",
    "n = 8 # Numero de camiones maximos\n",
    "pen = 0.5\n",
    "for numcam in range(1,n+1):\n",
    "    print(f\"****Para {numcam} camiones ****\")\n",
    "    engeliano_penalty(t,numcam, pen)"
   ]
  },
  {
   "cell_type": "code",
   "execution_count": 73,
   "id": "8f020d9a",
   "metadata": {},
   "outputs": [
    {
     "data": {
      "text/plain": [
       "[0, 1, 1, 0, 1]"
      ]
     },
     "execution_count": 73,
     "metadata": {},
     "output_type": "execute_result"
    }
   ],
   "source": [
    "b = [3,0,0, 1, 0]\n",
    "min_value = min(b)\n",
    "index = []\n",
    "for el in b:\n",
    "    if el == min_value:\n",
    "        index.append(b.index(min_value))\n",
    "    else:\n",
    "        index.append(0)\n",
    "index"
   ]
  },
  {
   "cell_type": "code",
   "execution_count": 45,
   "id": "a790ee36",
   "metadata": {},
   "outputs": [
    {
     "name": "stdout",
     "output_type": "stream",
     "text": [
      "Total times with 1 ramps: [10  9 10 10  9  8  8]\n",
      "Total times with 2 ramps: [10  8  9  8  8  7  8]\n",
      "Total times with 3 ramps: [10  8  8  8  7  6  7]\n"
     ]
    }
   ],
   "source": [
    "def calculate_total_times(matrix, num_trucks, num_ramps):\n",
    "    sorted_matrix = np.sort(matrix)[::-1]  # Sort matrix in descending order\n",
    "    num_jobs = len(sorted_matrix)\n",
    "    total_times = []\n",
    "\n",
    "    for ramp_count in num_ramps:\n",
    "        times = np.copy(sorted_matrix)\n",
    "        queue = [0] * ramp_count  # Initialize the queue with zeros\n",
    "\n",
    "        for i in range(num_jobs):\n",
    "            if i < ramp_count:\n",
    "                queue[i] += 1  # Add loading time\n",
    "                continue\n",
    "\n",
    "            min_time = min(queue)\n",
    "            min_index = queue.index(min_time)\n",
    "            if min_time > 0:\n",
    "                times[i] += min_time  # Add waiting time\n",
    "            queue[min_index] += 1  # Add loading time\n",
    "\n",
    "            if i >= ramp_count * num_trucks:\n",
    "                queue[i % ramp_count] -= 1  # Reset waiting time when all trucks have departed\n",
    "\n",
    "        total_times.append(times)\n",
    "\n",
    "    return total_times\n",
    "\n",
    "# Example usage:\n",
    "matrix = np.array(t)\n",
    "n = 3 # Numero de camiones\n",
    "m = [i for i in range(1,n+1)] # Numero de rampas\n",
    "result = calculate_total_times(matrix, n, m)\n",
    "for i, times in enumerate(result):\n",
    "    print(f\"Total times with {num_ramps[i]} ramps: {times}\")\n"
   ]
  },
  {
   "cell_type": "code",
   "execution_count": null,
   "id": "40733f5f",
   "metadata": {},
   "outputs": [],
   "source": [
    "for "
   ]
  },
  {
   "cell_type": "code",
   "execution_count": 114,
   "id": "6d43f12d",
   "metadata": {},
   "outputs": [
    {
     "data": {
      "text/plain": [
       "[7, 7, 6, 6, 5, 5, 5, 4, 4, 3]"
      ]
     },
     "execution_count": 114,
     "metadata": {},
     "output_type": "execute_result"
    }
   ],
   "source": [
    "t = [7,7,6,6,5,5,5,4,4,3]  # Matriz de tiempos por viaje\n",
    "z = sorted(t)[::-1]\n",
    "z"
   ]
  },
  {
   "cell_type": "code",
   "execution_count": 26,
   "id": "801040ac",
   "metadata": {},
   "outputs": [
    {
     "name": "stdout",
     "output_type": "stream",
     "text": [
      "Total times with 1 ramps: [11 10 11 11 11 11 12]\n",
      "Total times with 2 ramps: [11  9 10  9  9  8  9]\n",
      "Total times with 3 ramps: [11  9  9  9  8  7  8]\n"
     ]
    }
   ],
   "source": [
    "import numpy as np\n",
    "\n",
    "def calculate_total_times(matrix, num_trucks, num_ramps):\n",
    "    sorted_matrix = np.sort(matrix)[::-1]  # Sort matrix in descending order\n",
    "    num_jobs = len(sorted_matrix)\n",
    "    total_times = []\n",
    "\n",
    "    for ramp_count in num_ramps:\n",
    "        times = np.copy(sorted_matrix)\n",
    "        queue = [0] * ramp_count  # Initialize the queue with zeros\n",
    "\n",
    "        for i in range(num_jobs):\n",
    "            if i < ramp_count:\n",
    "                queue[i] += 1  # Add loading time\n",
    "                continue\n",
    "\n",
    "            min_time = min(queue)\n",
    "            min_index = queue.index(min_time)\n",
    "            times[i] += min_time  # Add waiting time\n",
    "            queue[min_index] += 1  # Add loading time\n",
    "\n",
    "        total_times.append(times+1)\n",
    "\n",
    "    return total_times\n",
    "\n",
    "# Example usage:\n",
    "matrix = np.array(t)\n",
    "n = 3 # Numero de camiones\n",
    "m = [i for i in range(1,n+1)] # Numero de rampas\n",
    "result = calculate_total_times(matrix, n, m)\n",
    "for i, times in enumerate(result):\n",
    "    print(f\"Total times with {num_ramps[i]} ramps: {times}\")\n"
   ]
  },
  {
   "cell_type": "code",
   "execution_count": 55,
   "id": "1c953f9f",
   "metadata": {},
   "outputs": [
    {
     "name": "stdout",
     "output_type": "stream",
     "text": [
      "i=0\n",
      "i=0\n",
      "i=0\n",
      "i=0\n",
      "i=0\n",
      "i=0\n",
      "i=0\n",
      "i=0\n",
      "i=1\n",
      "i=0\n",
      "i=1\n",
      "i=0\n",
      "i=1\n",
      "i=0\n",
      "i=0\n",
      "i=1\n",
      "i=2\n",
      "i=0\n",
      "i=1\n",
      "i=2\n",
      "i=0\n",
      "Total times with 1 ramps: [11  9  9  8  7  6  6]\n",
      "Total times with 2 ramps: [11  9  9  8  7  6  6]\n",
      "Total times with 3 ramps: [11  9  9  8  7  6  6]\n"
     ]
    }
   ],
   "source": [
    "\n",
    "\n",
    "def calculate_total_times(matrix, num_trucks, num_ramps):\n",
    "    sorted_matrix = np.sort(matrix)[::-1]  # Sort matrix in descending order\n",
    "    num_jobs = len(sorted_matrix)\n",
    "    total_times = []\n",
    "\n",
    "    for ramp_count in num_ramps:\n",
    "        times = np.copy(sorted_matrix)\n",
    "        queue = [0] * ramp_count  # Initialize the queue with zeros\n",
    "\n",
    "        for i in range(num_jobs):\n",
    "            i = (i) % ramp_count\n",
    "            print(f\"i={i}\")\n",
    "            \n",
    "            if i < ramp_count:\n",
    "                queue[i] += 1  # Add loading time\n",
    "                continue\n",
    "            print(queue)\n",
    "            min_time = min(queue)\n",
    "            min_index = queue.index(min_time)\n",
    "            if min_time > 0:\n",
    "                times[i] += min_time  # Add waiting time\n",
    "            queue[min_index] += 1  # Add loading time\n",
    "\n",
    "            if i >= ramp_count * num_trucks:\n",
    "                #queue = [0] * ramp_count  # Reset the queue when all trucks have departed\n",
    "                queue[i % ramp_count] -= 1\n",
    "\n",
    "        total_times.append(times+1)\n",
    "\n",
    "    return total_times\n",
    "\n",
    "# Example usage:\n",
    "matrix = np.array(t)\n",
    "n = 3 # Numero de camiones\n",
    "m = [i for i in range(1,n+1)] # Numero de rampas\n",
    "result = calculate_total_times(matrix, n, m)\n",
    "for i, times in enumerate(result):\n",
    "    print(f\"Total times with {num_ramps[i]} ramps: {times}\")\n"
   ]
  },
  {
   "cell_type": "code",
   "execution_count": 100,
   "id": "2d7a6423",
   "metadata": {},
   "outputs": [
    {
     "name": "stdout",
     "output_type": "stream",
     "text": [
      "i=0\n",
      "i=1\n",
      "i=2\n",
      "i=3\n",
      "i=4\n",
      "i=0\n",
      "i=1\n",
      "i=2\n",
      "i=3\n",
      "i=4\n",
      "i=0\n",
      "i=1\n",
      "i=2\n",
      "i=3\n",
      "i=4\n",
      "Total times with 1 ramps: [9 8 8 8 7]\n",
      "Total times with 2 ramps: [9 7 7 6 5]\n",
      "Total times with 3 ramps: [9 7 6 6 4]\n"
     ]
    }
   ],
   "source": [
    "import numpy as np\n",
    "\n",
    "def calculate_total_times(matrix, num_trucks, num_ramps):\n",
    "    sorted_matrix = np.sort(matrix)[::-1]  # Sort matrix in descending order\n",
    "    num_jobs = len(sorted_matrix)\n",
    "    total_times = []\n",
    "\n",
    "    for ramp_count in num_ramps:\n",
    "        times = np.copy(sorted_matrix)\n",
    "        queue = [0] * ramp_count  # Initialize the queue with zeros\n",
    "\n",
    "        for i in range(num_jobs):\n",
    "            #i = i % num_trucks\n",
    "            print(f\"i={i}\")\n",
    "            if i < ramp_count:\n",
    "                queue[i] += 1  # Add loading time\n",
    "                continue\n",
    "\n",
    "            min_time = min(queue)\n",
    "            min_index = queue.index(min_time)\n",
    "            times[i] += min_time  # Add waiting time\n",
    "            queue[min_index] += 1  # Add loading time\n",
    "\n",
    "        total_times.append(times+1)\n",
    "\n",
    "    return total_times\n",
    "\n",
    "# Example usage:\n",
    "matrix = np.array([4, 6, 2, 8, 5])\n",
    "num_trucks = 3\n",
    "num_ramps = [1, 2, 3]\n",
    "result = calculate_total_times(matrix, num_trucks, num_ramps)\n",
    "for i, times in enumerate(result):\n",
    "    print(f\"Total times with {num_ramps[i]} ramps: {times}\")\n"
   ]
  },
  {
   "cell_type": "code",
   "execution_count": 93,
   "id": "19d004b6",
   "metadata": {},
   "outputs": [
    {
     "data": {
      "text/plain": [
       "[8, 6, 5, 4, 2]"
      ]
     },
     "execution_count": 93,
     "metadata": {},
     "output_type": "execute_result"
    }
   ],
   "source": [
    "y = [4, 6, 2, 8, 5]\n",
    "y.sort(reverse=True)\n",
    "y"
   ]
  },
  {
   "cell_type": "code",
   "execution_count": 81,
   "id": "d4a94691",
   "metadata": {},
   "outputs": [
    {
     "name": "stdout",
     "output_type": "stream",
     "text": [
      "i=0\n",
      "rampas: 1\n",
      "i=1\n",
      "rampas: 1\n",
      "[1]\n",
      "i=2\n",
      "rampas: 1\n",
      "[2]\n",
      "i=3\n",
      "rampas: 1\n",
      "[3]\n"
     ]
    },
    {
     "ename": "IndexError",
     "evalue": "list assignment index out of range",
     "output_type": "error",
     "traceback": [
      "\u001b[1;31m---------------------------------------------------------------------------\u001b[0m",
      "\u001b[1;31mIndexError\u001b[0m                                Traceback (most recent call last)",
      "Cell \u001b[1;32mIn[81], line 36\u001b[0m\n\u001b[0;32m     34\u001b[0m n \u001b[38;5;241m=\u001b[39m \u001b[38;5;241m3\u001b[39m \u001b[38;5;66;03m# Numero de camiones\u001b[39;00m\n\u001b[0;32m     35\u001b[0m m \u001b[38;5;241m=\u001b[39m [i \u001b[38;5;28;01mfor\u001b[39;00m i \u001b[38;5;129;01min\u001b[39;00m \u001b[38;5;28mrange\u001b[39m(\u001b[38;5;241m1\u001b[39m,n\u001b[38;5;241m+\u001b[39m\u001b[38;5;241m1\u001b[39m)] \u001b[38;5;66;03m# Numero de rampas\u001b[39;00m\n\u001b[1;32m---> 36\u001b[0m result \u001b[38;5;241m=\u001b[39m \u001b[43mcalculate_total_times\u001b[49m\u001b[43m(\u001b[49m\u001b[43mmatrix\u001b[49m\u001b[43m,\u001b[49m\u001b[43m \u001b[49m\u001b[43mn\u001b[49m\u001b[43m,\u001b[49m\u001b[43m \u001b[49m\u001b[43mm\u001b[49m\u001b[43m)\u001b[49m\n\u001b[0;32m     37\u001b[0m \u001b[38;5;28;01mfor\u001b[39;00m i, times \u001b[38;5;129;01min\u001b[39;00m \u001b[38;5;28menumerate\u001b[39m(result):\n\u001b[0;32m     38\u001b[0m     \u001b[38;5;28mprint\u001b[39m(\u001b[38;5;124mf\u001b[39m\u001b[38;5;124m\"\u001b[39m\u001b[38;5;124mTotal times with \u001b[39m\u001b[38;5;132;01m{\u001b[39;00mnum_ramps[i]\u001b[38;5;132;01m}\u001b[39;00m\u001b[38;5;124m ramps: \u001b[39m\u001b[38;5;132;01m{\u001b[39;00mtimes\u001b[38;5;132;01m}\u001b[39;00m\u001b[38;5;124m\"\u001b[39m)\n",
      "Cell \u001b[1;32mIn[81], line 26\u001b[0m, in \u001b[0;36mcalculate_total_times\u001b[1;34m(matrix, num_trucks, num_ramps)\u001b[0m\n\u001b[0;32m     23\u001b[0m         queue[min_index] \u001b[38;5;241m+\u001b[39m\u001b[38;5;241m=\u001b[39m \u001b[38;5;241m1\u001b[39m  \u001b[38;5;66;03m# Add loading time\u001b[39;00m\n\u001b[0;32m     25\u001b[0m         \u001b[38;5;28;01mif\u001b[39;00m i \u001b[38;5;241m>\u001b[39m\u001b[38;5;241m=\u001b[39m ramp_count \u001b[38;5;241m*\u001b[39m num_trucks:\n\u001b[1;32m---> 26\u001b[0m             queue[i] \u001b[38;5;241m=\u001b[39m i \u001b[38;5;241m%\u001b[39m num_trucks  \u001b[38;5;66;03m# Reset the queue for the next set of trucks\u001b[39;00m\n\u001b[0;32m     28\u001b[0m     total_times\u001b[38;5;241m.\u001b[39mappend(times)\n\u001b[0;32m     30\u001b[0m \u001b[38;5;28;01mreturn\u001b[39;00m total_times\n",
      "\u001b[1;31mIndexError\u001b[0m: list assignment index out of range"
     ]
    }
   ],
   "source": [
    "import numpy as np\n",
    "\n",
    "def calculate_total_times(matrix, num_trucks, num_ramps):\n",
    "    sorted_matrix = np.sort(matrix)[::-1]  # Sort matrix in descending order\n",
    "    num_jobs = len(sorted_matrix)\n",
    "    total_times = []\n",
    "\n",
    "    for ramp_count in num_ramps:\n",
    "        times = np.copy(sorted_matrix)\n",
    "        queue = [0] * ramp_count  # Initialize the queue with zeros\n",
    "\n",
    "        for i in range(num_jobs):\n",
    "            print(f\"i={i}\")\n",
    "            print(f\"rampas: {ramp_count}\")\n",
    "            if i < ramp_count:\n",
    "                queue[i] += 1  # Add loading time\n",
    "                continue\n",
    "            print(queue)\n",
    "            min_time = min(queue)\n",
    "            min_index = queue.index(min_time)\n",
    "            if min_time > 0:\n",
    "                times[i] += min_time  # Add waiting time\n",
    "            queue[min_index] += 1  # Add loading time\n",
    "\n",
    "            if i >= ramp_count * num_trucks:\n",
    "                queue[i] = i % num_trucks  # Reset the queue for the next set of trucks\n",
    "\n",
    "        total_times.append(times)\n",
    "\n",
    "    return total_times\n",
    "\n",
    "# Example usage:\n",
    "matrix = np.array(t)\n",
    "n = 3 # Numero de camiones\n",
    "m = [i for i in range(1,n+1)] # Numero de rampas\n",
    "result = calculate_total_times(matrix, n, m)\n",
    "for i, times in enumerate(result):\n",
    "    print(f\"Total times with {num_ramps[i]} ramps: {times}\")\n"
   ]
  },
  {
   "cell_type": "code",
   "execution_count": 21,
   "id": "3c83981e",
   "metadata": {},
   "outputs": [
    {
     "data": {
      "text/plain": [
       "[10, 8, 8, 7, 6, 5, 5]"
      ]
     },
     "execution_count": 21,
     "metadata": {},
     "output_type": "execute_result"
    }
   ],
   "source": [
    "t.sort(reverse=True)\n",
    "t"
   ]
  },
  {
   "cell_type": "code",
   "execution_count": 10,
   "id": "25078916",
   "metadata": {},
   "outputs": [
    {
     "ename": "NameError",
     "evalue": "name 'queue' is not defined",
     "output_type": "error",
     "traceback": [
      "\u001b[1;31m---------------------------------------------------------------------------\u001b[0m",
      "\u001b[1;31mNameError\u001b[0m                                 Traceback (most recent call last)",
      "Cell \u001b[1;32mIn[10], line 1\u001b[0m\n\u001b[1;32m----> 1\u001b[0m \u001b[43mqueue\u001b[49m\n",
      "\u001b[1;31mNameError\u001b[0m: name 'queue' is not defined"
     ]
    }
   ],
   "source": [
    "queue"
   ]
  },
  {
   "cell_type": "code",
   "execution_count": 33,
   "id": "7c76737f",
   "metadata": {
    "scrolled": true
   },
   "outputs": [
    {
     "data": {
      "text/plain": [
       "range(0, 1)"
      ]
     },
     "execution_count": 33,
     "metadata": {},
     "output_type": "execute_result"
    }
   ],
   "source": [
    "range(len(t)//len(m))"
   ]
  },
  {
   "cell_type": "code",
   "execution_count": 36,
   "id": "eb0c4187",
   "metadata": {},
   "outputs": [
    {
     "name": "stdout",
     "output_type": "stream",
     "text": [
      "Carga 0: [8, 7, 6] + [1. 1. 1.] = [8. 7. 6.]\n"
     ]
    }
   ],
   "source": [
    "for numeroCarga in range(len(t)//len(m)):\n",
    "        inf = numeroRampas*numeroCarga\n",
    "        sup = numeroRampas*(numeroCarga+1)\n",
    "        tiempoCarga = np.ones(numeroRampas)*(numeroCarga+1)\n",
    "        tiemposCamiones = times[inf:sup] + np.ones(numeroRampas)*numeroCarga\n",
    "        print(f\"Carga {numeroCarga}: {times[inf:sup]} + {tiempoCarga} = {tiemposCamiones}\")"
   ]
  },
  {
   "cell_type": "code",
   "execution_count": 24,
   "id": "65267070",
   "metadata": {},
   "outputs": [
    {
     "name": "stdout",
     "output_type": "stream",
     "text": [
      "Cargas con 1 rampas\n",
      "Carga 0: [1] + [1.] = [1.]\n",
      "Carga 1: [2] + [2.] = [3.]\n",
      "Carga 2: [3] + [3.] = [5.]\n",
      "Carga 3: [] + [4.] = []\n",
      "Carga 4: [] + [5.] = []\n",
      "gol\n",
      "\n",
      "Cargas con 2 rampas\n",
      "Carga 0: [1, 2] + [1. 1.] = [1. 2.]\n",
      "Carga 1: [3] + [2. 2.] = [4. 4.]\n",
      "gol\n",
      "\n",
      "Cargas con 3 rampas\n",
      "Carga 0: [1, 2, 3] + [1. 1. 1.] = [1. 2. 3.]\n",
      "gol\n",
      "\n",
      "\n",
      "Sol: 3 \n",
      " [[1. 2. 3.]]\n"
     ]
    }
   ],
   "source": [
    "for numeroRampas in range(1,len(times)):\n",
    "    print(f\"Cargas con {numeroRampas} rampas\")\n",
    "    gol = True\n",
    "    matrizTiempo = []\n",
    "    for numeroCarga in range(len(tiempos)//numeroRampas):\n",
    "        inf = numeroRampas*numeroCarga\n",
    "        sup = numeroRampas*(numeroCarga+1)\n",
    "        tiempoCarga = np.ones(numeroRampas)*(numeroCarga+1)\n",
    "        tiemposCamiones = times[inf:sup] + np.ones(numeroRampas)*numeroCarga\n",
    "        print(f\"Carga {numeroCarga}: {times[inf:sup]} + {tiempoCarga} = {tiemposCamiones}\")\n",
    "        if (tiemposCamiones>8).any():\n",
    "            gol = False\n",
    "            break\n",
    "        matrizTiempo.append(tiemposCamiones)\n",
    "    if gol:\n",
    "        print(\"gol\")\n",
    "        break\n",
    "    else:\n",
    "        print(\"infactible\")\n",
    "    print()\n",
    "print(f\"\\nSol: {numeroRampas} \\n {np.array(matrizTiempo)}\")"
   ]
  },
  {
   "cell_type": "code",
   "execution_count": null,
   "id": "56a896b1",
   "metadata": {},
   "outputs": [],
   "source": []
  }
 ],
 "metadata": {
  "kernelspec": {
   "display_name": "Python 3 (ipykernel)",
   "language": "python",
   "name": "python3"
  },
  "language_info": {
   "codemirror_mode": {
    "name": "ipython",
    "version": 3
   },
   "file_extension": ".py",
   "mimetype": "text/x-python",
   "name": "python",
   "nbconvert_exporter": "python",
   "pygments_lexer": "ipython3",
   "version": "3.8.16"
  }
 },
 "nbformat": 4,
 "nbformat_minor": 5
}
