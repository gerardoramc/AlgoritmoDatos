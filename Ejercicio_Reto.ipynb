{
 "cells": [
  {
   "cell_type": "code",
   "execution_count": 9,
   "metadata": {},
   "outputs": [],
   "source": [
    "import numpy as np\n",
    "import  math\n",
    "from tabulate import tabulate\n",
    "from random import random\n",
    "\n",
    "\n",
    "# Datos proporcionados\n",
    "productos = [\"P1\", \"P2\", \"P3\", \"P4\", \"P5\"]\n",
    "ventas_promedio = [119, 140, 155, 158, 176]\n",
    "volumenes_productos = [1, 0.8, 1.2, 1.5, 0.6]\n",
    "numero_clientes = 10\n",
    "productos_c_cliente = []"
   ]
  },
  {
   "cell_type": "code",
   "execution_count": 2,
   "metadata": {},
   "outputs": [
    {
     "name": "stdout",
     "output_type": "stream",
     "text": [
      "--- TABLA POSSION PARA RULEATA ---\n",
      "  # Productos      poisson    Acumulado    limInf    limSup\n",
      "-------------  -----------  -----------  --------  --------\n",
      "            0  0.135335        0.135335  0         0.135335\n",
      "            1  0.270671        0.406006  0.135335  0.406006\n",
      "            2  0.270671        0.676676  0.406006  0.676676\n",
      "            3  0.180447        0.857123  0.676676  0.857123\n",
      "            4  0.0902235       0.947347  0.857123  0.947347\n",
      "            5  0.0360894       0.983436  0.947347  0.983436\n",
      "            6  0.0120298       0.995466  0.983436  0.995466\n",
      "            7  0.00343709      0.998903  0.995466  0.998903\n",
      "            8  0.000859272     0.999763  0.998903  0.999763\n",
      "            9  0.000190949     0.999954  0.999763  0.999954\n",
      "           10  3.81899e-05     0.999992  0.999954  0.999992\n"
     ]
    }
   ],
   "source": [
    "poisson = lambda x, t: (t**(x)*math.exp(-t))/math.factorial(x)\n",
    "poissonAcum = lambda x,t, include: sum([poisson(i,t) for i in range(x + (1 if include else 0))])\n",
    "tabla = {\n",
    "\"# Productos\":     [i for i in range(11)],\n",
    "\"poisson\"  :    [poisson(i, 2) for i in range(11)],\n",
    "\"Acumulado\" : [poissonAcum(i, 2, True) for i in range(11)],\n",
    "\"limInf\":   [0] + [poissonAcum(i, 2, True) for i in range(10)],\n",
    "\"limSup\":   [poissonAcum(i, 2, True) for i in range(11)]\n",
    "}\n",
    "\n",
    "print(\"--- TABLA POSSION PARA RULEATA ---\")\n",
    "print(tabulate(tabla, headers=\"keys\"))"
   ]
  },
  {
   "cell_type": "code",
   "execution_count": 27,
   "metadata": {},
   "outputs": [
    {
     "data": {
      "text/plain": [
       "array([5, 4, 5, 1, 3, 3, 5, 3, 2, 3])"
      ]
     },
     "execution_count": 27,
     "metadata": {},
     "output_type": "execute_result"
    }
   ],
   "source": [
    "def ruleata(frequencia):\n",
    "    r = random()\n",
    "    limites = (np.array(ventas_promedio)/sum(ventas_promedio)).cumsum()\n",
    "    for i in range(len(limites)):\n",
    "        if r<limites[i]:\n",
    "            return i\n",
    "rangos = list(zip(tabla[\"limInf\"], tabla[\"limSup\"], tabla[\"# Productos\"]))\n",
    "numPiezas = lambda x: [rango[2] for rango in rangos if rango[0]<x<=rango[1] or (rango[1] == rangos[10][1] and x>rango[1]) ][0]\n",
    "num = np.vectorize(numPiezas)\n",
    "unidadesPorCliente = num(np.random.random_sample(numero_clientes,))\n",
    "unidadesPorCliente"
   ]
  },
  {
   "cell_type": "code",
   "execution_count": 28,
   "metadata": {},
   "outputs": [],
   "source": [
    "# Simulación de la venta de la empresa para un día\n",
    "productos_c_cliente = []\n",
    "for cliente in range(numero_clientes):\n",
    "\n",
    "    # Selección aleatoria de productos\n",
    "    productosPorCliente= []\n",
    "    for i in range(unidadesPorCliente[cliente]):\n",
    "        productosPorCliente.append(productos[ruleata(ventas_promedio)])\n",
    "    productos_c_cliente.append(productosPorCliente.copy())"
   ]
  },
  {
   "cell_type": "code",
   "execution_count": 29,
   "metadata": {},
   "outputs": [
    {
     "data": {
      "text/plain": [
       "[['P5', 'P5', 'P3', 'P5', 'P3'],\n",
       " ['P5', 'P1', 'P2', 'P1'],\n",
       " ['P3', 'P3', 'P1', 'P2', 'P5'],\n",
       " ['P1'],\n",
       " ['P3', 'P4', 'P3'],\n",
       " ['P4', 'P5', 'P2'],\n",
       " ['P2', 'P5', 'P3', 'P5', 'P1'],\n",
       " ['P5', 'P3', 'P3'],\n",
       " ['P5', 'P5'],\n",
       " ['P2', 'P1', 'P5']]"
      ]
     },
     "execution_count": 29,
     "metadata": {},
     "output_type": "execute_result"
    }
   ],
   "source": [
    "productos_c_cliente"
   ]
  },
  {
   "cell_type": "code",
   "execution_count": null,
   "metadata": {},
   "outputs": [],
   "source": []
  }
 ],
 "metadata": {
  "kernelspec": {
   "display_name": "Python 3",
   "language": "python",
   "name": "python3"
  },
  "language_info": {
   "codemirror_mode": {
    "name": "ipython",
    "version": 3
   },
   "file_extension": ".py",
   "mimetype": "text/x-python",
   "name": "python",
   "nbconvert_exporter": "python",
   "pygments_lexer": "ipython3",
   "version": "3.10.2"
  },
  "orig_nbformat": 4
 },
 "nbformat": 4,
 "nbformat_minor": 2
}
