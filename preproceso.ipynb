{
 "cells": [
  {
   "cell_type": "markdown",
   "metadata": {},
   "source": [
    "## Approach Ln"
   ]
  },
  {
   "cell_type": "code",
   "execution_count": 1,
   "metadata": {},
   "outputs": [],
   "source": [
    "import pandas as pd\n",
    "import numpy as np\n",
    "import seaborn as sns\n",
    "import matplotlib.pyplot as plt\n",
    "import math\n",
    "from scipy.stats import poisson\n",
    "from scipy.stats import poisson\n",
    "from scipy.stats import chisquare"
   ]
  },
  {
   "cell_type": "code",
   "execution_count": 2,
   "metadata": {},
   "outputs": [],
   "source": [
    "compras = pd.read_excel('informacion_compra.xlsx')"
   ]
  },
  {
   "cell_type": "code",
   "execution_count": 3,
   "metadata": {},
   "outputs": [
    {
     "data": {
      "text/html": [
       "<div>\n",
       "<style scoped>\n",
       "    .dataframe tbody tr th:only-of-type {\n",
       "        vertical-align: middle;\n",
       "    }\n",
       "\n",
       "    .dataframe tbody tr th {\n",
       "        vertical-align: top;\n",
       "    }\n",
       "\n",
       "    .dataframe thead th {\n",
       "        text-align: right;\n",
       "    }\n",
       "</style>\n",
       "<table border=\"1\" class=\"dataframe\">\n",
       "  <thead>\n",
       "    <tr style=\"text-align: right;\">\n",
       "      <th></th>\n",
       "      <th>Producto</th>\n",
       "      <th>Unidades</th>\n",
       "      <th>Factura</th>\n",
       "    </tr>\n",
       "  </thead>\n",
       "  <tbody>\n",
       "    <tr>\n",
       "      <th>0</th>\n",
       "      <td>48443</td>\n",
       "      <td>1</td>\n",
       "      <td>799186</td>\n",
       "    </tr>\n",
       "    <tr>\n",
       "      <th>1</th>\n",
       "      <td>42877</td>\n",
       "      <td>1</td>\n",
       "      <td>717106</td>\n",
       "    </tr>\n",
       "    <tr>\n",
       "      <th>2</th>\n",
       "      <td>48296</td>\n",
       "      <td>1</td>\n",
       "      <td>468125</td>\n",
       "    </tr>\n",
       "    <tr>\n",
       "      <th>3</th>\n",
       "      <td>34704</td>\n",
       "      <td>1</td>\n",
       "      <td>176490</td>\n",
       "    </tr>\n",
       "    <tr>\n",
       "      <th>4</th>\n",
       "      <td>47158</td>\n",
       "      <td>2</td>\n",
       "      <td>674550</td>\n",
       "    </tr>\n",
       "    <tr>\n",
       "      <th>...</th>\n",
       "      <td>...</td>\n",
       "      <td>...</td>\n",
       "      <td>...</td>\n",
       "    </tr>\n",
       "    <tr>\n",
       "      <th>31649</th>\n",
       "      <td>35303</td>\n",
       "      <td>2</td>\n",
       "      <td>778814</td>\n",
       "    </tr>\n",
       "    <tr>\n",
       "      <th>31650</th>\n",
       "      <td>37584</td>\n",
       "      <td>1</td>\n",
       "      <td>632798</td>\n",
       "    </tr>\n",
       "    <tr>\n",
       "      <th>31651</th>\n",
       "      <td>19418</td>\n",
       "      <td>1</td>\n",
       "      <td>784747</td>\n",
       "    </tr>\n",
       "    <tr>\n",
       "      <th>31652</th>\n",
       "      <td>40176</td>\n",
       "      <td>1</td>\n",
       "      <td>73823</td>\n",
       "    </tr>\n",
       "    <tr>\n",
       "      <th>31653</th>\n",
       "      <td>16974</td>\n",
       "      <td>1</td>\n",
       "      <td>356870</td>\n",
       "    </tr>\n",
       "  </tbody>\n",
       "</table>\n",
       "<p>31654 rows × 3 columns</p>\n",
       "</div>"
      ],
      "text/plain": [
       "       Producto   Unidades   Factura\n",
       "0         48443           1   799186\n",
       "1         42877           1   717106\n",
       "2         48296           1   468125\n",
       "3         34704           1   176490\n",
       "4         47158           2   674550\n",
       "...         ...         ...      ...\n",
       "31649     35303           2   778814\n",
       "31650     37584           1   632798\n",
       "31651     19418           1   784747\n",
       "31652     40176           1    73823\n",
       "31653     16974           1   356870\n",
       "\n",
       "[31654 rows x 3 columns]"
      ]
     },
     "execution_count": 3,
     "metadata": {},
     "output_type": "execute_result"
    }
   ],
   "source": [
    "compras"
   ]
  },
  {
   "cell_type": "code",
   "execution_count": 4,
   "metadata": {},
   "outputs": [],
   "source": [
    "facturas = []\n",
    "productos = []\n",
    "for _,i in compras.iterrows():\n",
    "    facturas += [i[2]]*i[1]\n",
    "for _,i in compras.iterrows():\n",
    "    productos += [i[0]]*i[1]\n",
    "\n",
    "compras = pd.DataFrame({\n",
    "    \"Factura\": facturas,\n",
    "    \"Producto\": productos\n",
    "})"
   ]
  },
  {
   "cell_type": "code",
   "execution_count": 5,
   "metadata": {},
   "outputs": [
    {
     "data": {
      "text/html": [
       "<div>\n",
       "<style scoped>\n",
       "    .dataframe tbody tr th:only-of-type {\n",
       "        vertical-align: middle;\n",
       "    }\n",
       "\n",
       "    .dataframe tbody tr th {\n",
       "        vertical-align: top;\n",
       "    }\n",
       "\n",
       "    .dataframe thead th {\n",
       "        text-align: right;\n",
       "    }\n",
       "</style>\n",
       "<table border=\"1\" class=\"dataframe\">\n",
       "  <thead>\n",
       "    <tr style=\"text-align: right;\">\n",
       "      <th></th>\n",
       "      <th>Pedidos</th>\n",
       "      <th>Frecuencia</th>\n",
       "      <th>Frecuencia ln</th>\n",
       "      <th>Poisson</th>\n",
       "      <th>valores_esperados</th>\n",
       "    </tr>\n",
       "  </thead>\n",
       "  <tbody>\n",
       "    <tr>\n",
       "      <th>0</th>\n",
       "      <td>1</td>\n",
       "      <td>19235</td>\n",
       "      <td>9.864487</td>\n",
       "      <td>1.167233e-02</td>\n",
       "      <td>7.833106e-01</td>\n",
       "    </tr>\n",
       "    <tr>\n",
       "      <th>1</th>\n",
       "      <td>2</td>\n",
       "      <td>3546</td>\n",
       "      <td>8.173575</td>\n",
       "      <td>3.670598e-02</td>\n",
       "      <td>2.463277e+00</td>\n",
       "    </tr>\n",
       "    <tr>\n",
       "      <th>2</th>\n",
       "      <td>3</td>\n",
       "      <td>1024</td>\n",
       "      <td>6.931472</td>\n",
       "      <td>7.695285e-02</td>\n",
       "      <td>5.164178e+00</td>\n",
       "    </tr>\n",
       "    <tr>\n",
       "      <th>3</th>\n",
       "      <td>4</td>\n",
       "      <td>478</td>\n",
       "      <td>6.169611</td>\n",
       "      <td>1.209968e-01</td>\n",
       "      <td>8.119895e+00</td>\n",
       "    </tr>\n",
       "    <tr>\n",
       "      <th>4</th>\n",
       "      <td>5</td>\n",
       "      <td>194</td>\n",
       "      <td>5.267858</td>\n",
       "      <td>1.521995e-01</td>\n",
       "      <td>1.021385e+01</td>\n",
       "    </tr>\n",
       "    <tr>\n",
       "      <th>5</th>\n",
       "      <td>6</td>\n",
       "      <td>131</td>\n",
       "      <td>4.875197</td>\n",
       "      <td>1.595406e-01</td>\n",
       "      <td>1.070650e+01</td>\n",
       "    </tr>\n",
       "    <tr>\n",
       "      <th>6</th>\n",
       "      <td>7</td>\n",
       "      <td>61</td>\n",
       "      <td>4.110874</td>\n",
       "      <td>1.433449e-01</td>\n",
       "      <td>9.619637e+00</td>\n",
       "    </tr>\n",
       "    <tr>\n",
       "      <th>7</th>\n",
       "      <td>8</td>\n",
       "      <td>30</td>\n",
       "      <td>3.401197</td>\n",
       "      <td>1.126942e-01</td>\n",
       "      <td>7.562718e+00</td>\n",
       "    </tr>\n",
       "    <tr>\n",
       "      <th>8</th>\n",
       "      <td>10</td>\n",
       "      <td>28</td>\n",
       "      <td>3.332205</td>\n",
       "      <td>4.953103e-02</td>\n",
       "      <td>3.323945e+00</td>\n",
       "    </tr>\n",
       "    <tr>\n",
       "      <th>9</th>\n",
       "      <td>11</td>\n",
       "      <td>22</td>\n",
       "      <td>3.091042</td>\n",
       "      <td>2.832004e-02</td>\n",
       "      <td>1.900511e+00</td>\n",
       "    </tr>\n",
       "    <tr>\n",
       "      <th>10</th>\n",
       "      <td>9</td>\n",
       "      <td>19</td>\n",
       "      <td>2.944439</td>\n",
       "      <td>7.875319e-02</td>\n",
       "      <td>5.284995e+00</td>\n",
       "    </tr>\n",
       "    <tr>\n",
       "      <th>11</th>\n",
       "      <td>12</td>\n",
       "      <td>8</td>\n",
       "      <td>2.079442</td>\n",
       "      <td>1.484300e-02</td>\n",
       "      <td>9.960893e-01</td>\n",
       "    </tr>\n",
       "    <tr>\n",
       "      <th>12</th>\n",
       "      <td>20</td>\n",
       "      <td>6</td>\n",
       "      <td>1.791759</td>\n",
       "      <td>7.154970e-06</td>\n",
       "      <td>4.801581e-04</td>\n",
       "    </tr>\n",
       "    <tr>\n",
       "      <th>13</th>\n",
       "      <td>17</td>\n",
       "      <td>5</td>\n",
       "      <td>1.609438</td>\n",
       "      <td>1.967145e-04</td>\n",
       "      <td>1.320118e-02</td>\n",
       "    </tr>\n",
       "    <tr>\n",
       "      <th>14</th>\n",
       "      <td>16</td>\n",
       "      <td>4</td>\n",
       "      <td>1.386294</td>\n",
       "      <td>5.317114e-04</td>\n",
       "      <td>3.568227e-02</td>\n",
       "    </tr>\n",
       "    <tr>\n",
       "      <th>15</th>\n",
       "      <td>18</td>\n",
       "      <td>2</td>\n",
       "      <td>0.693147</td>\n",
       "      <td>6.873422e-05</td>\n",
       "      <td>4.612639e-03</td>\n",
       "    </tr>\n",
       "    <tr>\n",
       "      <th>16</th>\n",
       "      <td>13</td>\n",
       "      <td>2</td>\n",
       "      <td>0.693147</td>\n",
       "      <td>7.181046e-03</td>\n",
       "      <td>4.819080e-01</td>\n",
       "    </tr>\n",
       "    <tr>\n",
       "      <th>17</th>\n",
       "      <td>19</td>\n",
       "      <td>2</td>\n",
       "      <td>0.693147</td>\n",
       "      <td>2.275247e-05</td>\n",
       "      <td>1.526880e-03</td>\n",
       "    </tr>\n",
       "    <tr>\n",
       "      <th>18</th>\n",
       "      <td>22</td>\n",
       "      <td>1</td>\n",
       "      <td>0.000000</td>\n",
       "      <td>6.126102e-07</td>\n",
       "      <td>4.111125e-05</td>\n",
       "    </tr>\n",
       "    <tr>\n",
       "      <th>19</th>\n",
       "      <td>27</td>\n",
       "      <td>1</td>\n",
       "      <td>0.000000</td>\n",
       "      <td>6.223204e-10</td>\n",
       "      <td>4.176288e-08</td>\n",
       "    </tr>\n",
       "    <tr>\n",
       "      <th>20</th>\n",
       "      <td>14</td>\n",
       "      <td>1</td>\n",
       "      <td>0.000000</td>\n",
       "      <td>3.226033e-03</td>\n",
       "      <td>2.164937e-01</td>\n",
       "    </tr>\n",
       "    <tr>\n",
       "      <th>21</th>\n",
       "      <td>24</td>\n",
       "      <td>1</td>\n",
       "      <td>0.000000</td>\n",
       "      <td>4.389990e-08</td>\n",
       "      <td>2.946049e-06</td>\n",
       "    </tr>\n",
       "    <tr>\n",
       "      <th>22</th>\n",
       "      <td>21</td>\n",
       "      <td>1</td>\n",
       "      <td>0.000000</td>\n",
       "      <td>2.142879e-06</td>\n",
       "      <td>1.438051e-04</td>\n",
       "    </tr>\n",
       "    <tr>\n",
       "      <th>23</th>\n",
       "      <td>23</td>\n",
       "      <td>1</td>\n",
       "      <td>0.000000</td>\n",
       "      <td>1.675196e-07</td>\n",
       "      <td>1.124196e-05</td>\n",
       "    </tr>\n",
       "  </tbody>\n",
       "</table>\n",
       "</div>"
      ],
      "text/plain": [
       "    Pedidos  Frecuencia  Frecuencia ln       Poisson  valores_esperados\n",
       "0         1       19235       9.864487  1.167233e-02       7.833106e-01\n",
       "1         2        3546       8.173575  3.670598e-02       2.463277e+00\n",
       "2         3        1024       6.931472  7.695285e-02       5.164178e+00\n",
       "3         4         478       6.169611  1.209968e-01       8.119895e+00\n",
       "4         5         194       5.267858  1.521995e-01       1.021385e+01\n",
       "5         6         131       4.875197  1.595406e-01       1.070650e+01\n",
       "6         7          61       4.110874  1.433449e-01       9.619637e+00\n",
       "7         8          30       3.401197  1.126942e-01       7.562718e+00\n",
       "8        10          28       3.332205  4.953103e-02       3.323945e+00\n",
       "9        11          22       3.091042  2.832004e-02       1.900511e+00\n",
       "10        9          19       2.944439  7.875319e-02       5.284995e+00\n",
       "11       12           8       2.079442  1.484300e-02       9.960893e-01\n",
       "12       20           6       1.791759  7.154970e-06       4.801581e-04\n",
       "13       17           5       1.609438  1.967145e-04       1.320118e-02\n",
       "14       16           4       1.386294  5.317114e-04       3.568227e-02\n",
       "15       18           2       0.693147  6.873422e-05       4.612639e-03\n",
       "16       13           2       0.693147  7.181046e-03       4.819080e-01\n",
       "17       19           2       0.693147  2.275247e-05       1.526880e-03\n",
       "18       22           1       0.000000  6.126102e-07       4.111125e-05\n",
       "19       27           1       0.000000  6.223204e-10       4.176288e-08\n",
       "20       14           1       0.000000  3.226033e-03       2.164937e-01\n",
       "21       24           1       0.000000  4.389990e-08       2.946049e-06\n",
       "22       21           1       0.000000  2.142879e-06       1.438051e-04\n",
       "23       23           1       0.000000  1.675196e-07       1.124196e-05"
      ]
     },
     "execution_count": 5,
     "metadata": {},
     "output_type": "execute_result"
    }
   ],
   "source": [
    "df = compras.groupby(['Factura']).size().reset_index(name='Frequency').Frequency.value_counts()\n",
    "df = df.reset_index()\n",
    "df.columns = ['Pedidos', 'Frecuencia']\n",
    "df['Frecuencia ln'] = np.log(df['Frecuencia'])\n",
    "valor_medio = np.sum(df['Pedidos'] * df['Frecuencia ln']) / np.sum(df['Frecuencia ln'])\n",
    "df['Poisson'] = poisson.pmf(df['Pedidos'], valor_medio)\n",
    "df['valores_esperados'] = df['Poisson'] * np.sum(df['Frecuencia ln'])\n",
    "df"
   ]
  },
  {
   "cell_type": "code",
   "execution_count": 6,
   "metadata": {},
   "outputs": [
    {
     "data": {
      "text/plain": [
       "66.89301245787084"
      ]
     },
     "execution_count": 6,
     "metadata": {},
     "output_type": "execute_result"
    }
   ],
   "source": [
    "df.valores_esperados.sum()"
   ]
  },
  {
   "cell_type": "code",
   "execution_count": 7,
   "metadata": {},
   "outputs": [
    {
     "data": {
      "image/png": "[encoded data removed]",
      "text/plain": [
       "<Figure size 800x500 with 1 Axes>"
      ]
     },
     "metadata": {},
     "output_type": "display_data"
    }
   ],
   "source": [
    "# Set the style of the plot\n",
    "sns.set(style=\"whitegrid\")\n",
    "\n",
    "# Create a figure and axis\n",
    "plt.figure(figsize=(8, 5))\n",
    "\n",
    "# Plot the first set of bars with higher transparency\n",
    "sns.barplot(x='Pedidos', y='valores_esperados', data=df, alpha=0.6, label='Datos Distribuidos en Poisson')\n",
    "\n",
    "#sns.barplot(x='Pedidos', y='Frecuencia', data=df, alpha=0.6, label = 'Original')\n",
    "\n",
    "# Plot the second set of bars with lower transparency\n",
    "sns.barplot(x='Pedidos', y='Frecuencia ln', data=df, alpha=0.3, label='Valores')\n",
    "\n",
    "# Add labels and title\n",
    "plt.xlabel('Pedidos')\n",
    "plt.ylabel('ln(Conteo)')\n",
    "plt.title('Distribución poisson')\n",
    "\n",
    "# Show legend\n",
    "plt.legend()\n",
    "\n",
    "# Show the plot\n",
    "plt.show()\n"
   ]
  },
  {
   "cell_type": "markdown",
   "metadata": {},
   "source": [
    "### Distribución de productos"
   ]
  },
  {
   "cell_type": "code",
   "execution_count": 8,
   "metadata": {},
   "outputs": [
    {
     "data": {
      "text/html": [
       "<div>\n",
       "<style scoped>\n",
       "    .dataframe tbody tr th:only-of-type {\n",
       "        vertical-align: middle;\n",
       "    }\n",
       "\n",
       "    .dataframe tbody tr th {\n",
       "        vertical-align: top;\n",
       "    }\n",
       "\n",
       "    .dataframe thead th {\n",
       "        text-align: right;\n",
       "    }\n",
       "</style>\n",
       "<table border=\"1\" class=\"dataframe\">\n",
       "  <thead>\n",
       "    <tr style=\"text-align: right;\">\n",
       "      <th></th>\n",
       "      <th>Producto</th>\n",
       "      <th>Frecuencia</th>\n",
       "      <th>Frecuencia ln</th>\n",
       "      <th>Poisson</th>\n",
       "      <th>valores_esperados</th>\n",
       "    </tr>\n",
       "  </thead>\n",
       "  <tbody>\n",
       "    <tr>\n",
       "      <th>0</th>\n",
       "      <td>1</td>\n",
       "      <td>1793</td>\n",
       "      <td>7.491645</td>\n",
       "      <td>1.565792e-11</td>\n",
       "      <td>2.886239e-09</td>\n",
       "    </tr>\n",
       "    <tr>\n",
       "      <th>1</th>\n",
       "      <td>2</td>\n",
       "      <td>779</td>\n",
       "      <td>6.658011</td>\n",
       "      <td>2.209339e-10</td>\n",
       "      <td>4.072494e-08</td>\n",
       "    </tr>\n",
       "    <tr>\n",
       "      <th>2</th>\n",
       "      <td>3</td>\n",
       "      <td>414</td>\n",
       "      <td>6.025866</td>\n",
       "      <td>2.078257e-09</td>\n",
       "      <td>3.830870e-07</td>\n",
       "    </tr>\n",
       "    <tr>\n",
       "      <th>3</th>\n",
       "      <td>4</td>\n",
       "      <td>271</td>\n",
       "      <td>5.602119</td>\n",
       "      <td>1.466215e-08</td>\n",
       "      <td>2.702686e-06</td>\n",
       "    </tr>\n",
       "    <tr>\n",
       "      <th>4</th>\n",
       "      <td>5</td>\n",
       "      <td>212</td>\n",
       "      <td>5.356586</td>\n",
       "      <td>8.275338e-08</td>\n",
       "      <td>1.525400e-05</td>\n",
       "    </tr>\n",
       "    <tr>\n",
       "      <th>...</th>\n",
       "      <td>...</td>\n",
       "      <td>...</td>\n",
       "      <td>...</td>\n",
       "      <td>...</td>\n",
       "      <td>...</td>\n",
       "    </tr>\n",
       "    <tr>\n",
       "      <th>102</th>\n",
       "      <td>266</td>\n",
       "      <td>1</td>\n",
       "      <td>0.000000</td>\n",
       "      <td>3.053575e-158</td>\n",
       "      <td>5.628682e-156</td>\n",
       "    </tr>\n",
       "    <tr>\n",
       "      <th>103</th>\n",
       "      <td>118</td>\n",
       "      <td>1</td>\n",
       "      <td>0.000000</td>\n",
       "      <td>1.735316e-36</td>\n",
       "      <td>3.198723e-34</td>\n",
       "    </tr>\n",
       "    <tr>\n",
       "      <th>104</th>\n",
       "      <td>135</td>\n",
       "      <td>1</td>\n",
       "      <td>0.000000</td>\n",
       "      <td>1.379447e-47</td>\n",
       "      <td>2.542747e-45</td>\n",
       "    </tr>\n",
       "    <tr>\n",
       "      <th>105</th>\n",
       "      <td>243</td>\n",
       "      <td>1</td>\n",
       "      <td>0.000000</td>\n",
       "      <td>2.944506e-136</td>\n",
       "      <td>5.427634e-134</td>\n",
       "    </tr>\n",
       "    <tr>\n",
       "      <th>106</th>\n",
       "      <td>72</td>\n",
       "      <td>1</td>\n",
       "      <td>0.000000</td>\n",
       "      <td>2.496726e-12</td>\n",
       "      <td>4.602237e-10</td>\n",
       "    </tr>\n",
       "  </tbody>\n",
       "</table>\n",
       "<p>107 rows × 5 columns</p>\n",
       "</div>"
      ],
      "text/plain": [
       "     Producto  Frecuencia  Frecuencia ln        Poisson  valores_esperados\n",
       "0           1        1793       7.491645   1.565792e-11       2.886239e-09\n",
       "1           2         779       6.658011   2.209339e-10       4.072494e-08\n",
       "2           3         414       6.025866   2.078257e-09       3.830870e-07\n",
       "3           4         271       5.602119   1.466215e-08       2.702686e-06\n",
       "4           5         212       5.356586   8.275338e-08       1.525400e-05\n",
       "..        ...         ...            ...            ...                ...\n",
       "102       266           1       0.000000  3.053575e-158      5.628682e-156\n",
       "103       118           1       0.000000   1.735316e-36       3.198723e-34\n",
       "104       135           1       0.000000   1.379447e-47       2.542747e-45\n",
       "105       243           1       0.000000  2.944506e-136      5.427634e-134\n",
       "106        72           1       0.000000   2.496726e-12       4.602237e-10\n",
       "\n",
       "[107 rows x 5 columns]"
      ]
     },
     "metadata": {},
     "output_type": "display_data"
    }
   ],
   "source": [
    "df2 = compras.groupby(['Producto']).size().reset_index(name='Frequency').Frequency.value_counts()\n",
    "df2 = df2.reset_index()\n",
    "df2.columns = ['Producto', 'Frecuencia']\n",
    "df2['Frecuencia ln'] = np.log(df2['Frecuencia'])\n",
    "valor_medio = np.sum(df2['Producto'] * df2['Frecuencia ln']) / np.sum(df2['Frecuencia ln'])\n",
    "df2['Poisson'] = poisson.pmf(df2['Producto'], valor_medio)\n",
    "df2['valores_esperados'] = df2['Poisson'] * np.sum(df2['Frecuencia ln'])\n",
    "display(df2)"
   ]
  },
  {
   "cell_type": "code",
   "execution_count": 9,
   "metadata": {},
   "outputs": [
    {
     "data": {
      "image/png": "[encoded data removed]",
      "text/plain": [
       "<Figure size 800x500 with 1 Axes>"
      ]
     },
     "metadata": {},
     "output_type": "display_data"
    }
   ],
   "source": [
    "sns.set(style=\"whitegrid\")\n",
    "\n",
    "# Create a figure and axis\n",
    "plt.figure(figsize=(8, 5))\n",
    "\n",
    "# Plot the first set of bars with higher transparency\n",
    "sns.barplot(x='Producto', y='valores_esperados', data=df2, alpha=0.6, label='Datos Distribuidos en Poisson')\n",
    "\n",
    "#sns.barplot(x='Pedidos', y='Frecuencia', data=df, alpha=0.6, label = 'Original')\n",
    "\n",
    "# Plot the second set of bars with lower transparency\n",
    "#sns.barplot(x='Pedidos', y='Frecuencia ln', data=df, alpha=0.3, label='Valores')\n",
    "\n",
    "# Add labels and title\n",
    "plt.xlabel('Pedidos')\n",
    "plt.ylabel('ln(Conteo)')\n",
    "plt.title('Distribución poisson')\n",
    "\n",
    "# Show legend\n",
    "plt.legend()\n",
    "\n",
    "# Show the plot\n",
    "plt.show()"
   ]
  },
  {
   "cell_type": "markdown",
   "metadata": {},
   "source": [
    "## Generación de pedidos"
   ]
  },
  {
   "cell_type": "code",
   "execution_count": 10,
   "metadata": {},
   "outputs": [
    {
     "name": "stdout",
     "output_type": "stream",
     "text": [
      "The history saving thread hit an unexpected error (OperationalError('database or disk is full')).History will not be written to the database.\n"
     ]
    }
   ],
   "source": [
    "def montecarlo(df, n):  \n",
    "    resultados = []\n",
    "    for _ in range(n):\n",
    "        num = np.random.rand()\n",
    "        for j in range(len(df)):\n",
    "            if df[j][3] <= num < df[j][4]:\n",
    "                resultados.append(j)\n",
    "            \n",
    "    return resultados"
   ]
  },
  {
   "cell_type": "code",
   "execution_count": 11,
   "metadata": {},
   "outputs": [
    {
     "name": "stderr",
     "output_type": "stream",
     "text": [
      "C:\\Users\\jmanu\\AppData\\Local\\Temp\\ipykernel_4160\\3932492861.py:2: SettingWithCopyWarning: \n",
      "A value is trying to be set on a copy of a slice from a DataFrame.\n",
      "Try using .loc[row_indexer,col_indexer] = value instead\n",
      "\n",
      "See the caveats in the documentation: https://pandas.pydata.org/pandas-docs/stable/user_guide/indexing.html#returning-a-view-versus-a-copy\n",
      "  pedidos['Acumulado'] = pedidos.Poisson.cumsum()\n",
      "C:\\Users\\jmanu\\AppData\\Local\\Temp\\ipykernel_4160\\3932492861.py:3: SettingWithCopyWarning: \n",
      "A value is trying to be set on a copy of a slice from a DataFrame.\n",
      "Try using .loc[row_indexer,col_indexer] = value instead\n",
      "\n",
      "See the caveats in the documentation: https://pandas.pydata.org/pandas-docs/stable/user_guide/indexing.html#returning-a-view-versus-a-copy\n",
      "  pedidos['Inferior'] = [0] + pedidos['Acumulado'].tolist()[:-1]\n"
     ]
    }
   ],
   "source": [
    "pedidos = df[['Pedidos','Poisson']]\n",
    "pedidos['Acumulado'] = pedidos.Poisson.cumsum()\n",
    "pedidos['Inferior'] = [0] + pedidos['Acumulado'].tolist()[:-1]\n",
    "pedidos['Superior'] = pedidos['Acumulado']\n",
    "pedidos = pedidos.to_numpy()"
   ]
  },
  {
   "cell_type": "code",
   "execution_count": 12,
   "metadata": {},
   "outputs": [],
   "source": [
    "#num_pedidos = montecarlo(pedidos,df.Frecuencia.sum())\n",
    "num_pedidos = montecarlo(pedidos,compras.size)\n"
   ]
  },
  {
   "cell_type": "code",
   "execution_count": 13,
   "metadata": {},
   "outputs": [
    {
     "name": "stderr",
     "output_type": "stream",
     "text": [
      "C:\\Users\\jmanu\\AppData\\Local\\Temp\\ipykernel_4160\\3891866760.py:2: SettingWithCopyWarning: \n",
      "A value is trying to be set on a copy of a slice from a DataFrame.\n",
      "Try using .loc[row_indexer,col_indexer] = value instead\n",
      "\n",
      "See the caveats in the documentation: https://pandas.pydata.org/pandas-docs/stable/user_guide/indexing.html#returning-a-view-versus-a-copy\n",
      "  producto['Acumulado'] = producto.Poisson.cumsum()\n",
      "C:\\Users\\jmanu\\AppData\\Local\\Temp\\ipykernel_4160\\3891866760.py:3: SettingWithCopyWarning: \n",
      "A value is trying to be set on a copy of a slice from a DataFrame.\n",
      "Try using .loc[row_indexer,col_indexer] = value instead\n",
      "\n",
      "See the caveats in the documentation: https://pandas.pydata.org/pandas-docs/stable/user_guide/indexing.html#returning-a-view-versus-a-copy\n",
      "  producto['Inferior'] = [0] + producto['Acumulado'].tolist()[:-1]\n"
     ]
    }
   ],
   "source": [
    "producto = df2[['Producto','Poisson']]\n",
    "producto['Acumulado'] = producto.Poisson.cumsum()\n",
    "producto['Inferior'] = [0] + producto['Acumulado'].tolist()[:-1]\n",
    "producto['Superior'] = producto['Acumulado']\n",
    "producto = producto.to_numpy()"
   ]
  },
  {
   "cell_type": "code",
   "execution_count": 19,
   "metadata": {},
   "outputs": [],
   "source": [
    "envios = [np.array(montecarlo(producto, num)) for num in montecarlo(pedidos,df.Frecuencia.sum())]"

   ]
  },
  {
   "cell_type": "code",
   "execution_count": 31,
   "metadata": {},
   "outputs": [
    {
     "data": {
      "text/plain": [
       "array([1, 1, 1])"
      ]
     },
     "execution_count": 31,
     "metadata": {},
     "output_type": "execute_result"
    }
   ],
   "source": [
    "enviosArreglo = np.array([[-1,-1,-1]])\n"
   ]
  },
  {
   "cell_type": "code",
   "execution_count": 34,
   "metadata": {},
   "outputs": [
    {
     "name": "stderr",
     "output_type": "stream",
     "text": [
      "C:\\Users\\jmanu\\AppData\\Local\\Temp\\ipykernel_4160\\63232034.py:1: VisibleDeprecationWarning: Creating an ndarray from ragged nested sequences (which is a list-or-tuple of lists-or-tuples-or ndarrays with different lengths or shapes) is deprecated. If you meant to do this, you must specify 'dtype=object' when creating the ndarray.\n",
      "  np.array(envios)\n"
     ]
    },
    {
     "ename": "IndexError",
     "evalue": "tuple index out of range",
     "output_type": "error",
     "traceback": [
      "\u001b[1;31m---------------------------------------------------------------------------\u001b[0m",
      "\u001b[1;31mIndexError\u001b[0m                                Traceback (most recent call last)",
      "Cell \u001b[1;32mIn[34], line 4\u001b[0m\n\u001b[0;32m      1\u001b[0m np\u001b[39m.\u001b[39marray(envios)\n\u001b[0;32m      3\u001b[0m a \u001b[39m=\u001b[39m np\u001b[39m.\u001b[39munique(envios[\u001b[39m2\u001b[39m], return_counts\u001b[39m=\u001b[39m\u001b[39mTrue\u001b[39;00m)\n\u001b[1;32m----> 4\u001b[0m enviosArreglo \u001b[39m=\u001b[39m np\u001b[39m.\u001b[39mconcatenate((enviosArreglo, np\u001b[39m.\u001b[39marray([np\u001b[39m.\u001b[39mfull(\u001b[39mlen\u001b[39m(a[\u001b[39m2\u001b[39;49m]),\u001b[39m2\u001b[39m),a[\u001b[39m0\u001b[39m],a[\u001b[39m1\u001b[39m]])\u001b[39m.\u001b[39mT))\n\u001b[0;32m      5\u001b[0m enviosArreglo\n",
      "\u001b[1;31mIndexError\u001b[0m: tuple index out of range"
     ]
    }
   ],
   "source": [
    "np.array(envios)\n",
    "\n",
    "a = np.unique(envios[2], return_counts=True)\n",
    "enviosArreglo = np.concatenate((enviosArreglo, np.array([np.full(len(a[2]),2),a[0],a[1]]).T))\n",
    "enviosArreglo"
   ]
  },
  {
   "cell_type": "code",
   "execution_count": 37,

   "metadata": {},
   "outputs": [
    {
     "data": {
      "text/plain": [
       "array([[-1.0000e+00, -1.0000e+00, -1.0000e+00],\n",
       "       [ 0.0000e+00,  2.3000e+01,  1.0000e+00],\n",
       "       [ 0.0000e+00,  2.8000e+01,  1.0000e+00],\n",
       "       ...,\n",
       "       [ 2.4712e+04,  1.7000e+01,  1.0000e+00],\n",
       "       [ 2.4712e+04,  2.3000e+01,  1.0000e+00],\n",
       "       [ 2.4712e+04,  3.2000e+01,  1.0000e+00]])"
      ]
     },
     "execution_count": 37,
     "metadata": {},
     "output_type": "execute_result"
    }
   ],
   "source": [
    "enviosArreglo = np.array([[-1,-1,-1]])\n",
    "for i in range(len(envios)):\n",
    "    a = np.unique(np.array(envios[i]), return_counts=True)\n",
    "    enviosArreglo = np.concatenate((enviosArreglo, np.array([np.array([i]*len(a[0])),a[0],a[1]]).T))\n",

    "enviosArreglo"
   ]
  },
  {
   "cell_type": "code",
   "execution_count": 43,
   "metadata": {},
   "outputs": [],
   "source": [
    "pd.DataFrame(enviosArreglo[1:]).to_csv(\"prubeDist.CSV\")\n"
   ]
  },
  {
   "cell_type": "code",
   "execution_count": null,
   "metadata": {},
   "outputs": [],
   "source": []
  }
 ],
 "metadata": {
  "kernelspec": {
   "display_name": "base",
   "language": "python",
   "name": "python3"
  },
  "language_info": {
   "codemirror_mode": {
    "name": "ipython",
    "version": 3
   },
   "file_extension": ".py",
   "mimetype": "text/x-python",
   "name": "python",
   "nbconvert_exporter": "python",
   "pygments_lexer": "ipython3",
   "version": "3.10.10"
  },
  "orig_nbformat": 4
 },
 "nbformat": 4,
 "nbformat_minor": 2
}
