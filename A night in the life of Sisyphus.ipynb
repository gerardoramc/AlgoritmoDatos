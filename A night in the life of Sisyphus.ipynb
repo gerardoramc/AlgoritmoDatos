{
 "cells": [
  {
   "cell_type": "markdown",
   "id": "0a04f15b",
   "metadata": {},
   "source": [
    "# Fase Beta de la entrega del reto\n",
    "### ***Secuencia***\n",
    "1. Generar frecuencias de ventas y simular una venta de 105 clientes.\n",
    "2. Tomar los volúmenes de las compras de los clientes para determinar la cantidad de camiones necesarios.\n",
    "3. Sabiendo los camiones, utilizar k-medoids para hacer los mini-tcps.\n",
    "4. Resolver los mtcps."
   ]
  },
  {
   "cell_type": "markdown",
   "id": "7e3e15cf",
   "metadata": {},
   "source": [
    "### ***Librerías***"
   ]
  },
  {
   "cell_type": "code",
   "execution_count": 1,
   "id": "7fc002af",
   "metadata": {},
   "outputs": [],
   "source": [
    "import pandas as pd\n",
    "import numpy as np\n",
    "\n",
    "import seaborn as sns\n",
    "import matplotlib.pyplot as plt\n",
    "import math\n",
    "\n",
    "from scipy.stats import poisson\n",
    "from scipy.stats import poisson\n",
    "from scipy.stats import chisquare\n",
    "\n",
    "\n",
    "from ortools.linear_solver import pywraplp\n",
    "\n",
    "from scipy.spatial.distance import cdist\n",
    "\n",
    "import time"
   ]
  },
  {
   "cell_type": "markdown",
   "id": "3d12a6bf",
   "metadata": {},
   "source": [
    "# Lo que se corre 1 vez solo"
   ]
  },
  {
   "cell_type": "code",
   "execution_count": 2,
   "id": "3f2aa321",
   "metadata": {},
   "outputs": [],
   "source": [
    "compras = pd.read_excel('informacion_compra.xlsx')"
   ]
  },
  {
   "cell_type": "code",
   "execution_count": 3,
   "id": "99464cd9",
   "metadata": {},
   "outputs": [
    {
     "data": {
      "text/html": [
       "<div>\n",
       "<style scoped>\n",
       "    .dataframe tbody tr th:only-of-type {\n",
       "        vertical-align: middle;\n",
       "    }\n",
       "\n",
       "    .dataframe tbody tr th {\n",
       "        vertical-align: top;\n",
       "    }\n",
       "\n",
       "    .dataframe thead th {\n",
       "        text-align: right;\n",
       "    }\n",
       "</style>\n",
       "<table border=\"1\" class=\"dataframe\">\n",
       "  <thead>\n",
       "    <tr style=\"text-align: right;\">\n",
       "      <th></th>\n",
       "      <th>Producto</th>\n",
       "      <th>Unidades</th>\n",
       "      <th>Factura</th>\n",
       "    </tr>\n",
       "  </thead>\n",
       "  <tbody>\n",
       "    <tr>\n",
       "      <th>0</th>\n",
       "      <td>48443</td>\n",
       "      <td>1</td>\n",
       "      <td>799186</td>\n",
       "    </tr>\n",
       "    <tr>\n",
       "      <th>1</th>\n",
       "      <td>42877</td>\n",
       "      <td>1</td>\n",
       "      <td>717106</td>\n",
       "    </tr>\n",
       "    <tr>\n",
       "      <th>2</th>\n",
       "      <td>48296</td>\n",
       "      <td>1</td>\n",
       "      <td>468125</td>\n",
       "    </tr>\n",
       "  </tbody>\n",
       "</table>\n",
       "</div>"
      ],
      "text/plain": [
       "   Producto   Unidades   Factura\n",
       "0     48443           1   799186\n",
       "1     42877           1   717106\n",
       "2     48296           1   468125"
      ]
     },
     "execution_count": 3,
     "metadata": {},
     "output_type": "execute_result"
    }
   ],
   "source": [
    "compras.head(3)"
   ]
  },
  {
   "cell_type": "code",
   "execution_count": 4,
   "id": "97ad2ebf",
   "metadata": {},
   "outputs": [],
   "source": [
    "facturas = []\n",
    "productos = []\n",
    "for _,i in compras.iterrows():\n",
    "    facturas += [i[2]]*i[1]\n",
    "for _,i in compras.iterrows():\n",
    "    productos += [i[0]]*i[1]\n",
    "\n",
    "compras = pd.DataFrame({\n",
    "    \"Factura\": facturas,\n",
    "    \"Producto\": productos\n",
    "})"
   ]
  },
  {
   "cell_type": "code",
   "execution_count": 5,
   "id": "0dbcfe82",
   "metadata": {},
   "outputs": [
    {
     "data": {
      "text/html": [
       "<div>\n",
       "<style scoped>\n",
       "    .dataframe tbody tr th:only-of-type {\n",
       "        vertical-align: middle;\n",
       "    }\n",
       "\n",
       "    .dataframe tbody tr th {\n",
       "        vertical-align: top;\n",
       "    }\n",
       "\n",
       "    .dataframe thead th {\n",
       "        text-align: right;\n",
       "    }\n",
       "</style>\n",
       "<table border=\"1\" class=\"dataframe\">\n",
       "  <thead>\n",
       "    <tr style=\"text-align: right;\">\n",
       "      <th></th>\n",
       "      <th>Pedidos</th>\n",
       "      <th>Frecuencia</th>\n",
       "      <th>Frecuencia ln</th>\n",
       "      <th>Poisson</th>\n",
       "      <th>valores_esperados</th>\n",
       "    </tr>\n",
       "  </thead>\n",
       "  <tbody>\n",
       "    <tr>\n",
       "      <th>0</th>\n",
       "      <td>1</td>\n",
       "      <td>19235</td>\n",
       "      <td>9.864487</td>\n",
       "      <td>0.011672</td>\n",
       "      <td>0.783311</td>\n",
       "    </tr>\n",
       "    <tr>\n",
       "      <th>1</th>\n",
       "      <td>2</td>\n",
       "      <td>3546</td>\n",
       "      <td>8.173575</td>\n",
       "      <td>0.036706</td>\n",
       "      <td>2.463277</td>\n",
       "    </tr>\n",
       "    <tr>\n",
       "      <th>2</th>\n",
       "      <td>3</td>\n",
       "      <td>1024</td>\n",
       "      <td>6.931472</td>\n",
       "      <td>0.076953</td>\n",
       "      <td>5.164178</td>\n",
       "    </tr>\n",
       "  </tbody>\n",
       "</table>\n",
       "</div>"
      ],
      "text/plain": [
       "   Pedidos  Frecuencia  Frecuencia ln   Poisson  valores_esperados\n",
       "0        1       19235       9.864487  0.011672           0.783311\n",
       "1        2        3546       8.173575  0.036706           2.463277\n",
       "2        3        1024       6.931472  0.076953           5.164178"
      ]
     },
     "execution_count": 5,
     "metadata": {},
     "output_type": "execute_result"
    }
   ],
   "source": [
    "df = compras.groupby(['Factura']).size().reset_index(name='Frequency').Frequency.value_counts()\n",
    "df = df.reset_index()\n",
    "df.columns = ['Pedidos', 'Frecuencia']\n",
    "df['Frecuencia ln'] = np.log(df['Frecuencia'])\n",
    "valor_medio = np.sum(df['Pedidos'] * df['Frecuencia ln']) / np.sum(df['Frecuencia ln'])\n",
    "df['Poisson'] = poisson.pmf(df['Pedidos'], valor_medio)\n",
    "df['valores_esperados'] = df['Poisson'] * np.sum(df['Frecuencia ln'])\n",
    "df.head(3)"
   ]
  },
  {
   "cell_type": "code",
   "execution_count": 6,
   "id": "2c86d575",
   "metadata": {},
   "outputs": [
    {
     "data": {
      "text/html": [
       "<div>\n",
       "<style scoped>\n",
       "    .dataframe tbody tr th:only-of-type {\n",
       "        vertical-align: middle;\n",
       "    }\n",
       "\n",
       "    .dataframe tbody tr th {\n",
       "        vertical-align: top;\n",
       "    }\n",
       "\n",
       "    .dataframe thead th {\n",
       "        text-align: right;\n",
       "    }\n",
       "</style>\n",
       "<table border=\"1\" class=\"dataframe\">\n",
       "  <thead>\n",
       "    <tr style=\"text-align: right;\">\n",
       "      <th></th>\n",
       "      <th>Producto</th>\n",
       "      <th>Frecuencia</th>\n",
       "      <th>Frecuencia ln</th>\n",
       "      <th>Poisson</th>\n",
       "      <th>valores_esperados</th>\n",
       "    </tr>\n",
       "  </thead>\n",
       "  <tbody>\n",
       "    <tr>\n",
       "      <th>0</th>\n",
       "      <td>1</td>\n",
       "      <td>1793</td>\n",
       "      <td>7.491645</td>\n",
       "      <td>1.565792e-11</td>\n",
       "      <td>2.886239e-09</td>\n",
       "    </tr>\n",
       "    <tr>\n",
       "      <th>1</th>\n",
       "      <td>2</td>\n",
       "      <td>779</td>\n",
       "      <td>6.658011</td>\n",
       "      <td>2.209339e-10</td>\n",
       "      <td>4.072494e-08</td>\n",
       "    </tr>\n",
       "    <tr>\n",
       "      <th>2</th>\n",
       "      <td>3</td>\n",
       "      <td>414</td>\n",
       "      <td>6.025866</td>\n",
       "      <td>2.078257e-09</td>\n",
       "      <td>3.830870e-07</td>\n",
       "    </tr>\n",
       "  </tbody>\n",
       "</table>\n",
       "</div>"
      ],
      "text/plain": [
       "   Producto  Frecuencia  Frecuencia ln       Poisson  valores_esperados\n",
       "0         1        1793       7.491645  1.565792e-11       2.886239e-09\n",
       "1         2         779       6.658011  2.209339e-10       4.072494e-08\n",
       "2         3         414       6.025866  2.078257e-09       3.830870e-07"
      ]
     },
     "execution_count": 6,
     "metadata": {},
     "output_type": "execute_result"
    }
   ],
   "source": [
    "df2 = compras.groupby(['Producto']).size().reset_index(name='Frequency').Frequency.value_counts()\n",
    "df2 = df2.reset_index()\n",
    "df2.columns = ['Producto', 'Frecuencia']\n",
    "df2['Frecuencia ln'] = np.log(df2['Frecuencia'])\n",
    "valor_medio = np.sum(df2['Producto'] * df2['Frecuencia ln']) / np.sum(df2['Frecuencia ln'])\n",
    "df2['Poisson'] = poisson.pmf(df2['Producto'], valor_medio)\n",
    "df2['valores_esperados'] = df2['Poisson'] * np.sum(df2['Frecuencia ln'])\n",
    "df2.head(3)"
   ]
  },
  {
   "cell_type": "code",
   "execution_count": 7,
   "id": "92eae964",
   "metadata": {},
   "outputs": [],
   "source": [
    "def montecarlo(df, n):  \n",
    "    resultados = []\n",
    "    for _ in range(n):\n",
    "        num = np.random.rand()\n",
    "        for j in range(len(df)):\n",
    "            if df[j][3] <= num < df[j][4]:\n",
    "                resultados.append(j)\n",
    "            \n",
    "    return resultados"
   ]
  },
  {
   "cell_type": "code",
   "execution_count": 8,
   "id": "3b3255df",
   "metadata": {},
   "outputs": [
    {
     "name": "stderr",
     "output_type": "stream",
     "text": [
      "C:\\Users\\david\\AppData\\Local\\Temp\\ipykernel_18112\\3932492861.py:2: SettingWithCopyWarning: \n",
      "A value is trying to be set on a copy of a slice from a DataFrame.\n",
      "Try using .loc[row_indexer,col_indexer] = value instead\n",
      "\n",
      "See the caveats in the documentation: https://pandas.pydata.org/pandas-docs/stable/user_guide/indexing.html#returning-a-view-versus-a-copy\n",
      "  pedidos['Acumulado'] = pedidos.Poisson.cumsum()\n",
      "C:\\Users\\david\\AppData\\Local\\Temp\\ipykernel_18112\\3932492861.py:3: SettingWithCopyWarning: \n",
      "A value is trying to be set on a copy of a slice from a DataFrame.\n",
      "Try using .loc[row_indexer,col_indexer] = value instead\n",
      "\n",
      "See the caveats in the documentation: https://pandas.pydata.org/pandas-docs/stable/user_guide/indexing.html#returning-a-view-versus-a-copy\n",
      "  pedidos['Inferior'] = [0] + pedidos['Acumulado'].tolist()[:-1]\n"
     ]
    }
   ],
   "source": [
    "pedidos = df[['Pedidos','Poisson']]\n",
    "pedidos['Acumulado'] = pedidos.Poisson.cumsum()\n",
    "pedidos['Inferior'] = [0] + pedidos['Acumulado'].tolist()[:-1]\n",
    "pedidos['Superior'] = pedidos['Acumulado']\n",
    "pedidos = pedidos.to_numpy()"
   ]
  },
  {
   "cell_type": "code",
   "execution_count": 9,
   "id": "fe6d629a",
   "metadata": {},
   "outputs": [],
   "source": [
    "#num_pedidos = montecarlo(pedidos,df.Frecuencia.sum())\n",
    "num_pedidos = montecarlo(pedidos,compras.size)\n"
   ]
  },
  {
   "cell_type": "code",
   "execution_count": 10,
   "id": "f6f245eb",
   "metadata": {},
   "outputs": [
    {
     "name": "stderr",
     "output_type": "stream",
     "text": [
      "C:\\Users\\david\\AppData\\Local\\Temp\\ipykernel_18112\\3891866760.py:2: SettingWithCopyWarning: \n",
      "A value is trying to be set on a copy of a slice from a DataFrame.\n",
      "Try using .loc[row_indexer,col_indexer] = value instead\n",
      "\n",
      "See the caveats in the documentation: https://pandas.pydata.org/pandas-docs/stable/user_guide/indexing.html#returning-a-view-versus-a-copy\n",
      "  producto['Acumulado'] = producto.Poisson.cumsum()\n",
      "C:\\Users\\david\\AppData\\Local\\Temp\\ipykernel_18112\\3891866760.py:3: SettingWithCopyWarning: \n",
      "A value is trying to be set on a copy of a slice from a DataFrame.\n",
      "Try using .loc[row_indexer,col_indexer] = value instead\n",
      "\n",
      "See the caveats in the documentation: https://pandas.pydata.org/pandas-docs/stable/user_guide/indexing.html#returning-a-view-versus-a-copy\n",
      "  producto['Inferior'] = [0] + producto['Acumulado'].tolist()[:-1]\n"
     ]
    }
   ],
   "source": [
    "producto = df2[['Producto','Poisson']]\n",
    "producto['Acumulado'] = producto.Poisson.cumsum()\n",
    "producto['Inferior'] = [0] + producto['Acumulado'].tolist()[:-1]\n",
    "producto['Superior'] = producto['Acumulado']\n",
    "producto = producto.to_numpy()"
   ]
  },
  {
   "cell_type": "code",
   "execution_count": 11,
   "id": "16a3e5e2",
   "metadata": {},
   "outputs": [],
   "source": [
    "dp = pd.read_csv('info_productos.csv')\n",
    "dp.columns = ['Producto', 'Volumen']\n",
    "nuevo_registro = {\"Producto\": 0, \"Volumen\": 0}\n",
    "dp = pd.concat([pd.DataFrame([nuevo_registro]), dp], ignore_index=True)\n",
    "volumenes = dp.to_numpy()[:,1]"
   ]
  },
  {
   "cell_type": "code",
   "execution_count": 12,
   "id": "94b2c409",
   "metadata": {},
   "outputs": [
    {
     "data": {
      "text/plain": [
       "53633"
      ]
     },
     "execution_count": 12,
     "metadata": {},
     "output_type": "execute_result"
    }
   ],
   "source": [
    "len(volumenes)"
   ]
  },
  {
   "cell_type": "code",
   "execution_count": 13,
   "id": "8e9a6cce",
   "metadata": {
    "scrolled": true
   },
   "outputs": [
    {
     "data": {
      "text/html": [
       "<div>\n",
       "<style scoped>\n",
       "    .dataframe tbody tr th:only-of-type {\n",
       "        vertical-align: middle;\n",
       "    }\n",
       "\n",
       "    .dataframe tbody tr th {\n",
       "        vertical-align: top;\n",
       "    }\n",
       "\n",
       "    .dataframe thead th {\n",
       "        text-align: right;\n",
       "    }\n",
       "</style>\n",
       "<table border=\"1\" class=\"dataframe\">\n",
       "  <thead>\n",
       "    <tr style=\"text-align: right;\">\n",
       "      <th></th>\n",
       "      <th>Distance</th>\n",
       "      <th>Duration</th>\n",
       "    </tr>\n",
       "  </thead>\n",
       "  <tbody>\n",
       "    <tr>\n",
       "      <th>0</th>\n",
       "      <td>0.00</td>\n",
       "      <td>0:00</td>\n",
       "    </tr>\n",
       "    <tr>\n",
       "      <th>1</th>\n",
       "      <td>15.26</td>\n",
       "      <td>0:22</td>\n",
       "    </tr>\n",
       "    <tr>\n",
       "      <th>2</th>\n",
       "      <td>14.93</td>\n",
       "      <td>0:17</td>\n",
       "    </tr>\n",
       "  </tbody>\n",
       "</table>\n",
       "</div>"
      ],
      "text/plain": [
       "   Distance Duration\n",
       "0      0.00     0:00\n",
       "1     15.26     0:22\n",
       "2     14.93     0:17"
      ]
     },
     "execution_count": 13,
     "metadata": {},
     "output_type": "execute_result"
    }
   ],
   "source": [
    "path = \"https://raw.githubusercontent.com/gerardoramc/AlgoritmoDatos/Gerardo/distancias_tiempos2.csv\"\n",
    "df = pd.read_csv(path)\n",
    "df.head(3)"
   ]
  },
  {
   "cell_type": "code",
   "execution_count": 14,
   "id": "e06a5aad",
   "metadata": {},
   "outputs": [],
   "source": [
    "df['Duration'] = pd.to_datetime(df['Duration'])\n",
    "df['Duration'] = df['Duration'].dt.strftime('%H:%M')\n",
    "df['Duration']=df['Duration'].astype('string')"
   ]
  },
  {
   "cell_type": "code",
   "execution_count": 15,
   "id": "1fb17a7e",
   "metadata": {},
   "outputs": [
    {
     "name": "stdout",
     "output_type": "stream",
     "text": [
      "       Distance Duration  Segundos\n",
      "0         0.000    00:00         0\n",
      "1        15.260    00:22      1320\n",
      "2        14.930    00:17      1020\n",
      "3        23.420    00:33      1980\n",
      "4         9.490    00:12       720\n",
      "...         ...      ...       ...\n",
      "11231    38.365    00:44      2640\n",
      "11232     9.674    00:24      1440\n",
      "11233    12.298    00:27      1620\n",
      "11234     5.247    00:17      1020\n",
      "11235     0.000    00:00         0\n",
      "\n",
      "[11236 rows x 3 columns]\n"
     ]
    }
   ],
   "source": [
    "def convert_to_seconds(time_str):\n",
    "    hours, minutes = map(int, time_str.split(':'))\n",
    "    total_seconds = hours * 3600 + minutes * 60\n",
    "    return total_seconds\n",
    "\n",
    "# Apply the conversion function to the DataFrame column\n",
    "df['Segundos'] = df['Duration'].apply(convert_to_seconds)\n",
    "\n",
    "print(df)"
   ]
  },
  {
   "cell_type": "code",
   "execution_count": 16,
   "id": "27e588a9",
   "metadata": {},
   "outputs": [
    {
     "data": {
      "text/plain": [
       "array([[0.0, '00:00', 0],\n",
       "       [15.26, '00:22', 1320],\n",
       "       [14.93, '00:17', 1020],\n",
       "       ...,\n",
       "       [12.298, '00:27', 1620],\n",
       "       [5.247, '00:17', 1020],\n",
       "       [0.0, '00:00', 0]], dtype=object)"
      ]
     },
     "execution_count": 16,
     "metadata": {},
     "output_type": "execute_result"
    }
   ],
   "source": [
    "df.to_numpy()"
   ]
  },
  {
   "cell_type": "code",
   "execution_count": 17,
   "id": "f5c4dc05",
   "metadata": {
    "scrolled": true
   },
   "outputs": [
    {
     "data": {
      "text/plain": [
       "array([    0,   106,   212,   318,   424,   530,   636,   742,   848,\n",
       "         954,  1060,  1166,  1272,  1378,  1484,  1590,  1696,  1802,\n",
       "        1908,  2014,  2120,  2226,  2332,  2438,  2544,  2650,  2756,\n",
       "        2862,  2968,  3074,  3180,  3286,  3392,  3498,  3604,  3710,\n",
       "        3816,  3922,  4028,  4134,  4240,  4346,  4452,  4558,  4664,\n",
       "        4770,  4876,  4982,  5088,  5194,  5300,  5406,  5512,  5618,\n",
       "        5724,  5830,  5936,  6042,  6148,  6254,  6360,  6466,  6572,\n",
       "        6678,  6784,  6890,  6996,  7102,  7208,  7314,  7420,  7526,\n",
       "        7632,  7738,  7844,  7950,  8056,  8162,  8268,  8374,  8480,\n",
       "        8586,  8692,  8798,  8904,  9010,  9116,  9222,  9328,  9434,\n",
       "        9540,  9646,  9752,  9858,  9964, 10070, 10176, 10282, 10388,\n",
       "       10494, 10600, 10706, 10812, 10918, 11024, 11130])"
      ]
     },
     "execution_count": 17,
     "metadata": {},
     "output_type": "execute_result"
    }
   ],
   "source": [
    "rangos = np.arange(0,11236,106)\n",
    "rangos"
   ]
  },
  {
   "cell_type": "code",
   "execution_count": 18,
   "id": "bcb5d9f3",
   "metadata": {},
   "outputs": [],
   "source": [
    "def remove_first_row_and_column(input_array):\n",
    "    if input_array.shape[0] <= 1 or input_array.shape[1] <= 1:\n",
    "        raise ValueError(\"Input array must have at least 2 rows and 2 columns.\")\n",
    "\n",
    "    new_array = input_array[1:, 1:]\n",
    "    return new_array\n"
   ]
  },
  {
   "cell_type": "code",
   "execution_count": 19,
   "id": "130822d3",
   "metadata": {},
   "outputs": [],
   "source": [
    "def k_medoids(X, k, max_iters=100):\n",
    "    num_samples, num_features = X.shape\n",
    "    medoids_indices = np.random.choice(num_samples, k, replace=False)\n",
    "    medoids = X[medoids_indices]\n",
    "\n",
    "    for _ in range(max_iters):\n",
    "        distances = cdist(X, medoids, metric='euclidean')\n",
    "        cluster_assignments = np.argmin(distances, axis=1)\n",
    "\n",
    "        for i in range(k):\n",
    "            cluster_points = X[cluster_assignments == i]\n",
    "            cluster_distances = distances[cluster_assignments == i][:, i]\n",
    "            new_medoid_index = np.argmin(cluster_distances)\n",
    "            medoids[i] = cluster_points[new_medoid_index]\n",
    "\n",
    "    return medoids, cluster_assignments\n"
   ]
  },
  {
   "cell_type": "code",
   "execution_count": 20,
   "id": "7aa8871f",
   "metadata": {},
   "outputs": [
    {
     "data": {
      "text/plain": [
       "(106, 106)"
      ]
     },
     "execution_count": 20,
     "metadata": {},
     "output_type": "execute_result"
    }
   ],
   "source": [
    "cuadrada = []\n",
    "for i in range(len(rangos)-1):\n",
    "    cuadrada.append(list((df['Segundos'][rangos[i]:rangos[i+1]])))\n",
    "result_array = np.append(np.array(cuadrada), [(df['Segundos'][rangos[-1]:])], axis = 0)\n",
    "\n",
    "mapa = result_array \n",
    "result_array.shape"
   ]
  },
  {
   "cell_type": "markdown",
   "id": "9c2c46a2",
   "metadata": {},
   "source": [
    "## Filthy cycle"
   ]
  },
  {
   "cell_type": "code",
   "execution_count": 21,
   "id": "2d43783d",
   "metadata": {},
   "outputs": [
    {
     "ename": "NameError",
     "evalue": "name 'envios_np' is not defined",
     "output_type": "error",
     "traceback": [
      "\u001b[1;31m---------------------------------------------------------------------------\u001b[0m",
      "\u001b[1;31mNameError\u001b[0m                                 Traceback (most recent call last)",
      "Cell \u001b[1;32mIn[21], line 1\u001b[0m\n\u001b[1;32m----> 1\u001b[0m \u001b[43menvios_np\u001b[49m\u001b[38;5;241m.\u001b[39mshape\n",
      "\u001b[1;31mNameError\u001b[0m: name 'envios_np' is not defined"
     ]
    }
   ],
   "source": [
    "envios_np.shape"
   ]
  },
  {
   "cell_type": "code",
   "execution_count": 27,
   "id": "b93d978a",
   "metadata": {},
   "outputs": [
    {
     "ename": "KeyboardInterrupt",
     "evalue": "",
     "output_type": "error",
     "traceback": [
      "\u001b[1;31m---------------------------------------------------------------------------\u001b[0m",
      "\u001b[1;31mKeyboardInterrupt\u001b[0m                         Traceback (most recent call last)",
      "Cell \u001b[1;32mIn[27], line 105\u001b[0m\n\u001b[0;32m     98\u001b[0m objective\u001b[38;5;241m.\u001b[39mSetMaximization()\n\u001b[0;32m    104\u001b[0m start_time\u001b[38;5;241m=\u001b[39mtime\u001b[38;5;241m.\u001b[39mtime()\n\u001b[1;32m--> 105\u001b[0m status \u001b[38;5;241m=\u001b[39m \u001b[43msolver\u001b[49m\u001b[38;5;241;43m.\u001b[39;49m\u001b[43mSolve\u001b[49m\u001b[43m(\u001b[49m\u001b[43m)\u001b[49m\n\u001b[0;32m    107\u001b[0m \u001b[38;5;28;01mif\u001b[39;00m status \u001b[38;5;241m==\u001b[39m pywraplp\u001b[38;5;241m.\u001b[39mSolver\u001b[38;5;241m.\u001b[39mOPTIMAL:\n\u001b[0;32m    109\u001b[0m     unused_items \u001b[38;5;241m=\u001b[39m [i \u001b[38;5;28;01mfor\u001b[39;00m i \u001b[38;5;129;01min\u001b[39;00m data[\u001b[38;5;124m\"\u001b[39m\u001b[38;5;124mall_items\u001b[39m\u001b[38;5;124m\"\u001b[39m] \u001b[38;5;28;01mif\u001b[39;00m \u001b[38;5;28mall\u001b[39m(x[i, b]\u001b[38;5;241m.\u001b[39msolution_value() \u001b[38;5;241m==\u001b[39m \u001b[38;5;241m0\u001b[39m \u001b[38;5;28;01mfor\u001b[39;00m b \u001b[38;5;129;01min\u001b[39;00m data[\u001b[38;5;124m\"\u001b[39m\u001b[38;5;124mall_bins\u001b[39m\u001b[38;5;124m\"\u001b[39m])]\n",
      "File \u001b[1;32m~\\anaconda3\\lib\\site-packages\\ortools\\linear_solver\\pywraplp.py:278\u001b[0m, in \u001b[0;36mSolver.Solve\u001b[1;34m(self, *args)\u001b[0m\n\u001b[0;32m    268\u001b[0m \u001b[38;5;28;01mdef\u001b[39;00m \u001b[38;5;21mSolve\u001b[39m(\u001b[38;5;28mself\u001b[39m, \u001b[38;5;241m*\u001b[39margs):\n\u001b[0;32m    269\u001b[0m     \u001b[38;5;124mr\u001b[39m\u001b[38;5;124;03m\"\"\"\u001b[39;00m\n\u001b[0;32m    270\u001b[0m \u001b[38;5;124;03m    *Overload 1:*\u001b[39;00m\n\u001b[0;32m    271\u001b[0m \u001b[38;5;124;03m    Solves the problem using the default parameter values.\u001b[39;00m\n\u001b[1;32m   (...)\u001b[0m\n\u001b[0;32m    276\u001b[0m \u001b[38;5;124;03m    Solves the problem using the specified parameter values.\u001b[39;00m\n\u001b[0;32m    277\u001b[0m \u001b[38;5;124;03m    \"\"\"\u001b[39;00m\n\u001b[1;32m--> 278\u001b[0m     \u001b[38;5;28;01mreturn\u001b[39;00m \u001b[43m_pywraplp\u001b[49m\u001b[38;5;241;43m.\u001b[39;49m\u001b[43mSolver_Solve\u001b[49m\u001b[43m(\u001b[49m\u001b[38;5;28;43mself\u001b[39;49m\u001b[43m,\u001b[49m\u001b[43m \u001b[49m\u001b[38;5;241;43m*\u001b[39;49m\u001b[43margs\u001b[49m\u001b[43m)\u001b[49m\n",
      "\u001b[1;31mKeyboardInterrupt\u001b[0m: "
     ]
    }
   ],
   "source": [
    "trucks_per_iter = 0\n",
    "iters = 10\n",
    "start_time=time.time()\n",
    "\n",
    "for i in range(iters):\n",
    "\n",
    "        envios = [np.array(montecarlo(producto, num)) for num in montecarlo(pedidos,126) if num!=0]\n",
    "        envios_np = envios[:106]\n",
    "\n",
    "        dimensiones = []\n",
    "        for pedido in envios_np:\n",
    "            acumulado = 0\n",
    "            for i in pedido:\n",
    "                acumulado += volumenes[i]\n",
    "            dimensiones.append(round(acumulado,4))\n",
    "\n",
    "        result_array = mapa\n",
    "        # Ejemplo de uso\n",
    "\n",
    "        result_array_no_warehouse = remove_first_row_and_column(result_array)\n",
    "        X = result_array_no_warehouse\n",
    "\n",
    "        k = 6\n",
    "        medoids, cluster_assignments = k_medoids(X, k)\n",
    "\n",
    "        #print(\"Medoides finales:\")\n",
    "        #print(medoids)\n",
    "\n",
    "        clusters = {}\n",
    "        for i in range(k):\n",
    "            cluster_points = np.where(cluster_assignments == i)[0]\n",
    "            clusters[i] = cluster_points\n",
    "\n",
    "        #print(\"Nodos en cada cluster:\")\n",
    "        '''for cluster_id, node_indices in clusters.items():\n",
    "            print(f\"\\n***Cluster {cluster_id+1}*** \\nCantidad: {len(node_indices)}\\nNodos: {node_indices+1}\\n\")'''\n",
    "\n",
    "\n",
    "\n",
    "        vol_por_clus = {}\n",
    "\n",
    "        for clave, indices in clusters.items():\n",
    "            pesos = [dimensiones[indice] for indice in indices]\n",
    "            vol_por_clus[clave] = pesos\n",
    "\n",
    "\n",
    "        multiplier = 1\n",
    "        trucks_used = 0\n",
    "\n",
    "        for clave, VOLU in vol_por_clus.items():\n",
    "            incomplete = True\n",
    "            while incomplete:\n",
    "                data = {}\n",
    "                data[\"weights\"] = VOLU\n",
    "                #data[\"values\"] = len(data[\"weights\"]) * [1]\n",
    "                data[\"values\"] =  VOLU\n",
    "                sum_of_all_weights = sum(data[\"weights\"])\n",
    "\n",
    "                assert len(data[\"weights\"]) == len(data[\"values\"])\n",
    "                data[\"num_items\"] = len(data[\"weights\"])\n",
    "                data[\"all_items\"] = range(data[\"num_items\"])\n",
    "\n",
    "                data[\"bin_capacities\"] = [27] * multiplier\n",
    "                data[\"num_bins\"] = len(data[\"bin_capacities\"])\n",
    "                data[\"all_bins\"] = range(data[\"num_bins\"])\n",
    "\n",
    "                solver = pywraplp.Solver.CreateSolver(\"SCIP\")\n",
    "\n",
    "                # x[i, b] = 1 if item i is packed in bin b.\n",
    "                x = {}\n",
    "                for i in data[\"all_items\"]:\n",
    "                    for b in data[\"all_bins\"]:\n",
    "                        x[i, b] = solver.BoolVar(f\"x_{i}_{b}\")\n",
    "\n",
    "                # Each item is assigned to at most one bin.\n",
    "                for i in data[\"all_items\"]:\n",
    "                    solver.Add(sum(x[i, b] for b in data[\"all_bins\"]) <= 1)\n",
    "\n",
    "                # The amount packed in each bin cannot exceed its capacity.\n",
    "                for b in data[\"all_bins\"]:\n",
    "                    solver.Add(\n",
    "                        sum(x[i, b] * data[\"weights\"][i] for i in data[\"all_items\"])\n",
    "                        <= data[\"bin_capacities\"][b])\n",
    "\n",
    "                # Each bin must contain at least 2 items\n",
    "                for b in data[\"all_bins\"]:\n",
    "                    solver.Add(sum(x[i, b] for i in data[\"all_items\"]) <= 13)\n",
    "\n",
    "                 # Each bin must contain at most 20 items\n",
    "                '''for b in data[\"all_bins\"]:\n",
    "                    solver.Add(sum(x[i, b] for i in data[\"all_items\"]) <= 20)'''\n",
    "\n",
    "                # Maximize total value of packed items.\n",
    "                objective = solver.Objective()\n",
    "                for i in data[\"all_items\"]:\n",
    "                    for b in data[\"all_bins\"]:\n",
    "                        objective.SetCoefficient(x[i, b], data[\"values\"][i])\n",
    "                objective.SetMaximization()\n",
    "\n",
    "\n",
    "\n",
    "\n",
    "\n",
    "                start_time=time.time()\n",
    "                status = solver.Solve()\n",
    "\n",
    "                if status == pywraplp.Solver.OPTIMAL:\n",
    "\n",
    "                    unused_items = [i for i in data[\"all_items\"] if all(x[i, b].solution_value() == 0 for b in data[\"all_bins\"])]\n",
    "\n",
    "\n",
    "                    used_bins = [b for b in data[\"all_bins\"] if any(x[i, b].solution_value() > 0 for i in data[\"all_items\"])]\n",
    "                    if len(unused_items) != 0:\n",
    "                        multiplier += 1\n",
    "\n",
    "                    if len(unused_items) == 0:\n",
    "\n",
    "                        trucks_used += len(used_bins)\n",
    "                        incomplete = False\n",
    "\n",
    "\n",
    "\n",
    "                else:\n",
    "                    print(\"No existe solución óptima.\")\n",
    "\n",
    "\n",
    "        #print(f\"Camiones totales usados: {trucks_used}\")\n",
    "        trucks_per_iter += trucks_used\n",
    "        \n",
    "    \n",
    "\n",
    "end_time=time.time()-start_time\n",
    "print(f\"{end_time} segundos\")\n",
    "\n",
    "print(f\"Camiones promedio: {math.ceil(trucks_per_iter/iters)}\")"
   ]
  },
  {
   "cell_type": "code",
   "execution_count": null,
   "id": "948564a2",
   "metadata": {},
   "outputs": [],
   "source": [
    "len(dimensiones)"
   ]
  },
  {
   "cell_type": "code",
   "execution_count": null,
   "id": "1d332a13",
   "metadata": {},
   "outputs": [],
   "source": [
    "envios = [np.array(montecarlo(producto, num)) for num in montecarlo(pedidos,110) if num!=0]\n",
    "envios_np = envios[:106]"
   ]
  },
  {
   "cell_type": "code",
   "execution_count": null,
   "id": "33725aef",
   "metadata": {},
   "outputs": [],
   "source": [
    "dimensiones = []\n",
    "for pedido in envios_np:\n",
    "    acumulado = 0\n",
    "    for i in pedido:\n",
    "        acumulado += volumenes[i]\n",
    "    dimensiones.append(round(acumulado,4))"
   ]
  },
  {
   "cell_type": "code",
   "execution_count": null,
   "id": "f1dda569",
   "metadata": {
    "scrolled": false
   },
   "outputs": [],
   "source": [
    "\n",
    "# Ejemplo de uso\n",
    "\n",
    "result_array_no_warehouse = remove_first_row_and_column(result_array)\n",
    "X = result_array_no_warehouse\n",
    "\n",
    "k = 6\n",
    "medoids, cluster_assignments = k_medoids(X, k)\n",
    "\n",
    "#print(\"Medoides finales:\")\n",
    "#print(medoids)\n",
    "\n",
    "clusters = {}\n",
    "for i in range(k):\n",
    "    cluster_points = np.where(cluster_assignments == i)[0]\n",
    "    clusters[i] = cluster_points\n",
    "\n",
    "print(\"Nodos en cada cluster:\")\n",
    "for cluster_id, node_indices in clusters.items():\n",
    "    print(f\"\\n***Cluster {cluster_id+1}*** \\nCantidad: {len(node_indices)}\\nNodos: {node_indices+1}\\n\")\n",
    "\n"
   ]
  },
  {
   "cell_type": "code",
   "execution_count": null,
   "id": "da5d2da1",
   "metadata": {},
   "outputs": [],
   "source": [
    "clusters"
   ]
  },
  {
   "cell_type": "code",
   "execution_count": null,
   "id": "c115bcf4",
   "metadata": {},
   "outputs": [],
   "source": [
    "vol_por_clus = {}\n",
    "\n",
    "for clave, indices in clusters.items():\n",
    "    pesos = [dimensiones[indice] for indice in indices]\n",
    "    vol_por_clus[clave] = pesos\n",
    "\n",
    "vol_por_clus"
   ]
  },
  {
   "cell_type": "code",
   "execution_count": null,
   "id": "02606457",
   "metadata": {},
   "outputs": [],
   "source": [
    "multiplier = 1\n",
    "trucks_used = 0\n",
    "start_time=time.time()\n",
    "for clave, volumenes in vol_por_clus.items():\n",
    "    print(f\"**********CLUSTER # {clave + 1 }**********\\n\")\n",
    "    incomplete = True\n",
    "    while incomplete:\n",
    "        data = {}\n",
    "        data[\"weights\"] = volumenes\n",
    "        #data[\"values\"] = len(data[\"weights\"]) * [1]\n",
    "        data[\"values\"] =  volumenes\n",
    "        sum_of_all_weights = sum(data[\"weights\"])\n",
    "\n",
    "        assert len(data[\"weights\"]) == len(data[\"values\"])\n",
    "        data[\"num_items\"] = len(data[\"weights\"])\n",
    "        data[\"all_items\"] = range(data[\"num_items\"])\n",
    "\n",
    "        data[\"bin_capacities\"] = [27] * multiplier\n",
    "        data[\"num_bins\"] = len(data[\"bin_capacities\"])\n",
    "        data[\"all_bins\"] = range(data[\"num_bins\"])\n",
    "\n",
    "        solver = pywraplp.Solver.CreateSolver(\"SCIP\")\n",
    "\n",
    "        # x[i, b] = 1 if item i is packed in bin b.\n",
    "        x = {}\n",
    "        for i in data[\"all_items\"]:\n",
    "            for b in data[\"all_bins\"]:\n",
    "                x[i, b] = solver.BoolVar(f\"x_{i}_{b}\")\n",
    "\n",
    "        # Each item is assigned to at most one bin.\n",
    "        for i in data[\"all_items\"]:\n",
    "            solver.Add(sum(x[i, b] for b in data[\"all_bins\"]) <= 1)\n",
    "\n",
    "        # The amount packed in each bin cannot exceed its capacity.\n",
    "        for b in data[\"all_bins\"]:\n",
    "            solver.Add(\n",
    "                sum(x[i, b] * data[\"weights\"][i] for i in data[\"all_items\"])\n",
    "                <= data[\"bin_capacities\"][b])\n",
    "        \n",
    "        # Each bin must contain at least 2 items\n",
    "        '''for b in data[\"all_bins\"]:\n",
    "            solver.Add(sum(x[i, b] for i in data[\"all_items\"]) >= 2)'''\n",
    "            \n",
    "         # Each bin must contain at most 20 items\n",
    "        '''for b in data[\"all_bins\"]:\n",
    "            solver.Add(sum(x[i, b] for i in data[\"all_items\"]) <= 20)'''\n",
    "        \n",
    "        # Maximize total value of packed items.\n",
    "        objective = solver.Objective()\n",
    "        for i in data[\"all_items\"]:\n",
    "            for b in data[\"all_bins\"]:\n",
    "                objective.SetCoefficient(x[i, b], data[\"values\"][i])\n",
    "        objective.SetMaximization()\n",
    "\n",
    "\n",
    "\n",
    "\n",
    "\n",
    "        start_time=time.time()\n",
    "        status = solver.Solve()\n",
    "\n",
    "        if status == pywraplp.Solver.OPTIMAL:\n",
    "\n",
    "            unused_items = [i for i in data[\"all_items\"] if all(x[i, b].solution_value() == 0 for b in data[\"all_bins\"])]\n",
    "\n",
    "\n",
    "            used_bins = [b for b in data[\"all_bins\"] if any(x[i, b].solution_value() > 0 for i in data[\"all_items\"])]\n",
    "            if len(unused_items) != 0:\n",
    "                multiplier += 1\n",
    "\n",
    "            if len(unused_items) == 0:\n",
    "\n",
    "\n",
    "                print(f\"Número de camiones requeridos: {len(used_bins)}\\n\")\n",
    "\n",
    "                print(f\"Valor total empaquetado: {round(objective.Value(), 2)}\\n\")\n",
    "\n",
    "                max_value_bin = None\n",
    "                max_value = 0\n",
    "                total_weight = 0\n",
    "                total_value = 0\n",
    "                for b in used_bins:\n",
    "                    print(f\"*** CAMIÓN # {b+1} ***\")\n",
    "                    print(f'Capacidad: {data[\"bin_capacities\"][b]}')\n",
    "                    bin_weight = 0\n",
    "                    bin_value = 0\n",
    "                    packed_items = []\n",
    "                    for i in data[\"all_items\"]:\n",
    "                        if x[i, b].solution_value() > 0:\n",
    "                            packed_items.append(str(clusters[clave][i]+1))\n",
    "                            bin_weight += data[\"weights\"][i]\n",
    "                            bin_value += data[\"values\"][i]\n",
    "                    print(f\"Clientes empacados: {', '.join(packed_items)}\")\n",
    "                    print(f\"Volumen empaquetado en el camión: {round(bin_weight, 4)}\\n\")\n",
    "                    #print(f\"Valor empaquetado del camión: {bin_value}\\n\")\n",
    "                    total_value += bin_value\n",
    "                    total_weight += bin_weight\n",
    "                    if bin_value > max_value:\n",
    "                        max_value = bin_value\n",
    "                        max_value_bin = b\n",
    "\n",
    "                trucks_used += len(used_bins)\n",
    "                incomplete = False\n",
    "\n",
    "            # Print solution for the new bin (if exists)\n",
    "\n",
    "\n",
    "\n",
    "        else:\n",
    "            print(\"No existe solución óptima.\")\n",
    "end_time=time.time()-start_time\n",
    "\n",
    "print(f\"Camiones totales usados: {trucks_used}\")\n",
    "print(f\"{end_time} segundos\")"
   ]
  },
  {
   "cell_type": "code",
   "execution_count": null,
   "id": "0e7c8de8",
   "metadata": {
    "scrolled": true
   },
   "outputs": [],
   "source": [
    "for i in data[\"all_items\"]:\n",
    "    if x[i, b].solution_value() > 0:\n",
    "        data[]\n",
    "        print(i)"
   ]
  },
  {
   "cell_type": "code",
   "execution_count": null,
   "id": "c80fffe4",
   "metadata": {},
   "outputs": [],
   "source": [
    "clusters[0][0]"
   ]
  },
  {
   "cell_type": "code",
   "execution_count": null,
   "id": "37b25a32",
   "metadata": {},
   "outputs": [],
   "source": [
    "used_bins"
   ]
  },
  {
   "cell_type": "markdown",
   "id": "085057f3",
   "metadata": {},
   "source": [
    "### ***Mochila sobre medoides***"
   ]
  },
  {
   "cell_type": "code",
   "execution_count": null,
   "id": "b273dc52",
   "metadata": {},
   "outputs": [],
   "source": [
    "for clus in clusters:\n",
    "    data = {}\n",
    "    data[\"weights\"] = [48, 30, 42, 36, 36, 48, 42, 42, 36, 24, 30, 30, 42, 36] \n",
    "    data[\"values\"] = [10, 30, 25, 50, 35, 30, 15, 40, 30, 35, 45, 10, 20, 36]\n",
    "    sum_of_all_weights = sum(data[\"weights\"])\n",
    "\n",
    "    assert len(data[\"weights\"]) == len(data[\"values\"])\n",
    "    data[\"num_items\"] = len(data[\"weights\"])\n",
    "    data[\"all_items\"] = range(data[\"num_items\"])\n",
    "\n",
    "    data[\"bin_capacities\"] = [100, 100, 100, 100, 100, 100]\n",
    "    data[\"num_bins\"] = len(data[\"bin_capacities\"])\n",
    "    data[\"all_bins\"] = range(data[\"num_bins\"])"
   ]
  },
  {
   "cell_type": "code",
   "execution_count": null,
   "id": "98e5aa35",
   "metadata": {},
   "outputs": [],
   "source": [
    "mini_tcps = []\n",
    "for i in clusters:\n",
    "    i = list(clusters[i]) + [0]\n",
    "    mini_tcps.append(result_array[i,:][:,i])"
   ]
  },
  {
   "cell_type": "code",
   "execution_count": null,
   "id": "09ae612c",
   "metadata": {},
   "outputs": [],
   "source": [
    "mini_tcps[1]"
   ]
  },
  {
   "cell_type": "markdown",
   "id": "6ea29fc2",
   "metadata": {},
   "source": [
    "### Mochila Approach"
   ]
  },
  {
   "cell_type": "code",
   "execution_count": null,
   "id": "dfd69bef",
   "metadata": {},
   "outputs": [],
   "source": [
    "data = {}\n",
    "data[\"weights\"] = dimensiones\n",
    "data[\"values\"] = [1] * 100\n",
    "sum_of_all_weights = sum(data[\"weights\"])\n",
    "\n",
    "assert len(data[\"weights\"]) == len(data[\"values\"])\n",
    "data[\"num_items\"] = len(data[\"weights\"])\n",
    "data[\"all_items\"] = range(data[\"num_items\"])\n",
    "\n",
    "data[\"bin_capacities\"] = [27] * 4\n",
    "data[\"num_bins\"] = len(data[\"bin_capacities\"])\n",
    "data[\"all_bins\"] = range(data[\"num_bins\"])"
   ]
  },
  {
   "cell_type": "code",
   "execution_count": null,
   "id": "b790fd88",
   "metadata": {},
   "outputs": [],
   "source": [
    "solver = pywraplp.Solver.CreateSolver(\"SCIP\")"
   ]
  },
  {
   "cell_type": "code",
   "execution_count": null,
   "id": "3805100e",
   "metadata": {},
   "outputs": [],
   "source": [
    "# x[i, b] = 1 if item i is packed in bin b.\n",
    "x = {}\n",
    "for i in data[\"all_items\"]:\n",
    "    for b in data[\"all_bins\"]:\n",
    "        x[i, b] = solver.BoolVar(f\"x_{i}_{b}\")"
   ]
  },
  {
   "cell_type": "code",
   "execution_count": null,
   "id": "8cfb0c8c",
   "metadata": {},
   "outputs": [],
   "source": [
    "# Each item is assigned to at most one bin.\n",
    "for i in data[\"all_items\"]:\n",
    "    solver.Add(sum(x[i, b] for b in data[\"all_bins\"]) <= 1)\n",
    "\n",
    "# The amount packed in each bin cannot exceed its capacity.\n",
    "for b in data[\"all_bins\"]:\n",
    "    solver.Add(\n",
    "        sum(x[i, b] * data[\"weights\"][i] for i in data[\"all_items\"])\n",
    "        <= data[\"bin_capacities\"][b])\n",
    "    \n",
    "'''# Each item has to be shipped\n",
    "for i in data[\"all_items\"]:\n",
    "    solver.Add(sum(x[i, b] for b in data[\"all_bins\"]) == 1)'''"
   ]
  },
  {
   "cell_type": "code",
   "execution_count": null,
   "id": "ff94227c",
   "metadata": {},
   "outputs": [],
   "source": [
    "# Maximize total value of packed items.\n",
    "objective = solver.Objective()\n",
    "for i in data[\"all_items\"]:\n",
    "    for b in data[\"all_bins\"]:\n",
    "        objective.SetCoefficient(x[i, b], data[\"values\"][i])\n",
    "objective.SetMaximization()"
   ]
  },
  {
   "cell_type": "code",
   "execution_count": null,
   "id": "f7123e52",
   "metadata": {},
   "outputs": [],
   "source": [
    "start_time=time.time()\n",
    "status = solver.Solve()\n",
    "\n",
    "if status == pywraplp.Solver.OPTIMAL:\n",
    "    \n",
    "    used_bins = [b for b in data[\"all_bins\"] if any(x[i, b].solution_value() > 0 for i in data[\"all_items\"])]\n",
    "    \n",
    "    print(f\"Número de camiones requeridos: {len(used_bins)}\\n\")\n",
    "    \n",
    "    print(f\"Valor total empaquetado: {round(objective.Value(), 2)}\\n\")\n",
    "    \n",
    "    max_value_bin = None\n",
    "    max_value = 0\n",
    "    total_weight = 0\n",
    "    total_value = 0\n",
    "    for b in used_bins:\n",
    "        print(f\"*** CAMIÓN # {b+1} ***\")\n",
    "        print(f'Capacidad: {data[\"bin_capacities\"][b]}')\n",
    "        bin_weight = 0\n",
    "        bin_value = 0\n",
    "        packed_items = []\n",
    "        for i in data[\"all_items\"]:\n",
    "            if x[i, b].solution_value() > 0:\n",
    "                packed_items.append(str(i))\n",
    "                bin_weight += data[\"weights\"][i]\n",
    "                bin_value += data[\"values\"][i]\n",
    "        print(f\"Productos empacados: {', '.join(packed_items)}\")\n",
    "        print(f\"Volumen empaquetado en el camión: {round(bin_weight, 4)}\\n\")\n",
    "        #print(f\"Valor empaquetado del camión: {bin_value}\\n\")\n",
    "        total_value += bin_value\n",
    "        total_weight += bin_weight\n",
    "        if bin_value > max_value:\n",
    "            max_value = bin_value\n",
    "            max_value_bin = b\n",
    "    \n",
    "    print(f\"Volumen total empacado: {round(total_weight, 4)}\")\n",
    "    print(f\"Volumen no empacado: {round(sum_of_all_weights - total_weight, 4)}\")\n",
    "    \n",
    "    # Print solution for the new bin (if exists)\n",
    "    \n",
    "    unused_items = [i for i in data[\"all_items\"] if all(x[i, b].solution_value() == 0 for b in data[\"all_bins\"])]\n",
    "    if unused_items:\n",
    "        print(f\"\\n*** CAMIÓN DE SOBRANTES # {len(used_bins)+1} ***\")\n",
    "        bin_weight = 0\n",
    "        bin_value = 0\n",
    "        packed_items = []\n",
    "        for i in unused_items:\n",
    "            packed_items.append(str(i))\n",
    "            bin_weight += data[\"weights\"][i]\n",
    "            bin_value += data[\"values\"][i]\n",
    "        \n",
    "        print(f\"Productos: {', '.join(packed_items)}\")\n",
    "        print(f\"Volumen empaquetado en el camión de sobrantes: {round(bin_weight, 4)}\")\n",
    "        print(f\"Valor empaquetado del camión de sobrantes: {bin_value}\\n\")\n",
    "\n",
    "    else:\n",
    "        print(\"No hay camión extra.\")\n",
    "        \n",
    "    # Print solution for the bin with the highest value\n",
    "    if max_value_bin is not None:\n",
    "        print(f\"Camión más valioso: {max_value_bin+1} (Valor: {round(max_value, 4)})\")\n",
    "        \n",
    "else:\n",
    "    print(\"No existe solución óptima.\")\n",
    "end_time=time.time()-start_time\n",
    "print(f\"{end_time} segundos\")"
   ]
  },
  {
   "cell_type": "code",
   "execution_count": null,
   "id": "ec21ea71",
   "metadata": {},
   "outputs": [],
   "source": [
    "len(dimensiones)"
   ]
  },
  {
   "cell_type": "code",
   "execution_count": null,
   "id": "bd3c984e",
   "metadata": {},
   "outputs": [],
   "source": [
    "y = [1]*100\n",
    "len(y)"
   ]
  },
  {
   "cell_type": "code",
   "execution_count": null,
   "id": "676fb423",
   "metadata": {},
   "outputs": [],
   "source": [
    "for clus in clusters:\n",
    "    print(\"Hi\")"
   ]
  },
  {
   "cell_type": "code",
   "execution_count": null,
   "id": "c35299ae",
   "metadata": {},
   "outputs": [],
   "source": []
  }
 ],
 "metadata": {
  "kernelspec": {
   "display_name": "Python 3 (ipykernel)",
   "language": "python",
   "name": "python3"
  },
  "language_info": {
   "codemirror_mode": {
    "name": "ipython",
    "version": 3
   },
   "file_extension": ".py",
   "mimetype": "text/x-python",
   "name": "python",
   "nbconvert_exporter": "python",
   "pygments_lexer": "ipython3",
   "version": "3.8.16"
  }
 },
 "nbformat": 4,
 "nbformat_minor": 5
}
