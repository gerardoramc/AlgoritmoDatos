{
 "cells": [
  {
   "cell_type": "markdown",
   "id": "0a04f15b",
   "metadata": {},
   "source": [
    "# Fase Pre-Release de la entrega del reto\n",
    "### ***Secuencia***\n",
    "1. Generar frecuencias de ventas y simular una venta de 105 clientes.\n",
    "2. Tomar los volúmenes de las compras de los clientes para determinar la cantidad de camiones necesarios.\n",
    "3. Sabiendo los camiones, utilizar k-medoids para hacer los mini-tcps.\n",
    "4. Resolver los mtcps."
   ]
  },
  {
   "cell_type": "markdown",
   "id": "7e3e15cf",
   "metadata": {},
   "source": [
    "### ***Librerías***"
   ]
  },
  {
   "cell_type": "code",
   "execution_count": 55,
   "id": "7fc002af",
   "metadata": {},
   "outputs": [],
   "source": [
    "import pandas as pd\n",
    "import numpy as np\n",
    "\n",
    "import seaborn as sns\n",
    "import matplotlib.pyplot as plt\n",
    "import math\n",
    "\n",
    "from scipy.stats import poisson\n",
    "from scipy.stats import poisson\n",
    "from scipy.stats import chisquare\n",
    "\n",
    "\n",
    "from ortools.linear_solver import pywraplp\n",
    "\n",
    "from scipy.spatial.distance import cdist\n",
    "\n",
    "import time"
   ]
  },
  {
   "cell_type": "markdown",
   "id": "3d12a6bf",
   "metadata": {},
   "source": [
    "## Paso 1. Simular un pedido de 100 clientes"
   ]
  },
  {
   "cell_type": "code",
   "execution_count": 56,
   "id": "3f2aa321",
   "metadata": {},
   "outputs": [],
   "source": [
    "compras = pd.read_excel('informacion_compra.xlsx')"
   ]
  },
  {
   "cell_type": "code",
   "execution_count": 57,
   "id": "99464cd9",
   "metadata": {},
   "outputs": [
    {
     "data": {
      "text/html": [
       "<div>\n",
       "<style scoped>\n",
       "    .dataframe tbody tr th:only-of-type {\n",
       "        vertical-align: middle;\n",
       "    }\n",
       "\n",
       "    .dataframe tbody tr th {\n",
       "        vertical-align: top;\n",
       "    }\n",
       "\n",
       "    .dataframe thead th {\n",
       "        text-align: right;\n",
       "    }\n",
       "</style>\n",
       "<table border=\"1\" class=\"dataframe\">\n",
       "  <thead>\n",
       "    <tr style=\"text-align: right;\">\n",
       "      <th></th>\n",
       "      <th>Producto</th>\n",
       "      <th>Unidades</th>\n",
       "      <th>Factura</th>\n",
       "    </tr>\n",
       "  </thead>\n",
       "  <tbody>\n",
       "    <tr>\n",
       "      <th>0</th>\n",
       "      <td>48443</td>\n",
       "      <td>1</td>\n",
       "      <td>799186</td>\n",
       "    </tr>\n",
       "    <tr>\n",
       "      <th>1</th>\n",
       "      <td>42877</td>\n",
       "      <td>1</td>\n",
       "      <td>717106</td>\n",
       "    </tr>\n",
       "    <tr>\n",
       "      <th>2</th>\n",
       "      <td>48296</td>\n",
       "      <td>1</td>\n",
       "      <td>468125</td>\n",
       "    </tr>\n",
       "  </tbody>\n",
       "</table>\n",
       "</div>"
      ],
      "text/plain": [
       "   Producto   Unidades   Factura\n",
       "0     48443           1   799186\n",
       "1     42877           1   717106\n",
       "2     48296           1   468125"
      ]
     },
     "execution_count": 57,
     "metadata": {},
     "output_type": "execute_result"
    }
   ],
   "source": [
    "compras.head(3)"
   ]
  },
  {
   "cell_type": "code",
   "execution_count": 58,
   "id": "97ad2ebf",
   "metadata": {},
   "outputs": [],
   "source": [
    "facturas = []\n",
    "productos = []\n",
    "for _,i in compras.iterrows():\n",
    "    facturas += [i[2]]*i[1]\n",
    "for _,i in compras.iterrows():\n",
    "    productos += [i[0]]*i[1]\n",
    "\n",
    "compras = pd.DataFrame({\n",
    "    \"Factura\": facturas,\n",
    "    \"Producto\": productos\n",
    "})"
   ]
  },
  {
   "cell_type": "code",
   "execution_count": 59,
   "id": "0dbcfe82",
   "metadata": {},
   "outputs": [
    {
     "data": {
      "text/html": [
       "<div>\n",
       "<style scoped>\n",
       "    .dataframe tbody tr th:only-of-type {\n",
       "        vertical-align: middle;\n",
       "    }\n",
       "\n",
       "    .dataframe tbody tr th {\n",
       "        vertical-align: top;\n",
       "    }\n",
       "\n",
       "    .dataframe thead th {\n",
       "        text-align: right;\n",
       "    }\n",
       "</style>\n",
       "<table border=\"1\" class=\"dataframe\">\n",
       "  <thead>\n",
       "    <tr style=\"text-align: right;\">\n",
       "      <th></th>\n",
       "      <th>Pedidos</th>\n",
       "      <th>Frecuencia</th>\n",
       "      <th>Frecuencia ln</th>\n",
       "      <th>Poisson</th>\n",
       "      <th>valores_esperados</th>\n",
       "    </tr>\n",
       "  </thead>\n",
       "  <tbody>\n",
       "    <tr>\n",
       "      <th>0</th>\n",
       "      <td>1</td>\n",
       "      <td>19235</td>\n",
       "      <td>9.864487</td>\n",
       "      <td>0.011672</td>\n",
       "      <td>0.783311</td>\n",
       "    </tr>\n",
       "    <tr>\n",
       "      <th>1</th>\n",
       "      <td>2</td>\n",
       "      <td>3546</td>\n",
       "      <td>8.173575</td>\n",
       "      <td>0.036706</td>\n",
       "      <td>2.463277</td>\n",
       "    </tr>\n",
       "    <tr>\n",
       "      <th>2</th>\n",
       "      <td>3</td>\n",
       "      <td>1024</td>\n",
       "      <td>6.931472</td>\n",
       "      <td>0.076953</td>\n",
       "      <td>5.164178</td>\n",
       "    </tr>\n",
       "  </tbody>\n",
       "</table>\n",
       "</div>"
      ],
      "text/plain": [
       "   Pedidos  Frecuencia  Frecuencia ln   Poisson  valores_esperados\n",
       "0        1       19235       9.864487  0.011672           0.783311\n",
       "1        2        3546       8.173575  0.036706           2.463277\n",
       "2        3        1024       6.931472  0.076953           5.164178"
      ]
     },
     "execution_count": 59,
     "metadata": {},
     "output_type": "execute_result"
    }
   ],
   "source": [
    "df = compras.groupby(['Factura']).size().reset_index(name='Frequency').Frequency.value_counts()\n",
    "df = df.reset_index()\n",
    "df.columns = ['Pedidos', 'Frecuencia']\n",
    "df['Frecuencia ln'] = np.log(df['Frecuencia'])\n",
    "valor_medio = np.sum(df['Pedidos'] * df['Frecuencia ln']) / np.sum(df['Frecuencia ln'])\n",
    "df['Poisson'] = poisson.pmf(df['Pedidos'], valor_medio)\n",
    "df['valores_esperados'] = df['Poisson'] * np.sum(df['Frecuencia ln'])\n",
    "df.head(3)"
   ]
  },
  {
   "cell_type": "code",
   "execution_count": 60,
   "id": "2c86d575",
   "metadata": {},
   "outputs": [
    {
     "data": {
      "text/html": [
       "<div>\n",
       "<style scoped>\n",
       "    .dataframe tbody tr th:only-of-type {\n",
       "        vertical-align: middle;\n",
       "    }\n",
       "\n",
       "    .dataframe tbody tr th {\n",
       "        vertical-align: top;\n",
       "    }\n",
       "\n",
       "    .dataframe thead th {\n",
       "        text-align: right;\n",
       "    }\n",
       "</style>\n",
       "<table border=\"1\" class=\"dataframe\">\n",
       "  <thead>\n",
       "    <tr style=\"text-align: right;\">\n",
       "      <th></th>\n",
       "      <th>Producto</th>\n",
       "      <th>Frecuencia</th>\n",
       "      <th>Frecuencia ln</th>\n",
       "      <th>Poisson</th>\n",
       "      <th>valores_esperados</th>\n",
       "    </tr>\n",
       "  </thead>\n",
       "  <tbody>\n",
       "    <tr>\n",
       "      <th>0</th>\n",
       "      <td>1</td>\n",
       "      <td>1793</td>\n",
       "      <td>7.491645</td>\n",
       "      <td>1.565792e-11</td>\n",
       "      <td>2.886239e-09</td>\n",
       "    </tr>\n",
       "    <tr>\n",
       "      <th>1</th>\n",
       "      <td>2</td>\n",
       "      <td>779</td>\n",
       "      <td>6.658011</td>\n",
       "      <td>2.209339e-10</td>\n",
       "      <td>4.072494e-08</td>\n",
       "    </tr>\n",
       "    <tr>\n",
       "      <th>2</th>\n",
       "      <td>3</td>\n",
       "      <td>414</td>\n",
       "      <td>6.025866</td>\n",
       "      <td>2.078257e-09</td>\n",
       "      <td>3.830870e-07</td>\n",
       "    </tr>\n",
       "  </tbody>\n",
       "</table>\n",
       "</div>"
      ],
      "text/plain": [
       "   Producto  Frecuencia  Frecuencia ln       Poisson  valores_esperados\n",
       "0         1        1793       7.491645  1.565792e-11       2.886239e-09\n",
       "1         2         779       6.658011  2.209339e-10       4.072494e-08\n",
       "2         3         414       6.025866  2.078257e-09       3.830870e-07"
      ]
     },
     "execution_count": 60,
     "metadata": {},
     "output_type": "execute_result"
    }
   ],
   "source": [
    "df2 = compras.groupby(['Producto']).size().reset_index(name='Frequency').Frequency.value_counts()\n",
    "df2 = df2.reset_index()\n",
    "df2.columns = ['Producto', 'Frecuencia']\n",
    "df2['Frecuencia ln'] = np.log(df2['Frecuencia'])\n",
    "valor_medio = np.sum(df2['Producto'] * df2['Frecuencia ln']) / np.sum(df2['Frecuencia ln'])\n",
    "df2['Poisson'] = poisson.pmf(df2['Producto'], valor_medio)\n",
    "df2['valores_esperados'] = df2['Poisson'] * np.sum(df2['Frecuencia ln'])\n",
    "df2.head(3)"
   ]
  },
  {
   "cell_type": "code",
   "execution_count": 61,
   "id": "92eae964",
   "metadata": {},
   "outputs": [],
   "source": [
    "def montecarlo(df, n):  \n",
    "    resultados = []\n",
    "    for _ in range(n):\n",
    "        num = np.random.rand()\n",
    "        for j in range(len(df)):\n",
    "            if df[j][3] <= num < df[j][4]:\n",
    "                resultados.append(j)\n",
    "            \n",
    "    return resultados"
   ]
  },
  {
   "cell_type": "code",
   "execution_count": 62,
   "id": "3b3255df",
   "metadata": {},
   "outputs": [
    {
     "name": "stderr",
     "output_type": "stream",
     "text": [
      "C:\\Users\\gerar\\AppData\\Local\\Temp\\ipykernel_21848\\3932492861.py:2: SettingWithCopyWarning: \n",
      "A value is trying to be set on a copy of a slice from a DataFrame.\n",
      "Try using .loc[row_indexer,col_indexer] = value instead\n",
      "\n",
      "See the caveats in the documentation: https://pandas.pydata.org/pandas-docs/stable/user_guide/indexing.html#returning-a-view-versus-a-copy\n",
      "  pedidos['Acumulado'] = pedidos.Poisson.cumsum()\n",
      "C:\\Users\\gerar\\AppData\\Local\\Temp\\ipykernel_21848\\3932492861.py:3: SettingWithCopyWarning: \n",
      "A value is trying to be set on a copy of a slice from a DataFrame.\n",
      "Try using .loc[row_indexer,col_indexer] = value instead\n",
      "\n",
      "See the caveats in the documentation: https://pandas.pydata.org/pandas-docs/stable/user_guide/indexing.html#returning-a-view-versus-a-copy\n",
      "  pedidos['Inferior'] = [0] + pedidos['Acumulado'].tolist()[:-1]\n"
     ]
    }
   ],
   "source": [
    "pedidos = df[['Pedidos','Poisson']]\n",
    "pedidos['Acumulado'] = pedidos.Poisson.cumsum()\n",
    "pedidos['Inferior'] = [0] + pedidos['Acumulado'].tolist()[:-1]\n",
    "pedidos['Superior'] = pedidos['Acumulado']\n",
    "pedidos = pedidos.to_numpy()"
   ]
  },
  {
   "cell_type": "code",
   "execution_count": 63,
   "id": "fe6d629a",
   "metadata": {},
   "outputs": [],
   "source": [
    "#num_pedidos = montecarlo(pedidos,df.Frecuencia.sum())\n",
    "num_pedidos = montecarlo(pedidos,compras.size)\n"
   ]
  },
  {
   "cell_type": "code",
   "execution_count": 64,
   "id": "f6f245eb",
   "metadata": {},
   "outputs": [
    {
     "name": "stderr",
     "output_type": "stream",
     "text": [
      "C:\\Users\\gerar\\AppData\\Local\\Temp\\ipykernel_21848\\3891866760.py:2: SettingWithCopyWarning: \n",
      "A value is trying to be set on a copy of a slice from a DataFrame.\n",
      "Try using .loc[row_indexer,col_indexer] = value instead\n",
      "\n",
      "See the caveats in the documentation: https://pandas.pydata.org/pandas-docs/stable/user_guide/indexing.html#returning-a-view-versus-a-copy\n",
      "  producto['Acumulado'] = producto.Poisson.cumsum()\n",
      "C:\\Users\\gerar\\AppData\\Local\\Temp\\ipykernel_21848\\3891866760.py:3: SettingWithCopyWarning: \n",
      "A value is trying to be set on a copy of a slice from a DataFrame.\n",
      "Try using .loc[row_indexer,col_indexer] = value instead\n",
      "\n",
      "See the caveats in the documentation: https://pandas.pydata.org/pandas-docs/stable/user_guide/indexing.html#returning-a-view-versus-a-copy\n",
      "  producto['Inferior'] = [0] + producto['Acumulado'].tolist()[:-1]\n"
     ]
    }
   ],
   "source": [
    "producto = df2[['Producto','Poisson']]\n",
    "producto['Acumulado'] = producto.Poisson.cumsum()\n",
    "producto['Inferior'] = [0] + producto['Acumulado'].tolist()[:-1]\n",
    "producto['Superior'] = producto['Acumulado']\n",
    "producto = producto.to_numpy()"
   ]
  },
  {
   "cell_type": "code",
   "execution_count": 65,
   "id": "1d332a13",
   "metadata": {},
   "outputs": [],
   "source": [
    "envios = [np.array(montecarlo(producto, num)) for num in montecarlo(pedidos,110) if num!=0]\n",
    "envios_np = envios[:106]"
   ]
  },
  {
   "cell_type": "code",
   "execution_count": 66,
   "id": "55525239",
   "metadata": {},
   "outputs": [
    {
     "data": {
      "text/plain": [
       "array([[ -1,  -1,  -1],\n",
       "       [  0,  18,   1],\n",
       "       [  0,  25,   1],\n",
       "       ...,\n",
       "       [109,  26,   1],\n",
       "       [109,  32,   1],\n",
       "       [109,  50,   1]], dtype=int64)"
      ]
     },
     "execution_count": 66,
     "metadata": {},
     "output_type": "execute_result"
    }
   ],
   "source": [
    "enviosArreglo = np.array([[-1,-1,-1]])\n",
    "for i in range(len(envios)):\n",
    "    a = np.unique(np.array(envios[i]), return_counts=True)\n",
    "    enviosArreglo = np.concatenate((enviosArreglo, np.array([np.array([i]*len(a[0])),a[0],a[1]]).T))\n",
    "enviosArreglo"
   ]
  },
  {
   "cell_type": "code",
   "execution_count": 67,
   "id": "16a3e5e2",
   "metadata": {},
   "outputs": [],
   "source": [
    "dp = pd.read_csv('info_productos.csv')\n",
    "dp.columns = ['Producto', 'Volumen']\n",
    "nuevo_registro = {\"Producto\": 0, \"Volumen\": 0}\n",
    "dp = pd.concat([pd.DataFrame([nuevo_registro]), dp], ignore_index=True)\n",
    "volumenes = dp.to_numpy()[:,1]"
   ]
  },
  {
   "cell_type": "code",
   "execution_count": 68,
   "id": "33725aef",
   "metadata": {},
   "outputs": [],
   "source": [
    "dimensiones = []\n",
    "for pedido in envios_np:\n",
    "    acumulado = 0\n",
    "    for i in pedido:\n",
    "        acumulado += volumenes[i]\n",
    "    dimensiones.append(round(acumulado,4))"
   ]
  },
  {
   "cell_type": "markdown",
   "id": "36780a1a",
   "metadata": {},
   "source": [
    "## Paso 3. Sabiendo los camiones necesarios, hacer clusters"
   ]
  },
  {
   "cell_type": "code",
   "execution_count": 70,
   "id": "8e9a6cce",
   "metadata": {},
   "outputs": [
    {
     "data": {
      "text/html": [
       "<div>\n",
       "<style scoped>\n",
       "    .dataframe tbody tr th:only-of-type {\n",
       "        vertical-align: middle;\n",
       "    }\n",
       "\n",
       "    .dataframe tbody tr th {\n",
       "        vertical-align: top;\n",
       "    }\n",
       "\n",
       "    .dataframe thead th {\n",
       "        text-align: right;\n",
       "    }\n",
       "</style>\n",
       "<table border=\"1\" class=\"dataframe\">\n",
       "  <thead>\n",
       "    <tr style=\"text-align: right;\">\n",
       "      <th></th>\n",
       "      <th>Distance</th>\n",
       "      <th>Duration</th>\n",
       "    </tr>\n",
       "  </thead>\n",
       "  <tbody>\n",
       "    <tr>\n",
       "      <th>0</th>\n",
       "      <td>0.00</td>\n",
       "      <td>0:00</td>\n",
       "    </tr>\n",
       "    <tr>\n",
       "      <th>1</th>\n",
       "      <td>15.26</td>\n",
       "      <td>0:22</td>\n",
       "    </tr>\n",
       "    <tr>\n",
       "      <th>2</th>\n",
       "      <td>14.93</td>\n",
       "      <td>0:17</td>\n",
       "    </tr>\n",
       "  </tbody>\n",
       "</table>\n",
       "</div>"
      ],
      "text/plain": [
       "   Distance Duration\n",
       "0      0.00     0:00\n",
       "1     15.26     0:22\n",
       "2     14.93     0:17"
      ]
     },
     "execution_count": 70,
     "metadata": {},
     "output_type": "execute_result"
    }
   ],
   "source": [
    "path = \"https://raw.githubusercontent.com/gerardoramc/AlgoritmoDatos/Gerardo/distancias_tiempos2.csv\"\n",
    "df = pd.read_csv(path)\n",
    "df.head(3)"
   ]
  },
  {
   "cell_type": "code",
   "execution_count": 71,
   "id": "e06a5aad",
   "metadata": {},
   "outputs": [],
   "source": [
    "df['Duration'] = pd.to_datetime(df['Duration'])\n",
    "df['Duration'] = df['Duration'].dt.strftime('%H:%M')\n",
    "df['Duration']=df['Duration'].astype('string')"
   ]
  },
  {
   "cell_type": "code",
   "execution_count": 72,
   "id": "1fb17a7e",
   "metadata": {},
   "outputs": [],
   "source": [
    "\n",
    "def convert_to_seconds(time_str):\n",
    "    hours, minutes = map(int, time_str.split(':'))\n",
    "    total_seconds = hours * 3600 + minutes * 60\n",
    "    return total_seconds\n",
    "\n",
    "# Apply the conversion function to the DataFrame column\n",
    "df['Segundos'] = df['Duration'].apply(convert_to_seconds)"
   ]
  },
  {
   "cell_type": "code",
   "execution_count": 73,
   "id": "f5c4dc05",
   "metadata": {},
   "outputs": [],
   "source": [
    "rangos = np.arange(0,11236,106)"
   ]
  },
  {
   "cell_type": "code",
   "execution_count": 74,
   "id": "7aa8871f",
   "metadata": {},
   "outputs": [
    {
     "data": {
      "text/plain": [
       "(106, 106)"
      ]
     },
     "execution_count": 74,
     "metadata": {},
     "output_type": "execute_result"
    }
   ],
   "source": [
    "cuadrada = []\n",
    "for i in range(len(rangos)-1):\n",
    "    cuadrada.append(list((df['Segundos'][rangos[i]:rangos[i+1]])))\n",
    "result_array = np.append(np.array(cuadrada), [(df['Segundos'][rangos[-1]:])], axis = 0)\n",
    "result_array.shape"
   ]
  },
  {
   "cell_type": "code",
   "execution_count": 75,
   "id": "bcb5d9f3",
   "metadata": {},
   "outputs": [],
   "source": [
    "def remove_first_row_and_column(input_array):\n",
    "    if input_array.shape[0] <= 1 or input_array.shape[1] <= 1:\n",
    "        raise ValueError(\"Input array must have at least 2 rows and 2 columns.\")\n",
    "\n",
    "    new_array = input_array[1:, 1:]\n",
    "    return new_array\n"
   ]
  },
  {
   "cell_type": "code",
   "execution_count": 77,
   "id": "47dc0bc2",
   "metadata": {},
   "outputs": [],
   "source": [
    "vol_por_clus = {}\n",
    "\n",
    "for clave, indices in clusters.items():\n",
    "    pesos = [dimensiones[indice] for indice in indices]\n",
    "    vol_por_clus[clave] = pesos\n"
   ]
  },
  {
   "cell_type": "code",
   "execution_count": 78,
   "id": "e98d991a",
   "metadata": {},
   "outputs": [
    {
     "name": "stdout",
     "output_type": "stream",
     "text": [
      "**********CLUSTER # 1**********\n",
      "\n",
      "Número de camiones requeridos: 1\n",
      "\n",
      "Valor total empaquetado: 15.16\n",
      "\n",
      "*** CAMIÓN # 1 ***\n",
      "Capacidad: 27\n",
      "Clientes empacados: 7, 8, 15, 24, 37, 45, 51, 62, 86, 89, 105\n",
      "Volumen empaquetado en el camión: 15.1578\n",
      "\n",
      "**********CLUSTER # 2**********\n",
      "\n",
      "Número de camiones requeridos: 1\n",
      "\n",
      "Valor total empaquetado: 7.26\n",
      "\n",
      "*** CAMIÓN # 1 ***\n",
      "Capacidad: 27\n",
      "Clientes empacados: 14, 21, 23, 73, 76, 77, 82, 95, 100, 104\n",
      "Volumen empaquetado en el camión: 7.257\n",
      "\n",
      "**********CLUSTER # 3**********\n",
      "\n",
      "Número de camiones requeridos: 1\n",
      "\n",
      "Valor total empaquetado: 6.38\n",
      "\n",
      "*** CAMIÓN # 1 ***\n",
      "Capacidad: 27\n",
      "Clientes empacados: 3, 12, 22, 33, 41, 48, 78, 79, 80\n",
      "Volumen empaquetado en el camión: 6.3791\n",
      "\n",
      "**********CLUSTER # 4**********\n",
      "\n",
      "Número de camiones requeridos: 6\n",
      "\n",
      "Valor total empaquetado: 71.54\n",
      "\n",
      "*** CAMIÓN # 1 ***\n",
      "Capacidad: 27\n",
      "Clientes empacados: 1, 2, 4, 5, 6, 10, 11, 13, 16, 17, 18, 19, 25\n",
      "Volumen empaquetado en el camión: 14.5185\n",
      "\n",
      "*** CAMIÓN # 2 ***\n",
      "Capacidad: 27\n",
      "Clientes empacados: 26, 27, 28, 29, 30, 31, 32, 34, 35, 36, 38, 39, 40\n",
      "Volumen empaquetado en el camión: 12.4175\n",
      "\n",
      "*** CAMIÓN # 3 ***\n",
      "Capacidad: 27\n",
      "Clientes empacados: 42, 43, 44, 49, 50, 53, 54, 55, 56, 57, 58, 59, 60\n",
      "Volumen empaquetado en el camión: 12.1254\n",
      "\n",
      "*** CAMIÓN # 4 ***\n",
      "Capacidad: 27\n",
      "Clientes empacados: 61, 64, 65, 66, 67, 68, 69, 70, 71, 72, 75, 81, 83\n",
      "Volumen empaquetado en el camión: 12.9411\n",
      "\n",
      "*** CAMIÓN # 5 ***\n",
      "Capacidad: 27\n",
      "Clientes empacados: 85, 87, 88, 90, 91, 92, 93, 94, 96, 97, 98, 99, 101\n",
      "Volumen empaquetado en el camión: 16.6199\n",
      "\n",
      "*** CAMIÓN # 6 ***\n",
      "Capacidad: 27\n",
      "Clientes empacados: 103\n",
      "Volumen empaquetado en el camión: 2.9138\n",
      "\n",
      "**********CLUSTER # 5**********\n",
      "\n",
      "Número de camiones requeridos: 1\n",
      "\n",
      "Valor total empaquetado: 10.6\n",
      "\n",
      "*** CAMIÓN # 1 ***\n",
      "Capacidad: 27\n",
      "Clientes empacados: 9, 20, 46, 47, 52, 63, 74, 84, 102\n",
      "Volumen empaquetado en el camión: 10.5982\n",
      "\n",
      "Camiones totales usados: 10\n",
      "0.0010304450988769531 segundos\n"
     ]
    }
   ],
   "source": [
    "multiplier = 1\n",
    "trucks_used = 0\n",
    "start_time=time.time()\n",
    "\n",
    "for clave, volumenes in vol_por_clus.items():\n",
    "\n",
    "    print(f\"**********CLUSTER # {clave + 1 }**********\\n\")\n",
    "    incomplete = True\n",
    "    while incomplete:\n",
    "        data = {}\n",
    "        data[\"weights\"] = volumenes\n",
    "        #data[\"values\"] = len(data[\"weights\"]) * [1]\n",
    "        data[\"values\"] =  volumenes\n",
    "        sum_of_all_weights = sum(data[\"weights\"])\n",
    "\n",
    "        assert len(data[\"weights\"]) == len(data[\"values\"])\n",
    "        data[\"num_items\"] = len(data[\"weights\"])\n",
    "        data[\"all_items\"] = range(data[\"num_items\"])\n",
    "\n",
    "        data[\"bin_capacities\"] = [27] * multiplier\n",
    "        data[\"num_bins\"] = len(data[\"bin_capacities\"])\n",
    "        data[\"all_bins\"] = range(data[\"num_bins\"])\n",
    "\n",
    "        solver = pywraplp.Solver.CreateSolver(\"SCIP\")\n",
    "\n",
    "        # x[i, b] = 1 if item i is packed in bin b.\n",
    "        x = {}\n",
    "        for i in data[\"all_items\"]:\n",
    "            for b in data[\"all_bins\"]:\n",
    "                x[i, b] = solver.BoolVar(f\"x_{i}_{b}\")\n",
    "\n",
    "        # Each item is assigned to at most one bin.\n",
    "        for i in data[\"all_items\"]:\n",
    "            solver.Add(sum(x[i, b] for b in data[\"all_bins\"]) <= 1)\n",
    "\n",
    "        # The amount packed in each bin cannot exceed its capacity.\n",
    "        for b in data[\"all_bins\"]:\n",
    "            solver.Add(\n",
    "                sum(x[i, b] * data[\"weights\"][i] for i in data[\"all_items\"])\n",
    "                <= data[\"bin_capacities\"][b])\n",
    "        \n",
    "        # Each bin must contain at least 2 items\n",
    "        for b in data[\"all_bins\"]:\n",
    "            solver.Add(sum(x[i, b] for i in data[\"all_items\"]) <= 13)\n",
    "            \n",
    "         # Each bin must contain at most 20 items\n",
    "        '''for b in data[\"all_bins\"]:\n",
    "            solver.Add(sum(x[i, b] for i in data[\"all_items\"]) <= 20)'''\n",
    "        \n",
    "        # Maximize total value of packed items.\n",
    "        objective = solver.Objective()\n",
    "        for i in data[\"all_items\"]:\n",
    "            for b in data[\"all_bins\"]:\n",
    "                objective.SetCoefficient(x[i, b], data[\"values\"][i])\n",
    "        objective.SetMaximization()\n",
    "\n",
    "\n",
    "\n",
    "\n",
    "\n",
    "        start_time=time.time()\n",
    "        status = solver.Solve()\n",
    "\n",
    "        if status == pywraplp.Solver.OPTIMAL:\n",
    "\n",
    "            unused_items = [i for i in data[\"all_items\"] if all(x[i, b].solution_value() == 0 for b in data[\"all_bins\"])]\n",
    "\n",
    "\n",
    "            used_bins = [b for b in data[\"all_bins\"] if any(x[i, b].solution_value() > 0 for i in data[\"all_items\"])]\n",
    "            if len(unused_items) != 0:\n",
    "                multiplier += 1\n",
    "\n",
    "            if len(unused_items) == 0:\n",
    "\n",
    "\n",
    "                print(f\"Número de camiones requeridos: {len(used_bins)}\\n\")\n",
    "\n",
    "                print(f\"Valor total empaquetado: {round(objective.Value(), 2)}\\n\")\n",
    "\n",
    "                max_value_bin = None\n",
    "                max_value = 0\n",
    "                total_weight = 0\n",
    "                total_value = 0\n",
    "                for b in used_bins:\n",
    "                    print(f\"*** CAMIÓN # {b+1} ***\")\n",
    "                    print(f'Capacidad: {data[\"bin_capacities\"][b]}')\n",
    "                    bin_weight = 0\n",
    "                    bin_value = 0\n",
    "                    packed_items = []\n",
    "                    for i in data[\"all_items\"]:\n",
    "                        if x[i, b].solution_value() > 0:\n",
    "                            packed_items.append(str(clusters[clave][i]+1))\n",
    "                            bin_weight += data[\"weights\"][i]\n",
    "                            bin_value += data[\"values\"][i]\n",
    "                    print(f\"Clientes empacados: {', '.join(packed_items)}\")\n",
    "                    print(f\"Volumen empaquetado en el camión: {round(bin_weight, 4)}\\n\")\n",
    "                    #print(f\"Valor empaquetado del camión: {bin_value}\\n\")\n",
    "                    total_value += bin_value\n",
    "                    total_weight += bin_weight\n",
    "                    if bin_value > max_value:\n",
    "                        max_value = bin_value\n",
    "                        max_value_bin = b\n",
    "\n",
    "                trucks_used += len(used_bins)\n",
    "                incomplete = False\n",
    "\n",
    "            # Print solution for the new bin (if exists)\n",
    "\n",
    "\n",
    "\n",
    "        else:\n",
    "            print(\"No existe solución óptima.\")\n",
    "end_time=time.time()-start_time\n",
    "\n",
    "print(f\"Camiones totales usados: {trucks_used}\")\n",
    "print(f\"{end_time} segundos\")"
   ]
  },
  {
   "cell_type": "code",
   "execution_count": 79,
   "id": "66767b58",
   "metadata": {},
   "outputs": [
    {
     "name": "stdout",
     "output_type": "stream",
     "text": [
      "0\n",
      "1\n",
      "2\n",
      "3\n",
      "4\n"
     ]
    },
    {
     "data": {
      "text/plain": [
       "array([[   0, 1440, 1500, 1260, 1200, 2280,  960, 1320,  840, 1380, 1140],\n",
       "       [1440,    0,  360,  660, 1440, 1140, 1620, 1320, 1380, 1020, 1500],\n",
       "       [1680,  540,    0,  780, 1680,  900, 1860, 1560, 1620, 1080, 1560],\n",
       "       [1200,  600,  480,    0, 1320, 1320, 1380, 1200, 1200,  600, 1200],\n",
       "       [1200, 1440, 1440, 1260,    0, 2220,  780,  240,  660, 1320,  360],\n",
       "       [2220, 1020,  900, 1320, 2220,    0, 2400, 2100, 2160, 1620, 2280],\n",
       "       [1080, 1680, 1680, 1500,  840, 2460,    0,  960,  420, 1560,  900],\n",
       "       [1440, 1380, 1440, 1200,  240, 2160,  960,    0,  840, 1320,  420],\n",
       "       [ 900, 1560, 1560, 1380,  720, 2340,  540,  840,    0, 1440,  780],\n",
       "       [1380,  960,  900,  540, 1320, 1680, 1560, 1200, 1380,    0, 1260],\n",
       "       [1080, 1560, 1440, 1260,  300, 2340,  720,  420,  660, 1320,    0]],\n",
       "      dtype=int64)"
      ]
     },
     "execution_count": 79,
     "metadata": {},
     "output_type": "execute_result"
    }
   ],
   "source": [
    "\n",
    "packed_items = [int(x) for x in packed_items]\n",
    "mini_tcps = []\n",
    "for i in clusters:\n",
    "    print(i)\n",
    "    i = list(clusters[i]) + [0]\n",
    "\n",
    "    mini_tcps.append(result_array[i,:][:,i])\n",
    "\n",
    "mini_tcps[1]"
   ]
  }
 ],
 "metadata": {
  "kernelspec": {
   "display_name": "Python 3 (ipykernel)",
   "language": "python",
   "name": "python3"
  },
  "language_info": {
   "codemirror_mode": {
    "name": "ipython",
    "version": 3
   },
   "file_extension": ".py",
   "mimetype": "text/x-python",
   "name": "python",
   "nbconvert_exporter": "python",
   "pygments_lexer": "ipython3",
   "version": "3.8.16"
  }
 },
 "nbformat": 4,
 "nbformat_minor": 5
}
